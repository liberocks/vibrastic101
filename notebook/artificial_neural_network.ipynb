{
 "cells": [
  {
   "cell_type": "markdown",
   "metadata": {},
   "source": [
    "<div align='left' style=\"width:400px;height:120px;overflow:hidden;\">\n",
    "<a href='http://www.uff.br'>\n",
    "<img align='left' style='display: block;height: 92%' src='imgs/UFF.png' alt='UFF logo' title='UFF logo'/>\n",
    "</a>\n",
    "<a href='http://www.ic.uff.br'>\n",
    "<img align='left' style='display: block;height: 100%' src='imgs/logo-ic.png' alt='IC logo' title='IC logo'/>\n",
    "</a>\n",
    "</div>"
   ]
  },
  {
   "cell_type": "markdown",
   "metadata": {
    "slideshow": {
     "align_type": "Left",
     "slide_type": "-"
    }
   },
   "source": [
    "### Machine Learning\n",
    "# 4. Artificial Neural Networks"
   ]
  },
  {
   "cell_type": "markdown",
   "metadata": {},
   "source": [
    "### [Luis Martí](http://lmarti.com)\n",
    "#### [Instituto de Computação](http://www.ic.uff)\n",
    "#### [Universidade Federal Fluminense](http://www.uff.br)\n",
    "$\\newcommand{\\vec}[1]{\\boldsymbol{#1}}$"
   ]
  },
  {
   "cell_type": "code",
   "execution_count": 1,
   "metadata": {
    "slideshow": {
     "slide_type": "skip"
    }
   },
   "outputs": [],
   "source": [
    "import random, itertools\n",
    "import numpy as np\n",
    "import pandas as pd\n",
    "import matplotlib as mpl\n",
    "import matplotlib.pyplot as plt\n",
    "import matplotlib.cm as cm\n",
    "from mpl_toolkits.mplot3d import Axes3D"
   ]
  },
  {
   "cell_type": "code",
   "execution_count": 2,
   "metadata": {
    "slideshow": {
     "slide_type": "skip"
    }
   },
   "outputs": [],
   "source": [
    "plt.rc('font', family='serif')\n",
    "\n",
    "import seaborn\n",
    "seaborn.set(style='whitegrid'); seaborn.set_context('talk')\n",
    "\n",
    "%matplotlib inline\n",
    "%config InlineBackend.figure_format = 'retina'"
   ]
  },
  {
   "cell_type": "code",
   "execution_count": 3,
   "metadata": {
    "slideshow": {
     "slide_type": "skip"
    }
   },
   "outputs": [],
   "source": [
    "random.seed(a=42)"
   ]
  },
  {
   "cell_type": "code",
   "execution_count": 4,
   "metadata": {
    "slideshow": {
     "slide_type": "skip"
    }
   },
   "outputs": [],
   "source": [
    "from ipywidgets import interact, interactive, fixed\n",
    "import ipywidgets as widgets"
   ]
  },
  {
   "cell_type": "code",
   "execution_count": 5,
   "metadata": {
    "slideshow": {
     "slide_type": "skip"
    }
   },
   "outputs": [],
   "source": [
    "# tikzmagic extesion for figures - https://github.com/mkrphys/ipython-tikzmagic\n",
    "%load_ext tikzmagic"
   ]
  },
  {
   "cell_type": "markdown",
   "metadata": {
    "slideshow": {
     "slide_type": "slide"
    }
   },
   "source": [
    "# Why to study bio-inspired methods\n",
    "\n",
    "* Nature is one of the best problem-solvers we know.\n",
    "* Evolutionary optimization.\n",
    "* Natural intelligence and artificial intelligence\n",
    "    * Cellular automata\n",
    "    * **Neural computation**\n",
    "    * Evolutionary computation\n",
    "    * Swarm intelligence\n",
    "    * Artificial immune systems\n",
    "    * Membrane computing\n",
    "    * Amorphous computing"
   ]
  },
  {
   "cell_type": "markdown",
   "metadata": {
    "slideshow": {
     "slide_type": "slide"
    }
   },
   "source": [
    "## Pigeons as art connoisseurs (Watanabe et al., 1995)\n",
    "* Pigeons were put in a Skinner box, and\n",
    "* presented with photos of paintings by Monet and Picasso. \n",
    "* They were rewarded if they recognized correctly the painter they were presented with.\n",
    "<hr/>\n",
    "<div class=\"container-fluid\">\n",
    "  <div class=\"row\">\n",
    "      <div class=\"col-md-4\" align='center'><div class='well well-sm'>\n",
    "      [Skinner box](https://en.wikipedia.org/wiki/Operant_conditioning_chamber)\n",
    "      <img class='img-thumbnail' width='96%' src='imgs/05/pigeon.png'/>\n",
    "      </div></div>\n",
    "      <div class=\"col-md-4\" align='center'><div class='well well-sm'>\n",
    "      [Claude Monet](https://en.wikipedia.org/wiki/Claude_Monet)\n",
    "      <img class='img-thumbnail' src='imgs/05/monet.jpg'/>\n",
    "      </div></div>\n",
    "      <div class=\"col-md-4\" align='center'><div class='well well-sm'>\n",
    "      [Pablo Picasso](https://en.wikipedia.org/wiki/Pablo_Picasso)\n",
    "      <img class='img-thumbnail' width='83%' src='imgs/05/picasso.jpg'/>\n",
    "      </div></div>\n",
    "  </div>\n",
    "</div>"
   ]
  },
  {
   "cell_type": "markdown",
   "metadata": {
    "slideshow": {
     "slide_type": "skip"
    }
   },
   "source": [
    "<small>Watanabe, S., Sakamoto, J., &amp; Wakita, M. (1995). Pigeons’ discrimination of paintings by Monet and Picasso. Journal of the Experimental Analysis of Behavior, 63(2), 165–174. http://doi.org/10.1901/jeab.1995.63-165</small>"
   ]
  },
  {
   "cell_type": "markdown",
   "metadata": {
    "slideshow": {
     "slide_type": "slide"
    }
   },
   "source": [
    "## Results\n",
    "\n",
    "* Pigeons were capable of discriminate between painters with an accuracy of **95%** when confronted with paintings on the **training set**.\n",
    "* Surprinsingly, they scored a **85%** on paintings they had never seen during training (**validation set**).\n",
    "* They were not just learning exhaustively which painting belonged to each painter.\n",
    "* They were able to recognize **styles** or **patterns** and\n",
    "* to **generalize** from what they had seen before.\n",
    "\n",
    "> In AI, we have been trying to replicate this capacity (and many others) in a computer for about 60 years."
   ]
  },
  {
   "cell_type": "markdown",
   "metadata": {
    "slideshow": {
     "slide_type": "slide"
    }
   },
   "source": [
    "# Artificial neural networks\n",
    "\n",
    "* Inspired (at different degrees) on the brain and the nervous system.\n",
    "* Massive parallelization of relatively simple processing units.\n",
    "* Simple principles lead to complex behaviours.\n",
    "* Capable of learn form data."
   ]
  },
  {
   "cell_type": "markdown",
   "metadata": {
    "slideshow": {
     "slide_type": "slide"
    }
   },
   "source": [
    "## Creating [artificial neurons](https://en.wikipedia.org/wiki/Artificial_neuron) \n",
    "\n",
    "Artificial neurons are designed to mimic aspects of their biological counterparts.\n",
    "<hr/>\n",
    "<div class=\"container-fluid\">\n",
    "  <div class=\"row\">\n",
    "      <div class=\"col-md-4\" align='center'><div class='well well-sm'>\n",
    "      <img class='img-thumbnail' src='imgs/05/Complete_neuron_cell_diagram_en.svg'/>\n",
    "      </div></div>\n",
    "      <div class=\"col-md-8\">\n",
    "<ul>\n",
    "<li>**Dendrites** – act as the input receptor, allowing the cell to receive signals from a large (>1000) number of neighboring neurons. Each dendrite is able to perform a \"multiplication\" by that dendrite's \"weight value.\"\n",
    "\n",
    "<li>**Soma** – acts as a summation function. As positive and negative signals (exciting and inhibiting, respectively) arrive in the soma from the dendrites they are added together.\n",
    "\n",
    "<li>**Axon** – gets its signal from the summation behavior which occurs inside the soma. The opening to the axon  samples the electrical potential inside the soma. Once the soma reaches a certain potential, the axon will transmit an all-in signal pulse down its length. \n",
    "<li>In this regard, the axon behaves as the ability for us to connect our artificial neuron to other artificial neurons.\n",
    "</ul>\n",
    "</div>\n",
    "</div>\n",
    "</div>\n",
    "\n"
   ]
  },
  {
   "cell_type": "markdown",
   "metadata": {
    "slideshow": {
     "slide_type": "skip"
    }
   },
   "source": [
    "#### Note:\n",
    "\n",
    "* Unlike most artificial neurons, biological neurons fire in discrete pulses. \n",
    "* Each time the electrical potential inside the soma reaches a certain threshold, a pulse is transmitted down the axon. \n",
    "* This pulsing can be translated into continuous values. The rate (activations per second, etc.) at which an axon fires converts directly into the rate at which neighboring cells get signal ions introduced into them. \n",
    "* The faster a biological neuron fires, the faster nearby neurons accumulate electrical potential (or lose electrical potential, depending on the \"weighting\" of the dendrite that connects to the neuron that fired). \n",
    "* It is this conversion that allows computer scientists and mathematicians to simulate biological neural networks using artificial neurons which can output distinct values (often from −1 to 1)."
   ]
  },
  {
   "cell_type": "markdown",
   "metadata": {
    "slideshow": {
     "slide_type": "slide"
    }
   },
   "source": [
    "The first artificial neuron was the **Threshold Logic Unit (TLU)**, proposed by McCulloch and Pitts (1943). \n",
    "* The model was specifically targeted as a computational model of the \"nerve net\" in the brain.\n",
    "* As a transfer function, it employed a threshold, equivalent to using the Heaviside step function. \n",
    "* A simple model was considered, with binary inputs and outputs, and \n",
    "* restrictions on the possible weights, and a more flexible threshold value.\n",
    "\n",
    "* Any Boolean function could be implemented by networks of such devices, what is easily seen from the fact that one can implement the `AND` and `OR` functions, and use them in the disjunctive or the conjunctive normal form. \n",
    "* Cyclic TLU networks, with feedbacks through neurons, could define dynamical systems with memory, but\n",
    "* most research concentrated (and still does) on strictly feed-forward networks because of the smaller difficulty they pose."
   ]
  },
  {
   "cell_type": "markdown",
   "metadata": {
    "slideshow": {
     "slide_type": "skip"
    }
   },
   "source": [
    "<small>McCulloch, W. and Pitts, W. (1943). A logical calculus of the ideas immanent in nervous activity. Bulletin of Mathematical Biophysics, 5:115–133. http://link.springer.com/article/10.1007%2FBF02478259</small>"
   ]
  },
  {
   "cell_type": "markdown",
   "metadata": {
    "slideshow": {
     "slide_type": "slide"
    }
   },
   "source": [
    "## Artificial neuron as a neuron abstraction"
   ]
  },
  {
   "cell_type": "code",
   "execution_count": 6,
   "metadata": {},
   "outputs": [
    {
     "name": "stderr",
     "output_type": "stream",
     "text": [
      "pdf2svg terminated with signal -127\n",
      "No image generated.\n"
     ]
    }
   ],
   "source": [
    "%tikz -s 700,200 -sc 1.0 -l shapes,calc,shapes,arrows -f svg \\input{imgs/05/neuron.tikz}"
   ]
  },
  {
   "cell_type": "markdown",
   "metadata": {
    "slideshow": {
     "slide_type": "fragment"
    }
   },
   "source": [
    "In general terms, an input $\\vec{x}\\in\\mathbb{R}^n$ is multiplied by a weight vector $\\vec{w}$ and added a bias $b$ producing the net activation, $\\text{net}$. $\\text{net}$ is passed to the *activation function* $f()$ that computed the neuron's output $\\hat{y}$.\n",
    "$$\n",
    "\\hat{y} = f\\left(\\text{net}\\right)= f\\left(\\vec{w}\\cdot\\vec{x}+b\\right) = f\\left(\\sum_{i=1}^{n}{w_i x_i + b}\\right).\n",
    "$$"
   ]
  },
  {
   "cell_type": "markdown",
   "metadata": {
    "slideshow": {
     "slide_type": "skip"
    }
   },
   "source": [
    "**Note:** This is a rather simplistic approximation of natural neurons. See [Spiking Neural Networks](https://en.wikipedia.org/wiki/Spiking_neural_network) for a more biologically plausible representation."
   ]
  },
  {
   "cell_type": "markdown",
   "metadata": {
    "slideshow": {
     "slide_type": "slide"
    }
   },
   "source": [
    "# The Perceptron\n",
    "\n",
    "The [Perceptron](https://en.wikipedia.org/wiki/Perceptron) and its learning algorithm pioneered the research in neurocomputing.\n",
    "\n",
    "* The perceptron is an algorithm for learning a linear binary classifier. \n",
    "* That is a function that maps its input $\\vec{x}\\in\\mathbb{R}^n$ (a real-valued vector) to an output value $f(\\vec{x})$ (a single binary value) as,\n",
    "\n",
    "$$\n",
    "f(\\vec{x}) = \\begin{cases}\n",
    "                1 & \\text{if }\\vec{w} \\cdot \\vec{x} + b > 0\\,,\\\\\n",
    "                0 & \\text{otherwise};\n",
    "             \\end{cases}\n",
    "$$\n",
    "\n",
    "where $\\vec{w}$ is a vector of real-valued *weights*, $\\vec{w} \\cdot \\vec{x}$ is the *dot product* $\\sum_{i=1}^n w_i x_i$, and $b$ is known as the *bias*. "
   ]
  },
  {
   "cell_type": "markdown",
   "metadata": {
    "slideshow": {
     "slide_type": "slide"
    }
   },
   "source": [
    "## Perceptron learning\n",
    "\n",
    "Learning goes by calculating the prediction of the perceptron, $\\hat{y}$, as\n",
    "\n",
    "$$\\hat{y} = f\\left(\\vec{w}\\cdot\\vec{x} + b) = f( w_{1}x_{1} + w_2x_{2} + \\cdots + w_nx_{n}+b\\right)\\,.$$\n",
    "\n",
    "After that, we update the weights and the bias using the perceptron rule:\n",
    "\n",
    "$$\n",
    "\\begin{align*}\n",
    "w_i & = w_i + \\alpha (y - \\hat{y}) x_{i} \\,,\\  i=1,\\ldots,n\\,;\\\\\n",
    "b & = b + \\alpha (y - \\hat{y})\\,.\n",
    "\\end{align*}\n",
    "$$\n",
    "\n",
    "Here $\\alpha\\in\\left(0,1\\right]$ is known as the *learning rate*."
   ]
  },
  {
   "cell_type": "markdown",
   "metadata": {
    "slideshow": {
     "slide_type": "slide"
    }
   },
   "source": [
    "## Mark I: The Perceptron implementation\n",
    "\n",
    "<hr/>\n",
    "<div class=\"container-fluid\">\n",
    "   <div class=\"col-md-1\">&nbsp;</div>\n",
    "  <div class=\"row\">\n",
    "      <div class=\"col-md-4\">\n",
    "      <div class='well well-sm'>\n",
    "              <img src='imgs/04/mark1.png'/>\n",
    "      </div>\n",
    "      </div>\n",
    "      <div class=\"col-md-6\">\n",
    "      <ul><li>An array of cadmium sulfide photocells was used for capturing 20x20 (400) pixel images that were used as inputs.\n",
    "      <li>A switchboard was used for manually selecting which input elements (pixels) were passed to the perceptrons.\n",
    "      <li>They used potentiometers as variable weights.\n",
    "      <li>Electric motors automatically modified the weights.</ul>\n",
    "      </div>\n",
    "      <div class=\"col-md-1\">&nbsp;</div>\n",
    "  </div>\n",
    "</div>"
   ]
  },
  {
   "cell_type": "markdown",
   "metadata": {
    "slideshow": {
     "slide_type": "slide"
    }
   },
   "source": [
    "# Implementing the Perceptron\n",
    "\n",
    "We are going to start implementing a perceptron as a class. "
   ]
  },
  {
   "cell_type": "code",
   "execution_count": 7,
   "metadata": {},
   "outputs": [],
   "source": [
    "class Perceptron:\n",
    "    'A simple Perceptron implementation.'\n",
    "    def __init__(self, weights, bias, alpha=0.1):\n",
    "        self.weights = weights\n",
    "        self.bias = bias\n",
    "        self.alpha = alpha\n",
    "    \n",
    "    def propagate(self, x):\n",
    "        return self.activation(self.net(x)) \n",
    "        \n",
    "    def activation(self, net):\n",
    "        if net > 0:\n",
    "            return 1\n",
    "        return 0\n",
    "    \n",
    "    def net(self, x):\n",
    "        return np.dot(self.weights, x) + self.bias\n",
    "    \n",
    "    def learn(self, x, y):\n",
    "        y_hat = self.propagate(x)\n",
    "        self.weights = [ w_i + self.alpha*x_i*(y-y_hat) for (w_i, x_i) in zip(self.weights, x)]\n",
    "        self.bias = self.bias + self.alpha*(y-y_hat)\n",
    "        return np.abs(y_hat - y)"
   ]
  },
  {
   "cell_type": "markdown",
   "metadata": {
    "slideshow": {
     "slide_type": "skip"
    }
   },
   "source": [
    "**Note**: Bear in mind that I have made the implementation as clear and easy to follow as possible and, therefore, I have sacrificed performance in the sake of clarity. There are many points where it can be improved."
   ]
  },
  {
   "cell_type": "markdown",
   "metadata": {
    "slideshow": {
     "slide_type": "slide"
    }
   },
   "source": [
    "### Testing our `Perceptron` class.\n",
    "\n",
    "After having the perceptron implementation ready we need an example data set.\n",
    "\n",
    "We are going to create a dataset containing random points in $\\left[0,1\\right]^2$."
   ]
  },
  {
   "cell_type": "code",
   "execution_count": 8,
   "metadata": {},
   "outputs": [],
   "source": [
    "size = 50 # size of data set"
   ]
  },
  {
   "cell_type": "code",
   "execution_count": 9,
   "metadata": {},
   "outputs": [],
   "source": [
    "data = pd.DataFrame(columns=('$x_1$', '$x_2$'),\n",
    "                    data=np.random.uniform(size=(size,2)))"
   ]
  },
  {
   "cell_type": "markdown",
   "metadata": {
    "slideshow": {
     "slide_type": "slide"
    }
   },
   "source": [
    "So far, our data set looks like this (we are showning only the first ten elements):"
   ]
  },
  {
   "cell_type": "code",
   "execution_count": 10,
   "metadata": {},
   "outputs": [
    {
     "data": {
      "text/html": [
       "<div>\n",
       "<style scoped>\n",
       "    .dataframe tbody tr th:only-of-type {\n",
       "        vertical-align: middle;\n",
       "    }\n",
       "\n",
       "    .dataframe tbody tr th {\n",
       "        vertical-align: top;\n",
       "    }\n",
       "\n",
       "    .dataframe thead th {\n",
       "        text-align: right;\n",
       "    }\n",
       "</style>\n",
       "<table border=\"1\" class=\"dataframe\">\n",
       "  <thead>\n",
       "    <tr style=\"text-align: right;\">\n",
       "      <th></th>\n",
       "      <th>$x_1$</th>\n",
       "      <th>$x_2$</th>\n",
       "    </tr>\n",
       "  </thead>\n",
       "  <tbody>\n",
       "    <tr>\n",
       "      <th>0</th>\n",
       "      <td>0.939672</td>\n",
       "      <td>0.304112</td>\n",
       "    </tr>\n",
       "    <tr>\n",
       "      <th>1</th>\n",
       "      <td>0.748428</td>\n",
       "      <td>0.754524</td>\n",
       "    </tr>\n",
       "    <tr>\n",
       "      <th>2</th>\n",
       "      <td>0.990574</td>\n",
       "      <td>0.641591</td>\n",
       "    </tr>\n",
       "    <tr>\n",
       "      <th>3</th>\n",
       "      <td>0.426878</td>\n",
       "      <td>0.825523</td>\n",
       "    </tr>\n",
       "    <tr>\n",
       "      <th>4</th>\n",
       "      <td>0.786634</td>\n",
       "      <td>0.900275</td>\n",
       "    </tr>\n",
       "    <tr>\n",
       "      <th>5</th>\n",
       "      <td>0.625920</td>\n",
       "      <td>0.180962</td>\n",
       "    </tr>\n",
       "    <tr>\n",
       "      <th>6</th>\n",
       "      <td>0.568821</td>\n",
       "      <td>0.271016</td>\n",
       "    </tr>\n",
       "    <tr>\n",
       "      <th>7</th>\n",
       "      <td>0.990957</td>\n",
       "      <td>0.878344</td>\n",
       "    </tr>\n",
       "    <tr>\n",
       "      <th>8</th>\n",
       "      <td>0.223451</td>\n",
       "      <td>0.383407</td>\n",
       "    </tr>\n",
       "    <tr>\n",
       "      <th>9</th>\n",
       "      <td>0.570892</td>\n",
       "      <td>0.631924</td>\n",
       "    </tr>\n",
       "  </tbody>\n",
       "</table>\n",
       "</div>"
      ],
      "text/plain": [
       "      $x_1$     $x_2$\n",
       "0  0.939672  0.304112\n",
       "1  0.748428  0.754524\n",
       "2  0.990574  0.641591\n",
       "3  0.426878  0.825523\n",
       "4  0.786634  0.900275\n",
       "5  0.625920  0.180962\n",
       "6  0.568821  0.271016\n",
       "7  0.990957  0.878344\n",
       "8  0.223451  0.383407\n",
       "9  0.570892  0.631924"
      ]
     },
     "execution_count": 10,
     "metadata": {},
     "output_type": "execute_result"
    }
   ],
   "source": [
    "data.head(10)"
   ]
  },
  {
   "cell_type": "markdown",
   "metadata": {
    "slideshow": {
     "slide_type": "slide"
    }
   },
   "source": [
    "We need to add a *target* or *classification* attribute. In this example, we are going to make this target to be equal to one if the point lies in the upper-right triangle of the $\\left[0,1\\right]\\times\\left[0,1\\right]$ square and zero otherwise:\n",
    "\n",
    "<div class=\"container-fluid\">\n",
    "  <div class=\"row\">\n",
    "      <div class=\"col-md-4\">&nbsp;</div>\n",
    "      <div class=\"col-md-4\">\n",
    "      <div class='well well-sm'>\n",
    "              <img src='imgs/04/dataset.jpeg' alt='description of the data set' title='description of the data set'/>\n",
    "      </div>\n",
    "      </div>\n",
    "      <div class=\"col-md-4\">&nbsp;</div>\n",
    "  </div>\n",
    "</div>"
   ]
  },
  {
   "cell_type": "markdown",
   "metadata": {
    "slideshow": {
     "slide_type": "slide"
    }
   },
   "source": [
    "We can formalize this condition as:\n",
    "\n",
    "$$\n",
    "y = \\begin{cases}\n",
    "    1 & \\ \\text{if}\\ x_1 + x_2 > 1\\,,\\\\\n",
    "    0 & \\ \\text{otherwise}\\,.\n",
    "    \\end{cases}\n",
    "$$"
   ]
  },
  {
   "cell_type": "markdown",
   "metadata": {
    "slideshow": {
     "slide_type": "fragment"
    }
   },
   "source": [
    "Lets code it..."
   ]
  },
  {
   "cell_type": "code",
   "execution_count": 11,
   "metadata": {},
   "outputs": [],
   "source": [
    "def condition(x):\n",
    "    return int(np.sum(x) > 1)"
   ]
  },
  {
   "cell_type": "markdown",
   "metadata": {
    "slideshow": {
     "slide_type": "fragment"
    }
   },
   "source": [
    "...and apply it to the data set."
   ]
  },
  {
   "cell_type": "code",
   "execution_count": 12,
   "metadata": {},
   "outputs": [],
   "source": [
    "data['y'] = data.apply(condition, axis=1)"
   ]
  },
  {
   "cell_type": "markdown",
   "metadata": {
    "slideshow": {
     "slide_type": "subslide"
    }
   },
   "source": [
    "The resulting data set looks like this:"
   ]
  },
  {
   "cell_type": "code",
   "execution_count": 13,
   "metadata": {},
   "outputs": [
    {
     "data": {
      "text/html": [
       "<div>\n",
       "<style scoped>\n",
       "    .dataframe tbody tr th:only-of-type {\n",
       "        vertical-align: middle;\n",
       "    }\n",
       "\n",
       "    .dataframe tbody tr th {\n",
       "        vertical-align: top;\n",
       "    }\n",
       "\n",
       "    .dataframe thead th {\n",
       "        text-align: right;\n",
       "    }\n",
       "</style>\n",
       "<table border=\"1\" class=\"dataframe\">\n",
       "  <thead>\n",
       "    <tr style=\"text-align: right;\">\n",
       "      <th></th>\n",
       "      <th>$x_1$</th>\n",
       "      <th>$x_2$</th>\n",
       "      <th>y</th>\n",
       "    </tr>\n",
       "  </thead>\n",
       "  <tbody>\n",
       "    <tr>\n",
       "      <th>0</th>\n",
       "      <td>0.939672</td>\n",
       "      <td>0.304112</td>\n",
       "      <td>1</td>\n",
       "    </tr>\n",
       "    <tr>\n",
       "      <th>1</th>\n",
       "      <td>0.748428</td>\n",
       "      <td>0.754524</td>\n",
       "      <td>1</td>\n",
       "    </tr>\n",
       "    <tr>\n",
       "      <th>2</th>\n",
       "      <td>0.990574</td>\n",
       "      <td>0.641591</td>\n",
       "      <td>1</td>\n",
       "    </tr>\n",
       "    <tr>\n",
       "      <th>3</th>\n",
       "      <td>0.426878</td>\n",
       "      <td>0.825523</td>\n",
       "      <td>1</td>\n",
       "    </tr>\n",
       "    <tr>\n",
       "      <th>4</th>\n",
       "      <td>0.786634</td>\n",
       "      <td>0.900275</td>\n",
       "      <td>1</td>\n",
       "    </tr>\n",
       "    <tr>\n",
       "      <th>5</th>\n",
       "      <td>0.625920</td>\n",
       "      <td>0.180962</td>\n",
       "      <td>0</td>\n",
       "    </tr>\n",
       "    <tr>\n",
       "      <th>6</th>\n",
       "      <td>0.568821</td>\n",
       "      <td>0.271016</td>\n",
       "      <td>0</td>\n",
       "    </tr>\n",
       "    <tr>\n",
       "      <th>7</th>\n",
       "      <td>0.990957</td>\n",
       "      <td>0.878344</td>\n",
       "      <td>1</td>\n",
       "    </tr>\n",
       "    <tr>\n",
       "      <th>8</th>\n",
       "      <td>0.223451</td>\n",
       "      <td>0.383407</td>\n",
       "      <td>0</td>\n",
       "    </tr>\n",
       "    <tr>\n",
       "      <th>9</th>\n",
       "      <td>0.570892</td>\n",
       "      <td>0.631924</td>\n",
       "      <td>1</td>\n",
       "    </tr>\n",
       "  </tbody>\n",
       "</table>\n",
       "</div>"
      ],
      "text/plain": [
       "      $x_1$     $x_2$  y\n",
       "0  0.939672  0.304112  1\n",
       "1  0.748428  0.754524  1\n",
       "2  0.990574  0.641591  1\n",
       "3  0.426878  0.825523  1\n",
       "4  0.786634  0.900275  1\n",
       "5  0.625920  0.180962  0\n",
       "6  0.568821  0.271016  0\n",
       "7  0.990957  0.878344  1\n",
       "8  0.223451  0.383407  0\n",
       "9  0.570892  0.631924  1"
      ]
     },
     "execution_count": 13,
     "metadata": {},
     "output_type": "execute_result"
    }
   ],
   "source": [
    "data.head(10)"
   ]
  },
  {
   "cell_type": "markdown",
   "metadata": {
    "slideshow": {
     "slide_type": "slide"
    }
   },
   "source": [
    "We can now take a better look at the data set in graphical form. Elements with $y=1$ are shown in green ($\\color{green}{\\bullet}$) and those with $y=0$ are shown in red ($\\color{red}{\\bullet}$):"
   ]
  },
  {
   "cell_type": "code",
   "execution_count": 14,
   "metadata": {},
   "outputs": [],
   "source": [
    "def plot_data(data, ax):\n",
    "    data[data.y==1].plot(kind='scatter', \n",
    "                         x='$x_1$', y='$x_2$', \n",
    "                         color='green', ax=ax)\n",
    "    data[data.y==0].plot(kind='scatter', \n",
    "                         x='$x_1$', y='$x_2$', \n",
    "                         color='red', ax=ax)\n",
    "    ax.set_xlim(-0.1,1.1); ax.set_ylim(-0.1,1.1)"
   ]
  },
  {
   "cell_type": "code",
   "execution_count": 15,
   "metadata": {
    "slideshow": {
     "slide_type": "slide"
    }
   },
   "outputs": [
    {
     "data": {
      "image/png": "[encoded data removed]",
      "text/plain": [
       "<matplotlib.figure.Figure at 0x11bcdf128>"
      ]
     },
     "metadata": {
      "image/png": {
       "height": 325,
       "width": 338
      }
     },
     "output_type": "display_data"
    }
   ],
   "source": [
    "fig = plt.figure(figsize=(5,5))\n",
    "plot_data(data, fig.gca())"
   ]
  },
  {
   "cell_type": "markdown",
   "metadata": {
    "slideshow": {
     "slide_type": "slide"
    }
   },
   "source": [
    "## Iterating the data set\n",
    "\n",
    "Having the data set we can now code how the perceptron learns it by iterating throu it."
   ]
  },
  {
   "cell_type": "code",
   "execution_count": 16,
   "metadata": {},
   "outputs": [],
   "source": [
    "def learn_data(perceptron, data):\n",
    "    'Returns the number of errors made.'\n",
    "    count = 0 \n",
    "    for i, row in data.iterrows():\n",
    "        count += perceptron.learn(row[0:2], row[2])\n",
    "    return count"
   ]
  },
  {
   "cell_type": "markdown",
   "metadata": {
    "slideshow": {
     "slide_type": "slide"
    }
   },
   "source": [
    "## Visualizing learning\n",
    "\n",
    "We need now to plot the decision boundary or threshold of the perceptron.\n",
    "\n",
    "To calculate it we start with the equation that describes the boundary,\n",
    "$$w_1x_1+w_2x_2 + b =0.$$\n",
    "\n",
    "From it we can obtain $x_2$ from a given $x_1$ applying a fairy simple math,\n",
    "$$x_2 = \\frac{-w_1x_1-b}{w_2}.$$"
   ]
  },
  {
   "cell_type": "code",
   "execution_count": 17,
   "metadata": {},
   "outputs": [],
   "source": [
    "def threshold(perceptron, x_1):\n",
    "    return (-perceptron.weights[0] * x_1 - perceptron.bias) / perceptron.weights[1]"
   ]
  },
  {
   "cell_type": "code",
   "execution_count": 18,
   "metadata": {
    "slideshow": {
     "slide_type": "skip"
    }
   },
   "outputs": [],
   "source": [
    "def plot_perceptron_threshold(perceptron, ax):\n",
    "    xlim = ax.get_xlim(); ylim = ax.get_ylim()\n",
    "    \n",
    "    x2s = [threshold(perceptron, x1) for x1 in xlim]\n",
    "    ax.plot(xlim, x2s)\n",
    "    \n",
    "    ax.set_xlim(-0.1,1.1); ax.set_ylim(-0.1,1.1)"
   ]
  },
  {
   "cell_type": "markdown",
   "metadata": {
    "slideshow": {
     "slide_type": "skip"
    }
   },
   "source": [
    "A function that plots a perceptron as the threshold and the data set."
   ]
  },
  {
   "cell_type": "code",
   "execution_count": 19,
   "metadata": {
    "slideshow": {
     "slide_type": "skip"
    }
   },
   "outputs": [],
   "source": [
    "def plot_all(perceptron, data, t, ax=None):\n",
    "    if ax==None:\n",
    "        fig = plt.figure(figsize=(5,4))\n",
    "        ax = fig.gca()\n",
    "    plot_data(data, ax)\n",
    "    plot_perceptron_threshold(perceptron, ax)\n",
    "    \n",
    "    ax.set_title('$t='+str(t+1)+'$')"
   ]
  },
  {
   "cell_type": "markdown",
   "metadata": {
    "slideshow": {
     "slide_type": "slide"
    }
   },
   "source": [
    "## Our perceptron in action\n",
    "\n",
    "All set now! Let's create a perceptron and train it. \n",
    "\n",
    "**Note**: Normally the initial weights and the bias should be set to *small* random values. I am setting them by hand to a value that I know that looks good in the examples."
   ]
  },
  {
   "cell_type": "code",
   "execution_count": 20,
   "metadata": {
    "slideshow": {
     "slide_type": "fragment"
    }
   },
   "outputs": [],
   "source": [
    "perceptron = Perceptron([0.1,-0.1], 0.02)"
   ]
  },
  {
   "cell_type": "code",
   "execution_count": 21,
   "metadata": {
    "slideshow": {
     "slide_type": "slide"
    }
   },
   "outputs": [
    {
     "data": {
      "image/png": "[encoded data removed]",
      "text/plain": [
       "<matplotlib.figure.Figure at 0x11e3d36a0>"
      ]
     },
     "metadata": {
      "image/png": {
       "height": 494,
       "width": 640
      }
     },
     "output_type": "display_data"
    }
   ],
   "source": [
    "f, axarr = plt.subplots(3, 4, sharex=True, sharey=True, figsize=(9,7))\n",
    "axs = list(itertools.chain.from_iterable(axarr))\n",
    "for t in range(12):\n",
    "    plot_all(perceptron, data, t, ax=axs[t])\n",
    "    learn_data(perceptron, data)\n",
    "f.tight_layout()"
   ]
  },
  {
   "cell_type": "markdown",
   "metadata": {},
   "source": [
    "It is clear how the Perceptron threshold is progresively adjusted according to the data set."
   ]
  },
  {
   "cell_type": "markdown",
   "metadata": {
    "slideshow": {
     "slide_type": "slide"
    }
   },
   "source": [
    "## Animating the Perceptron\n",
    "\n",
    "This results are better understood in animated from."
   ]
  },
  {
   "cell_type": "code",
   "execution_count": 22,
   "metadata": {
    "slideshow": {
     "slide_type": "skip"
    }
   },
   "outputs": [],
   "source": [
    "from matplotlib import animation\n",
    "from IPython.display import HTML"
   ]
  },
  {
   "cell_type": "code",
   "execution_count": 23,
   "metadata": {
    "slideshow": {
     "slide_type": "skip"
    }
   },
   "outputs": [],
   "source": [
    "def animate(frame_index, perceptron, data, ax):\n",
    "    ax.clear()\n",
    "    plot_data(data, ax=ax)\n",
    "    ax.set_title('$t='+str(frame_index)+'$')\n",
    "    \n",
    "    if not frame_index:\n",
    "        return None\n",
    "    plot_perceptron_threshold(perceptron, ax=ax)\n",
    "    learn_data(perceptron, data)\n",
    "    return None"
   ]
  },
  {
   "cell_type": "code",
   "execution_count": 24,
   "metadata": {},
   "outputs": [],
   "source": [
    "fig = plt.figure(figsize=(4,4))\n",
    "ax = fig.gca()\n",
    "perceptron = Perceptron([0.1,-0.1], 0.02)\n",
    "anim = animation.FuncAnimation(fig, lambda i: animate(i, perceptron, data, ax), frames=30, interval=600, \n",
    "                               blit=False)\n",
    "plt.tight_layout()\n",
    "plt.close()"
   ]
  },
  {
   "cell_type": "code",
   "execution_count": 25,
   "metadata": {},
   "outputs": [
    {
     "data": {
      "text/html": [
       "<video width=\"288\" height=\"288\" controls autoplay loop>\n",
       "  <source type=\"video/mp4\" src=\"data:video/mp4;base64,AAAAHGZ0eXBNNFYgAAACAGlzb21pc28yYXZjMQAAAAhmcmVlAAB8YW1kYXQAAAKfBgX//5vcRem9\n",
       "5tlIt5Ys2CDZI+7veDI2NCAtIGNvcmUgMTM4IC0gSC4yNjQvTVBFRy00IEFWQyBjb2RlYyAtIENv\n",
       "cHlsZWZ0IDIwMDMtMjAxMyAtIGh0dHA6Ly93d3cudmlkZW9sYW4ub3JnL3gyNjQuaHRtbCAtIG9w\n",
       "dGlvbnM6IGNhYmFjPTEgcmVmPTMgZGVibG9jaz0xOjA6MCBhbmFseXNlPTB4MzoweDExMyBtZT1o\n",
       "ZXggc3VibWU9NyBwc3k9MSBwc3lfcmQ9MS4wMDowLjAwIG1peGVkX3JlZj0xIG1lX3JhbmdlPTE2\n",
       "IGNocm9tYV9tZT0xIHRyZWxsaXM9MSA4eDhkY3Q9MSBjcW09MCBkZWFkem9uZT0yMSwxMSBmYXN0\n",
       "X3Bza2lwPTEgY2hyb21hX3FwX29mZnNldD0tMiB0aHJlYWRzPTYgbG9va2FoZWFkX3RocmVhZHM9\n",
       "MSBzbGljZWRfdGhyZWFkcz0wIG5yPTAgZGVjaW1hdGU9MSBpbnRlcmxhY2VkPTAgYmx1cmF5X2Nv\n",
       "bXBhdD0wIGNvbnN0cmFpbmVkX2ludHJhPTAgYmZyYW1lcz0zIGJfcHlyYW1pZD0yIGJfYWRhcHQ9\n",
       "MSBiX2JpYXM9MCBkaXJlY3Q9MSB3ZWlnaHRiPTEgb3Blbl9nb3A9MCB3ZWlnaHRwPTIga2V5aW50\n",
       "PTI1MCBrZXlpbnRfbWluPTEgc2NlbmVjdXQ9NDAgaW50cmFfcmVmcmVzaD0wIHJjX2xvb2thaGVh\n",
       "ZD00MCByYz1jcmYgbWJ0cmVlPTEgY3JmPTIzLjAgcWNvbXA9MC42MCBxcG1pbj0wIHFwbWF4PTY5\n",
       "IHFwc3RlcD00IGlwX3JhdGlvPTEuNDAgYXE9MToxLjAwAIAAACIpZYiEABf//vfUt8yy7VNvtfp/\n",
       "+M7uX6gkd0WMEzpgFgmh+va7/x2VUySQk3RuxyH1Njzav8Ps4UO71k52X46P8Ps5SRMQaJnhqcBC\n",
       "BHIo97ySblCbOxlmFxQwy7PpQheeeegATlaRVP+2tjCSYDUbKWZfekLtP5/WARKtPICU5DVpbvlV\n",
       "4dsW9trleaLbu5CS6UGNUdh7iVCA5aa8iEIc36HmmxGilc2y2xzPI84TBpmOT8/JQ+tTCTy0+0D2\n",
       "Gm033C9oNFTsyKXtf0Wi00O6a3V3kHYKtHpUQ8Oi8qZvNzjkfVGrNOl3tj656jOOswmhJ8xVxrOM\n",
       "YMoVyf9MlcRJPYrHwIl8UNcGjJ60HdlaX0ncjg34FqK2Gufk/eSWPJWgCa4A7LBuI3j32ea7eDbn\n",
       "uTji29wJX2b27hCe1mUT3PgBd+ONlM5c55odSDFGUAzRgBvtbRy770dhV7X28Di8fd6PHUxOcBf6\n",
       "VJM/RVLdT/pTdA/nrbltlV8YAUR6qHO2XX9fgQrBOB26naIvmFiYAFSA7xuVYTjRXXwUfGKCvmO9\n",
       "ivVCtgREptIxFIFuhh/ugUoxIf6iXz8oZ9BfQDuk7T8rSGpXng6ZPEGn54HpxNCeEIkzJZtrWSp0\n",
       "uGWMejS51r69LhRJmcHeXr3KPqgmV9fWK9hFBibrF1H677Cnjf8EqjGZL/nRBTf/6gzTl0WZa+E7\n",
       "Y0/0c7IU+CdlqAOQLvwXfC5zm5kR3895HCe4OQOigE74GofV4aWM4fNFjDBCT5MIhLahuM0o1Co6\n",
       "7DEhqeW0f81DOae7kSShWYRwOKOG8W37FnUfGAOL1DwD7KdPk/sXQ0nxTCkRGofci9/AbdACyslB\n",
       "/r24nmrXUeCV//exIJPmP3knf9+WYaAjCM7/DlJn/vZ6kVNSNNmulcWB/ylBTiitIIUFi4j8Bjgm\n",
       "lAQyDVBVJK7qUSBaTs/n/DclvjBaJ+c8UqRNwERavmiMqqoj8TywrnIqpEYiRkwA1uCpWfZTWr+D\n",
       "MQaMiw3nZr4tZ0oVCcB3+VmNXmcF/4J6OL2/wUNL372WNhBBYcDbAZtVHCMR+aOUYJ+vdLpKdQqz\n",
       "PH3QFVXk1tOf+Lkf6pz+MyX5SmjQpdUdplzfdxPgR/B8EaBFkvN6ZVDfcamb37s1BmMLW8Kr+oRo\n",
       "qvv+dLcI7VHzLhr0k+jhvuq0G/tAb4HK4QhyH9AVT0abevrHLkL4QMj1UoXWlF/TILNeW9I6UP0V\n",
       "QMLWEKg3HPAhT+zdjnaTDIddFUB0WOMvm/NB5S2r6ddilZeU/PpW9QG348t2t9SIDJ83a7s2UAQm\n",
       "fJycDMR4Ij97xLWQbw66VO2AAAHE43VNQDp6OCRySLvOl8GGPtj/eq9Aiw7umIrwu/ia2oaQd4Np\n",
       "iDB8YMfzDOgLOaukHR/fAA7u8HLa5wdKooH3i9XddXYOtambIwD2bAlcn90i/oW/II3t6xPS4jWP\n",
       "ZM7kL/90YA8Kupr61amJsPpceGZIDLdFLR/CeGcsXvJ0aXKpvktbQRCl25wMxA9Y8hVTxwE1K1cN\n",
       "GkfmGvRS0/7Reqti7qqvqdLb6RVHj8GCca0GuL4c0izFDicEtPNoSe5DWMQ1DHtBA0W53QfelJhO\n",
       "tLbCmmqmPUGnc6kL/1/nFDLLMb4S8HbIk0I9KnAH5wh85I1jFM0CxuWlKfck6leHv0d0lxFQK72J\n",
       "PeX/GlIuJ/0XUDnnwiHM+ImF2BzZSndyRpaGzBiKDUqf3NHiJxVtEhzs+ythHXCNvbvWd8rep5nB\n",
       "m3RsAMSR7JtGnpEXDyWVr2oR9bUiWMxY8PC2XHnmoaadqk2DtSMo7gc5s+LyBKEI+LadYbe1q3Ob\n",
       "tirFEqJQx5aofnRk4XoRV0C3GLB0Ke04Jdhu3QVLj2QeQYuytTQYyY8LOAU+dW/LM46zoXb4u+0K\n",
       "PcvuyIBIEIDskd9DINmJO3MWREx27aY+0q3YDA2Eg1SIuXg8qJ1EwGwsM2pmWXBmgRpz9ST6t2Vq\n",
       "gfmkIVe/m2hYvJwqqsb/G1P/qnQseh48z2S7j0RuQg8l9UVOoXNC+LajZzuIJrqgAAISqo+qa14y\n",
       "yI0nxlG44guLaYtWWIs5yesFxoZzHzy8MYD73R1Wf9SUFjdU5k/skhbokeJOvJtfkIQt+HdtxDfa\n",
       "S70yKBqdQwS0G7Bj13yGAEcPNMIbHlyijebMo/MBZz9Gw8fRtc00AKEmRjnSMGPy4A+1WMCsCkh7\n",
       "BGSgL/L//9QBG4IsTBnfsAJlHR2Jqfd3uQ03SntJzICSHPMzOGU4o+3Y4NofXu9i+i4PjbsC/KEC\n",
       "Z7vmvCU4IiZIi84D5ozoQzyU6OOXVcZE5KR+aYX6KxV5sVIhcPL9TanzhVFxJS7ztLGUh4y9p2Ia\n",
       "5/KmIL2rO4+p1QHanMHCAWnh0fhNOX2PKX8VJm+Sc2U3YEYgdiFMcU4LNoG1IPUNikXpT2bBTWVe\n",
       "Xrc6LwXfcd59rp8gXh/2S+09+1nkpLg7i56oWXj7XG8uQ45H+cvsotzjcT3VXWZynJ09k5jBreid\n",
       "OENgDc3gz71a2C0DXzW6drNJRmpZBmfhouSvqOGUTIpouzgVMuNDUT1gquRskTm4XybhzlszV8cM\n",
       "dlgchcE0q6t16/tbGJ9vVulCanVYSGMWuGO+EHi3Y/1wD7iPUdQXLWUOBHc1DVnK9hM9/oAKTaJM\n",
       "6bvYUhln/qYhBwsrrB3XmDN1JuPJ0+jQd1taLRsSJsgCgRV0hhMvLlRhRamueQbT5RHTibkLLH3p\n",
       "PwOtIJ9DwF/K+8mn/iKkds5KCv0F6r8ZHE2fAxx66ZEiKKqVxglIcvLsS3jMH8BKgCt/cy6trhbf\n",
       "/91sD4mRmTM/4tILK9NszNihPJc0PtiwsjpkRuW6OhFVLLuTYHS+lMp0FiSXFiPPDGiYYsByCZnz\n",
       "cJEwk8Aunsv/+1Kzf/m0ydpewodE7aIWCJA8Uv+jWB32/02nMimm06s6dV8t+AnWw3D2og6uldZF\n",
       "u0ekWdnoTh4HLvBgCZnGyvhBpPH7m7zEsFZ6DAfu83+AyO0sbKt9gWalI5wuiHXImWHxKvINAFIW\n",
       "nMeevFy3YAdkJ+K6wOVk3NLQo9p3f7ZjwcwWyQzQ+BbZB6bF4tCd3iPm1nWlGOpzRrk/waFRB7A1\n",
       "bI9J3fx39i9FFxdogOpvawzsamC+IEktx4ahoStRKBg2zjWwGuZBnOR1bGs+spHA+HShcAqo5M4Z\n",
       "LsyJnMLu4AThi2K9KS7hxxXX9oWyCdzFN7SKlRmJJ91NOmezitdKAp/jU+1nBHUYrqo+LqFiBA1m\n",
       "0KPS1haulmsvUnmMoczeA5GB+t97v3KHfy3eV1MdJwaPpDHVJABg7luceYpGbhNMa51iVJCthSNu\n",
       "jGDoezehmiiL6XpqduqdfugPQrwUQboXd7a6FX2/syaoa8E28UZyXUOnFTULqpsN56xUL4L70glR\n",
       "wjhoioNLMPtBVmUn5azAn1bSwNVAnRbdWOd7CDlF2P/VGH4QVQabUGTMTEnpNx7hoOweSy9WnEM1\n",
       "A1tYeR4ohpOyhzqRRTLxwbQt7WBQ9xCsZztpJ5rjvK5BiBTIARydlkTFIO2FF08tEowfMVEG/4LS\n",
       "z3eMbbHUzyv1hhPpNd53/QLfDw9p0koePb/5AUIE1x7RA2ccBKI4YZnzEhTkgkF9QWoXBW5hHP5A\n",
       "Snt6rwtP1ZzGEpNLqG6ctt7ilWnGLE6mfpA+wpC1CD23uRF0zXpEBN76tq6Qb+qfXbd/FKOTL1Ks\n",
       "f5n4netBCJv+r4N8K62hVU224W+rL8CXO96wI6Mgw9MpFKgL3U+vuzG0hbv///Ya8xjFvHvxR3rM\n",
       "2EzUJt5h+UVarsEaskVQr65RP4Kx5M22IlsXynDtROhbK5ZkCbxiVQl3PcoXDiOh/AKJ2w//zxtF\n",
       "3gwbgPjYJuS5fV0vFgUY+0Fa7eJipoo1M6TMJhGrPFDxlyd5cEI1A/+++HyfNqlh1Hm5ESTG6w8x\n",
       "ejum0e/cvKJ0lMKJVQXT4II//cZTY/zDZv++9mUUOly/OD5kMDNzj2LV3Hqky5mmi0fAJwCIU3Yz\n",
       "O4fXrZrQ/OdpvPKXIogUe+OUyqEzXpIZ0VXRG0KVcfzKtLrF3J/+ffr+1reghLy/b+RMrsF6V3uA\n",
       "iFECEyi+DHvGVLJK0ITvphuXHYkoPQCE9lyb+4w+njkaY/YQecdD+91z4D+ZYVMu5wYyKtHq1mwr\n",
       "Rz349siTCZ+lzsad+6xbkQy3+RHMxkHE5gsaThsPrgnFCGEElj+MBiq4YSHlbMv69Z7EKv5A9hGZ\n",
       "ynp+R3r2G00/wYpvOnMEW49D87BfO7dpw1MLwx7311da3XUjzoVVNtJcI/DOif47fBerCzCxMr5L\n",
       "t1BVQBZVNytLLEKHLza3Uo0MA8zGu6Q90vCFtuEbK7CS2SIMRmrJBoJPdXsTELnPD40NLm1RjUu4\n",
       "BDmay0iUerzm5DaCdjqZ2ZLBHF/6gl6KEYED0SXNcmdGYlP33EkEiMtrBcuMxf0HZVIK92Fx98K9\n",
       "Fvc6zTJSF22tvZIYjuFayClrrwqyBDB/xrM2Puwe+Nms1jCNBhPaZPbUt/Az6FbzRJzNKsqM28FN\n",
       "b8/SeypWupwmVdFoDPJXw/RaVrul/ZzOS5oKcuXrWuBhedYWP61W/LdUyKBRX2KGaqqASZ6d7eW4\n",
       "p7E8uZWiBA7gnCyN/YCSkknYWmIUJUX+oDURswMvtbFvkjE8xclB8aymcFiC2TBSQrOqjZmo8glX\n",
       "s1SQpaV5LFk2Wiee6gXPuiQK4F+fT0UMIMiGnAagNlt0FX3Burg7vsShZaU93Sa04k7gD74P8EtU\n",
       "8Vxy7XdJV3W7hrqqmuiBflJxYcUA/PZmPihpPuUoOfMMxzJJMP6sDiA/sD86EWrlcs7lMf9BY3gW\n",
       "nbdPnAz8C1ZEgPeC1Kxmi82z7AYnByauQOeoDrc6nR6FwFYwx/4M4ra//79DBd843DEOptj5E+Nl\n",
       "F1Habe4X4P70oIiwakXhurSMiUCnmF8bIbKxrpObr+2sDyvP1pEqeV3/96BtsiyEnIlD/b1TzfMD\n",
       "lJVzjlYn4JgI/n+O/SZMG7C1Lw3MpIS2FKj6dG9hSJBezgvKmxiqmZob663ArfoCtRg2NQdyA0t+\n",
       "l+fj3/dPiCeNc423cDTTy+xVecqTR0zD/bmQ9IRBx70IqIJoF+1RPTqZEao0kTWu1haYUWM+ITZI\n",
       "yuG5fNzBPOlm0pLPzrBGE+LpAr3mH3H66eb3kfMaEvqmKHzVCez7+SvZx5NeY2VdMIF7rLCzqOpR\n",
       "SluW91XLUlpFZ7Z5bJ0EnkT0ch+OTaPn9gkT/bfZ/gATXHmwM738LKX513EhEe4KblYETeNC1K20\n",
       "ln+pz6/LbnWQo4JvXHb6dD00tyPUMlEN2yc3+7GVLd/YfoXlr28AcsGmJOXapK6PfNnZJ369e/Vt\n",
       "7h+EVwvNMCgMEqNqSVdSEKflMlg29JunFM5+2+ujALfCHjdHTkupH/3x/iX/+eZRPAfsfBCkwbrM\n",
       "hdyIr5S/+25NekvF9nF6Z80Hbkp8SLAZ4E4kSMMFGtBM6jZv/Bz288KjvwdHbsnMVp1r/IasU2Iu\n",
       "WZ6JU3+5D7A3G1/szj9Y0RJlyjDR9hGJcd4K0jG5lFQxU9Vb9NzUc2wyJc/Hw7Fy0ymUaiWagkym\n",
       "hdAUrfG3B2WAXGEbqhxrMuyaYpC+ArKJG3o8Q0Zn7hINU7+DL+e0mJV+RUMkskThmtULz373Nhek\n",
       "xPSUhgMy3/eQqX6IDS1pC/Hg9oyIuSqxd4n4pSHNTQ/fNxpDIglZawUz3lCta/6RoojUB44yN1GQ\n",
       "i8GGqtGBTgMgBIDnorrbFX3pGCqEBdEFUyQ38CFVBM2Uw4qtDRflI9qeojfydxD3IvSSRkQRALt5\n",
       "FqjqPkpcSkJI3m6GG+coe/O5KszEM+mMafxCOrzaIUMfOYTWc+oh5CskpzuY197JWGouqgf6+VpB\n",
       "D3V21vG/w5Tmvr5i0fZU5n8J/Jj6ESYK/8zKUjTZHLug5nqS1eXOpwvb7eCa12kYE4WzeKTIx732\n",
       "og3caKWm0EWs5YWJLOC3Y5FfUDTlfloK67Li7MYn/x3Y8HWxkBzMVnWRDzSaFLIbpr0i6fnvu0lv\n",
       "uTxef3CYMx6IJLEcQKi7CU76bYqObNSQe0cWkdKqQCGa5yCvx4cF/SB3fOY5bFMnRufk2fCkigsS\n",
       "2TdA2rVcPZDJ9EqJqMZljn1eYN9FCR/n5YL3l7WHJ15F35MCRuVRbGVOA4+WjCTSTrD/nhPyopjg\n",
       "LDG1k4WEMBPc82d9Gh/dp7rD8u8rKbRW22Cm1wFu8ku1k7gCRnPbh+mZcrEIB3S5f6p2o1nPnTpJ\n",
       "RVU0ZOtYAiUGDZfeHuX3OhmZgWRXcJYeUk+So6ArqY7VCEop96gEjxwmK/MgJzW12GJ2o4cng5PH\n",
       "clfkZQsMqirWo4h91lGdn1zi8TO7ltCj1ValMCp4vEB82rXFDAiiFJHeicMk8bikO9RjnjTVOzxQ\n",
       "SpKmCIo01X/pJqlnWLaOAkONN5bb5yp2J7qUh+jT7+N/w4NfLtSivQpurTIqVOmoGg9pb2OJ/7+M\n",
       "CHVYXD7ZE/r7oYEApc3HBJw/B/2O/9SJiIVy/vViLUttx6QJbpY8hvmnoO3q2j1fYmMPVTSwNz07\n",
       "AFJOTanZWG6QBxcjOQviKH13yP//3mDRzAsd5RBEAv3lyjqfVD4kDgDDuoOoO5zQKqNI4H6c4I7E\n",
       "3Ixf6pzVRyIABkdgtue2LTw4ZyJ3KrXKfjqAWCCMlG7Fpk+PwMh84S4eaz9Gpz5WNIH1yhAfZ21f\n",
       "6k0t8d0kzX31xCd7gXcW8uKhNbWvmdaS6CgvTm5JAI6MbvIC/fygOFHhtbU6mu2h3vByg5G6XMX2\n",
       "cetkYYfP1R2W2PdzqbMvQgIzSdhAGj5cGgSNqInznvbCxrNa5IgNOZM8yhGRbnSrP0NOj4dnkm/9\n",
       "O1CGPZ1NbEf9yaWoPgGnnK1BFCeor1nkRMnxCOvB2eXciatGfgrNyVrM+JyoSocjLxACodZO/FkX\n",
       "R6NtShwRMzIKDoYm5SRtzYMgWr6uiVvoGWAqLZJFks0JwbBSpvL8yR6wdoW4fqQTc5DZ4QT7l66R\n",
       "IzcYyVLtqGGnSKHVfsSyHIibrksSQCO3a1t1SZNqJcJv3heegS9NIhSNB3yRbVTuGid2FtUP9Qoi\n",
       "bz9dAvCCczKh1CbfnskXrs5eflDKOCey8hWIYUNoLaxWf+R///KI7s0o5Q7D23d3m+4RngKsWAT/\n",
       "Zq/nfEVpj8QCU41tDP/X0hYzafGyR4shIeD7r9TXTyJvEGa2xgbInibLqDQ8HM5fY4sLggIFojvr\n",
       "V0U39oYgridcU7AfMNY65sWTZ3JrZA5p+ZSh97wGbZ0ZOQZWyTrYfkpjo0+8/k4CLUqY6R6LbSZR\n",
       "SqW4H6nf2KFlIcA/5aDzXFLE6cxbep0H926Y5eiGp7pZ8RMYPb9CGxn36j0rRDwMaL4cks3wiMgE\n",
       "ouFHxJoQ4AlvkqLIBjbWFqAclSB9Ma+gKiyME9QNujBEJea4AeO++PnwAM9gS5jFPLL8LC///vyp\n",
       "98HI/PqgwM+nBiv0O5DjcGXZVnjBSCeHmHa8D9RtgI+6JYniHJTlrwdAgJv1UWddtHcgXaJbwZIn\n",
       "HYkseGbhQClKx7xy8LkKv+4DF/QzwDoH0hBBmQNYjLTy4dY2F7lJ2F7mxjF03TpyHJFaXI2ORo0b\n",
       "6qbK05Z2aShW6cVSBmlmimywtxvmkSYzxPaCCwUT8JpPOvjOoBcFcdP1d6CwXHCGNxEySQYe8BRa\n",
       "jhG3B5ghLJL7rFXFhr0hnuR1753kacCLmPL22C/t9fUqi2IMvOVPdcMZO4xkrzse9ouG5bNgk3zD\n",
       "xlnjow01zB75kQBtxAvozFqCluLh9dMLDoQzjGkoh0yelDIsYiGyK1LHtQ0nUyx3DBYdyO/vlQ/2\n",
       "9U84LkUQ4I7VC6cDFMUFuTSf6yL/8zwpVXn6AxtaNzq+A9qKvdnmwOQAVh1sw2jtwt/aYYJrgU0d\n",
       "R08j9FhvZeLOYokcyuossw2Js0Ji2+rzRGANusdk+8Rat6ynCxrrcs93lMPAsMP0Uu073///+ucg\n",
       "rx6ZbBbSTEVX/n29ChiOek6k29vm8Kd2q7WwGtuHwfTis0mbyDckEzhMGaG3QktTh1ljsv+xxwLf\n",
       "+jcfmu/j1HuK199vZE+GKr2vCUyGsKr72vsBOfIUQYle/c8EcTAfoIIvcjL9ZSRgXfEdGMZgIGbI\n",
       "0uSVIys8vQ8Obv3kEOMQ26Izd2b0FTf3ntTS9FtElCqO2OtgFcwwPt8EZ1LLi/VKXDqSINpJGFsj\n",
       "APTFOo4rK62uyBcq9VkwfIi65WMOzDbGo4fLOa7n2IjtRinSzEarlIelhv2UtPoQSVvCdsOpNj2G\n",
       "mZb6Z7V8S5R4oBD0CMNt5qwEN7//m+DSWvb5rofwkn9UiACAW5kPaWec7HYZpGKqWbRAqwltVQom\n",
       "CjpasGHb/Jq4MIiGJ32gvOkAbhM5LPWRGq3Wu0YWS36Cga9E+OWJcomuYLu8uOhpgd47c2tcq5qi\n",
       "x7f6qb+XnHDwtC5N4oebzw3hcOwk3bFPcK7wpRW4Y9bf9n+AMYeR+DTgUB7g7P76gv9kxoBJuSea\n",
       "bjckpR39n+jUir3hzK3Hn0rS4CWgsGp82gRvsqxL9BQsX/uf7orcUsCLN5hJMLQQIwm5uFPdOjTu\n",
       "XfBLvXtPt5b8zzFlfuLzmJ1dw7w7oHxI7Qplklxdz53/KCEdT//zTqOHoGymsDTgzsLc25/oR7MZ\n",
       "/iYnzZ15i2FvM2I71h/nprHo4OgGTwyxJZJDPwQ7rqmWYOsyU/ac+n4tpL51Le7+QAqx4Gs95OqF\n",
       "adiolTuzxrAQVbJ9HYKvrMMwEP6ogATScFhNyZYuZI7a6pmlzrDuuYEeUU03q2+ICQvuSiNShsJu\n",
       "x/XRstamACICLwm1vq+oNHJwnfVqk8d5W8D+PgwCUekr+O1Qu2NTZOEnUPvVxQCRbgYJSxi3IPsn\n",
       "VrrtaEaIWjL6RPr6B6j/4I4hxn3t3g4hDFNIWB72Gwpd6jz3qAAAAwAeE1OCjDeEcSUfX9htbi0H\n",
       "fG+60o/MlGuAAACHL0gf9sj2XVDWdxboZZ0gdqFQinhRJ/zi5nOEjDhFSlTW6XnfiPDJhRXNyXd0\n",
       "z2pyrJOxRPCjhTjnhcJ9wPOhMKliR/8mRMTpGWu+cbnO+ZuyL1eKGrf0YlOGZcpA9IhPJZqfSjYX\n",
       "6kIjm2f3L3iXfSf7jyIyxJ5hQ4A57QFjHRQnsrzPc6h99/irlwGcDJd5BXOHwJVtXCk2OUCzaAzA\n",
       "5uTf0ZRlPEEW9UZy9Sx8GUEaMdqX540Kmj8MzsCd1s2IkMTW9w4Q+yvAqHHiKJKHwwxA652k9qfe\n",
       "AQASBtaGbaScpLWBWIoIKy7zj7t5w0pSn5TL3hULT2Ea8Rn6On0Z7poE0d3KBwHpxkcgQNoaEwxm\n",
       "/1sqfcdHDufFYCIvvIeL8W4ULQx0qY/0+ScF1jpb+vlu+7BmngLx9gYqyVQPRvGjkEsN9UihewVM\n",
       "5vAUBE22Amj39uQ+dT8wwTEB1/b2bRfKsNbZhUL0oiRz0S7pyWFVu+Wu121VDucjdfhCPsAq71ZX\n",
       "2UeRQE4Y1fnkEHyD6st3YjFf4Y2RufP5ZphTnP2GSmTGeJn6Q35/dk/9PzBFm1NUgpN10ONiuc29\n",
       "pJ3UkaSFQGSFNphet2RrtaEn283clASF7gWgBbmwlF6ao89qnDusrQcmsNrAgb4lxbLap/vY4Br2\n",
       "sIeDRHp8TxYfEiSs+i+ODxMg+NBH6pS9BnbxQzYekUxvq30j0Yd1pohYl+IAmu4tWX/b9Ypvl+sk\n",
       "wa44y9YPungEK7TtOgNY21m+p36g0Dc9GohpOmH8Ux2TmdM/botKZvBIog8v8ikPGuWCyJtoTr/s\n",
       "JnzZG8gKnS1TRZlMM/eJD99noNtzhBiMPyWWD8cuFNZPJhn6TAHvDjubTGBIgJWLH8MIU9yqgh3m\n",
       "Ny2AKdBTE33EIifqLGaI7EtiLPwwiMb+YjyF/dupSNKcjfvgUQ5ZYF138izoMgfP82IrybE9d0LR\n",
       "AKbd44lDp6scPwncQPgLSL+094wU0eJVTakk+likxPgnFlWUWlsGyxz33IVWz9LTuWrgA5krbpou\n",
       "A3555fwCDZ0hD8qVorOy6ac7LElFEmx90NIFNqmq1x4Jz5/op6t0jXeIoGkG/4rOvrRzy7CR8ULr\n",
       "fK6aJYS/ezOdK6KtYR/BsGaoagODoFJNIeo4pH9x+qH3aaIK9DJg0B3SveN+2IeTPw8NAKmLwV45\n",
       "1MCM5XWj7BkFXZKbYONexn0J1tqMqfPuqFWgzcmUyLzH5rSjxLTg5JGYMMDClEwkI8rzbdXVFmhw\n",
       "k+Au0MIsoPQ4qTN90LKxZ7+StRP5V6KWXMtHaTCBaecKFLzVettnNRkJFpoORAUNXxqNhjgigfmo\n",
       "2KGviLDu38OYC/Qoch+HVZbhlpobzmgKD+27ShWyL7cEJmEs0nBE5OaEyn6XBpEjMqVNh+s/Lp1j\n",
       "kHHuHl04x5Hz3hgwHoYLFx0Vc0LoN6i4CyycQvu5Yii2fobPJaXprgjonte5eDR17mbYRzAyvGSc\n",
       "1+ReSrXHTiW113SFAakhUYHI9diEp9Ict0ZFrZ7Kgmyl029xvp0GkFORPFia6lnumVTImgpmDDs9\n",
       "kVurV8iXqllHpYawNgzy7CR8UMD3K6eAz3xV/66jiKtZfVTrVme7hP4sz41P0QFMxbZEkV6oq01p\n",
       "meD3hXWaoZ3DUDKvKEXxXV+c/1qPuhjgBqSzOJ6DooLx3v/hsOhJM/MUmpEztRN885fmerLq4smR\n",
       "IGPM5Uh4vqCXgqG8BfawAugFWzTVSiuNTdtSxM1W/9SD3t3hEsYMpELn8nrgP6uY6Xg+MHJz1+RF\n",
       "DE2mNR41iobsYHhb9xJq6SVWuDb/UTjlKUzH1hTtgppq3KFMlEyv0WAGOJGOVIg7elAD4kp9eCG4\n",
       "EJSeiMLI9aiZI37JRzulXq3O/S+RqxDoVYdLwZKi5upfsaF9efGetSEiwu3ZeCqmjIO/ACL/Y0nC\n",
       "YvcIPjj9Mmma6hOSmfpNuTyASGKj3O9iO3g0TTZzXNiGqqjCHt7faRILaEOQ/ccKKTE6W2L4biyp\n",
       "XEM/6Yi01VCFEOP4BVoCwllX6+acu+iTXsttDr5pZBiX8j56TdqVXOQrbjk3reCR6fqiAeALc45e\n",
       "iqWSAz35z5+MCVZw2AAtgHEohckPSSJa4KrwLAmLMK5HXnj+tbhjcC0p7UUY/MrIc6MWhb6OlWwf\n",
       "3zKBEjKgw8c5Fr8NqYk5VWEA4uvXH8VrNGV9OCKC430sfWTDSbsIJ7kwPBt65u9JYLIO9y0R3f4B\n",
       "Ul2snVpCucU7JTs8jetMfbB5w/XrCtgS4AsOYOT4ShT9AtcMKEGy2GLaYYFKcmbhy9Ak8ZxyoSwA\n",
       "AJoOGguEImu4JEnSRMLT/6PmfjLxtwCMrhsEO2edRoEAfZgjoCX1vEjOhduJCZO+T7nB9HJL9YZJ\n",
       "tmnd89Sou7MYfH6hUTJYlBSEZp9RTJmyh7dOvmI9CIqQ4gojGgfCEJ6q3CC59JuRlNEfHZOVWKoD\n",
       "zti1X5uBlH0PekiCm5aOXqgjE50pxJM+utpvgQu4AuMNQSvdbMt8502AxIZGx1VFR4JCXoXScz9N\n",
       "bDMqtXeJAAAFPEGaJGxBf/7alU7E8AHH04IXLf4Q4j8TXfqwh6lHRROGzxFbr5E4duKTAGSg4Sgn\n",
       "bhBn1N6MAV9fwOKTs7YdtW+J4BB62KyEiqw3xMn4bD3tXE1dx+11E3NIJGHSkq9ruqzgBzCxT9fb\n",
       "CCTj+ykRWDBNAWlB2dxTaHRuMWSEypEzwtPI02OInvYiSdgytX+N3L/X82R3QpckKJB+mTiDRLuT\n",
       "KxLCR01dihKomAamk64TaiwVjl6BnhwFAQKupR6pPIcvm8QmAgZF818awSVmcWrFRg95kJNknqQO\n",
       "kRQeic1xzJeOoCccVM4w9hnIoXpF+cUeaqNl375FOZZ2ToHGvcKFVlF+HYpp3o6KA6TCwSLnN6cO\n",
       "99yqTMpc/3Qbt+IQsMDyRNUBpmokpEhjlgebAjJkwaWaWweVd49nW8vMc2J6zh/iBA6aVoECckAG\n",
       "+FycaVHBpKlum7WpzqaC3wLMKvDjf6pobR/Xmblw8HLIPiU/PmQJ7lWKElB7tnHgQSJZX9prwVir\n",
       "zEJn6X7ohSOv+hW9xIJtqQmvPQ7HEzq6DnI11lvPRS5f0jIPtuzHbYE9/45LmxeiBL8ifykHQy2u\n",
       "J6BZNHcrdB3yBi2Pfs6H3jb3cvOwhpelFiWyKs5CeRUy6k2pYlMKiAm/RACwV/JKxNhXjLEPJYwT\n",
       "Y2/1y7EIzKaVkmWekjzX9taoiYMx7j30HtkcjBSX9vtGAQ5sxXV8RdCUiX9AaWobjV6GEtKUr5sk\n",
       "usZvdO8UWIrGAK5ysQlBkoz5CWr+XAJZWB7+BKIiKBQuDJVskE21cDnOck4IJkQCAq92A2vWwLAr\n",
       "dqTPSnqcyGVm2ZDfP9Av25/CwivGCCKWKZM37cME7yzdb5k4SAOma1kTvsGmKrIyXjhvDhokrsQ+\n",
       "r3tmEEzpq9M9/WuThgF0TYO5jttqX3A5bR0v8HHd/Ll1/ozSWcPZUDXlN/YT9HByBfHSfbw74UPV\n",
       "fzzhOmaSHKNRe5xfI6B2dcL6HjA/kZou9nIMejZaHRJrLfBUtkUF/axOLfFBmOKhoT5sFBUY7kba\n",
       "lFruP8yDajuKujbP42SuhtLeOsGXpt5fOPoghtYqRlx19q5PRupeSqqOCSLqaCAbGfkQjVuRiJBs\n",
       "1N2GrRtH4+fNK+eW7LzLl0/znDJWD4UR/jOZfp64mWtq+cAWQOIIV7FEDJshFcYzgukGJXj0Mt+e\n",
       "C7Hqp24HYRlszmMKzmpbc2xPaCrphM619NtI+4qRPLxpTaKo8c0S2IuPKTtJrLNnlu7dU7oPC5Pq\n",
       "beurbakPYivnWW4rkiQBAgOXDuStkm0rZ+rc4STYwBmJnMM3iCW0c/bMOiegKFfRjNNmPqtMhjp4\n",
       "TZ4NMfuAnKY+SiyO/b88Yqg/0siiUTyzLXYudDfMtbxwzLwa8o+m7m4rZedKNGgvHui2dLHsY5Tk\n",
       "yP8kFjaFqsFaHIyX9TExEfs61+BjBP+RE7of/aUf4qMcdXNUoiqFieEkX0+kM8GEF21asZlIqK2d\n",
       "4DbxeWnqn9RLCp6dPjlcx6z+bToQl2kTojrDzPTqQAAWaxlqTpSz322fsPTKWaW/8w9s9xZzkvjM\n",
       "wHDR1kzDH+/tJNa2U7LUOJsM7JV6GVqcGlcG0VlCLEyYWhjTRE0Ltxma6DoTR6bOhxZaKoBU1Uv6\n",
       "pvKbjGnESPeBEf9nonWdpuMn4Z5MHaxUb4iK5fqBHVP2KG46dRBcfiZIC6SXwLLuvzVIPbgIcJx1\n",
       "Iuog9opa0CZxXPBfNqt1abInEoGBw+c/S6hm6X81bVxxpXUYLjLgAAAEjEGeQniCnwNFloaZB3v7\n",
       "kAG0wuQO6TMNROnnAKHkDULkon4W/r2qqH1v905zOJYVs4QnljGKDhTn/HgViwiOYa1H0sBQo9NK\n",
       "ITvbmLiJ9YYom+j6HMCbmr1JTxrPxqNhGHAyS0osXZzPQloMrYH7+ZBGlHpufBglzF5hFE3DqT4S\n",
       "Y2SaEydtlxMgZCz/Y06PE9o0K92Sxt/VpfoupN3d7IwR8kSvFtJaRgtlAoeHJGE1+ltXI8MbMquP\n",
       "RD21kcMuc7XwtPr9c5tg5qktYZ3Cv8YxJujVrHAdgVWVpildotApBsKH3655fRZ0FxBAfPJU/61J\n",
       "BwcWVut0t9xLMlxLlWJbFaHVGuwtGR9Lpg0kfrQMKyvyd1qmTL5fY4tMfKZl2gGeT8i456fKhFXS\n",
       "g3F52iq6mK7BKFBKVJnAlJneC9LSqtNp5AlL20YGjRSIJWmy4YBY6MFpU41wey1rnB/xZrEzHV/1\n",
       "CHPdqIDZgH0nYdQnMVHptqPLBGuJ0I4knIpO4LZNT1m9v1dzo745o20OKHzw/t+N1+H2uYNduDp2\n",
       "uW7qqvW5rnKhRX5XMkj1ATXXB2mWKdSLfUpjQjqMbMNnxfrnXgrkg+OSExjB5JAgYy6zGsnmMa+M\n",
       "B2SF4OdbLI/suXEsqFZsz5vaeSjjbkWMG7vAYGrfMnidlTuBhMQwNYVCPgamd1OZNFUpbnd2M76r\n",
       "jxZBzav3pwgUIW4SgLv4emTYRhqmjqqXfBV+jOiNnelczShSK7oQ89iXyx2tqFofOrLcXHbiCFyL\n",
       "CcrNaG8xskCpQwcZBwCLuS+YfNs1hThopaPl0lRrTSqnwBKt38RzQZtVnAshHhdwIQyQ+cGVsBCL\n",
       "878/hSSjHpJfpLbK2hPPyelY0dgH8zE4qT/qLZc4N6HX68Z30dbl1Q8uZpbB9u47DST3FyL5umfm\n",
       "Dm0AC1pZ5xqPZ3hC225SfZcHrhxOQDpKkA8f1kjeZrs8YH0LieG2AlgOTgOwjIKFGI6TOXxMqy7h\n",
       "Rp2iOpbVQwg2VO0/+AGdJ4DoEHxZuk6RvCFa63FEes7oNY/fswnuxgm7CBy3LN2kAUTlK86JyQSI\n",
       "QkWgQNZ2rRAEa0+2d7zNW0hc4MWJHLWbSh2iw7g14sBJtPJ8XduZoWcw9FS2iwDBGtHv6CSnH0xW\n",
       "p4/2ztG+3ug9KdJEvtesqIIEOSOk/5bptMdWheSw8dkOTE8Y8usR6F0U+WHgj9DQb/oCPC/xU7QC\n",
       "Lhs8Ms8yoqOwQfVWcf1RAZIHKeqqjKqNNE1zvlXCmcY1H36T59v2bO8OA5yaEaetU8xnKe4iGhmn\n",
       "R6QgZTWdLb2pkcxviiD2QOay3p4ggFUWFkzl4zO8bhC8qeeGCpFn6/wV3r/WYviT12pvFh1Dh/sO\n",
       "I826Z0eK2lgPPjNvxTGrn+4N7tfwNUu+E3rQIZJmKk0wB/8OQhaa+VCAvntuUVN5WEZV1u7UXS+p\n",
       "RXisa9kSO/gfrSGoH7SeIFRWoeykvbuz7pg3ea6+uMr/cyNgjRwpjTIExC8PMyZr2GKxa23tSQUv\n",
       "q0ExF47TjLzhWwAABk4BnmF0QT8Eq4/E53K4APgzL/n8oxojZxELUcKPabM2ED5PIHKHmsgr32OM\n",
       "0wPhpYoKhXe5nNuVioFz+ri8n/OEfYIAPam/r/6S4NLs73wRy6AdclS4ZZbSQyZeKBmxIhTwuNio\n",
       "6N5ZQibSrmUST9YxJ9i5E7UKU1OY2+1FYl45oGmJkiPJOqQjZnHmtRBcv6eejEToBybJRsF3ch+k\n",
       "NuAbh4XNKbbZ0fnO/QIEqUDuEVl4RYCALUjoi7i2FqAJ//nhm+BB9aFxMTWGgr5+7p7Fu5r1Cpx4\n",
       "6JemICn07P87CewbORB1M9qwDCsLu+9Kcu1oHFb68CljDvS2BV9CnsR2XZX2X2lXnTe0Oi+3ofxX\n",
       "BPPl9TDTs3hAzp2xxsNrX1rv3RoIU83Z3OmnNFARh3EmiHaqfVQptpkfpZk9NfrSLhDsDL44yUXj\n",
       "83bWk742p+i1Dy6C4MRcsrgeiWYIqeextGJ43Ecx8GHLrO4oyvwJPXYHER4B0IuCvGoIlhTR6j9T\n",
       "tKVjmHwhUBX7AMYROdRvSQ01FtKt6n7lDiNhWOAAJQjeE3hOthx88VGQg1CIiLDQWlj/FsJXb2Lq\n",
       "vsJIl9dIapBBhIr8l3x+O5TiFJfGADvqdKaBAkpbIHcs5EKs+wnI7FSIQ+qvwiahRQ6ixD046Wt2\n",
       "aU1CyrHtrLeAfkyTpIgSrvPjC8s6NK2c+qZ7K3MXIkUrtmCZGI7TTnMqAWyNwObjTB1YR2BSIhdv\n",
       "iEO0Vs6GY6+lVN0MuROYbRBoRKQNaJrJbR9USOqUOFaqyGm7pDX7dFlDQ0SLOWp7yj1vxgvTbu1H\n",
       "Y5i/LSMuOeoFDfA/pcNLLiXwhm/uLLAKxwIEJA3gqJnlrFxWGFQzHuVJWA5VZIevNQr2wuNOXFun\n",
       "bGPaZy7EWXAx5dBEYnC34lcJzd5cL3VGOa7uClJNY2T9GVADXbHzYxc7zvVGFAU6jw+eY0vRe9JO\n",
       "wKHVVMgtka/8G7tc3UIq0XJXb+vjQMuk44cmkRyt3Wxg5LFqsBiWdQs8m5EeeXVkoJ2MUpr6+T+a\n",
       "LPCbf+BZyVs3l9u8i63PXi6mLcitdFBBywRcjrdz0ZJhrRv5kB51CPLwt0oWopR8GRyjzEgVxXjF\n",
       "hE/fFomahZsNm1KvaXjaGo7WSfMHE7Z6Q2VysL4PMOu2GL6cfPqeWSz021R8Sgx3DX4f1jKBUkVY\n",
       "UVQVnHF/1yj4xj4LtLX6A/BOcizS2mKG2Hp4UfC7KLj2Hq5dhs8drd/b94JaM3AIu0AjwQfnAuQN\n",
       "c7j3/GpJCOgqupBZKQJThfk4vTsWBKNxurzVu9wDx8Mg7eGlOVrwuhQspu2PYtPf7FdQfWmqtNKV\n",
       "ic22s+AdqfhYFZ/3RGZgkY6aAGPRBANMPaEQrRoGyzax0BOPVEG+IMGx4eo4uVzvI+QDjC0ayoUP\n",
       "RcRKidKqEX1PUm5h/yCCMHasvtON6Kai7if1isBqw+CAPj0siww4ImQ/68urfMnFrmP9GElVQmKA\n",
       "112DTAxt7XF4SpLticdjKAbDdhQbQEZ8taqFPnxMZIq/7ijuyQPz8Zp6zTCeGc74lMkxM9TcxJZH\n",
       "Z62JetTpYF9ZX/zZFP8StZP6FJhz+HZPNmRkmpYcv4ayfK1U4aJDaajnTz6i88AjBhuCR9w7L1Op\n",
       "lU98yeqbr2QOW+KBV6NnZihcq6P9rz2oNTS/QyyvKcoYbGp8ZpQTX/2tVa8vflxRgxV2YHZAbqhD\n",
       "fhIhBAYZiCjCh4BuetLVqCnovirthWkLuNAbMERKiSu7PuF+TznNQTpey/YyLoQMENdCuc3bjDpb\n",
       "YVcWbQhSFikbwXTCirK5VXQTCOM73mt6aY4XlR/5tOP91rCjandfdbZzjNimbglgAmHMN/tpPaNa\n",
       "qnsxnX42aKY53vaERrPjWwvVvWvAvhKo5jAIGORvE70nlpIaXa0fk2xXm91Lj0EfLWZhxM/IAnXy\n",
       "qtop9lffxmrpr4F2YRX/1ddVB3CNlU+TXPqOIs7X3YEonSR72YHk8ukUo4dazZ+qcA7uYLmD594l\n",
       "IlcdWtbh/ES5zUzpVGK+avmTsQMY5zYXRoAxuHguApksfX7SjJR0rhVV0XFbCY7l4WDMoXoMpYaH\n",
       "CS1uDqvdhMgS8m2UU+u/0Ta1dQ+4PJiGDniXxTNSb/gAAASIAZ5jakE/A9/WLy2PkG3bVztJLTnA\n",
       "AmddHwdHNDMMlMXelG1vvdXkER36NbxOIJkUXDLKzpheP5cQWlT4t3mJE759Y/MXm+ySJ8vRdfWw\n",
       "fGneIok08owLnBUb8J2phun979IUIatroEln4oMLs/IxSLE0j2dHhp0xZD/ycRc9uxt5itbGotp7\n",
       "bQVlwL/dGzT9xv1DzejZRNqClXcqSKmJVU9GhB2zl1Ug2puOevQsawA8czdZUFtvhpdRTFG14FrQ\n",
       "NguF1M8Hz1AvMdx9JHErw2A5A5NaO4R3w1UVrl6VmnxvCHGjpRRd1we1AgvOKJqqeqfM1PFDAqKD\n",
       "7SUQTCR4yHjzyVp+B+vZuWYwBqCC8nNb73oLMVEIVqI4PZCrF9WKfaQ6eyMfnMglB8xGxkDE6dTY\n",
       "fIRe7nV2hx7j15zcdH0xSWVe8ZezSWRXsN8FOYFwsIJuRev3f/kiyl8aFFQGdktLSQsoHGHRMiuy\n",
       "jA9967g5Y2J9tfc5QrnjjBYncCeNffd4MU4ub603nm1wP8ZIpOdfZyp/hzAPKkFI6xVL6Hd6W2jp\n",
       "6xJp7S2zPRfAKlUp5czrYB4m/+5mYncYEjBm73rVRUkY242qkzeXidmPoyh4A82PP/pm06frIn+l\n",
       "QdwukwBujsF1DOhFbHDRWYRhZlSeVIDFYW70RGAaipvUTLfu8VWIUgFMbv7xSNtzuEZwbnMwBlMy\n",
       "5wWa0cFb5ibvaled6P3BFRn3OannndydKTcg6VDvuKM+BZkNz6xJTZLPFMpaESgm3YskffCu8ugi\n",
       "suu6mfver8b3x2qFdKoGO/u7QJLfwwYXRVQ9mGr+EVng3dAI2F6TONMR6ij2zuyHR8ku3hVgN4fq\n",
       "jW/3Nf+yWku0afa8W4PkPW1WB/dXyFKnbjD1dSaU/fhbwwJI2TQwuAAE0REvdyKXc2qzc8nIANYN\n",
       "758AeyzPIzc//eQS3omKGfaZZhYr5kc74f4+0Gh3WCsoa9s1TxYqtITVcB2wqOItDNPgPdWBIioT\n",
       "ILqix2KhyZpERBYzt25hXVMCkuV2ETUNLJovZhKrk77+S5wG9LmbQ6BqL9L0WN92UzN1AAC/8/Fs\n",
       "MNNkkc/p2cE2u97IPgfCBGaVgOn3uOt0PRSu7kpgB6w1YkNX2WQAwU7wid8EFuBY3xdwZ4JKkHx5\n",
       "Co4Q/yj4+YxcWwEaTRSCCCHUXWe3f0qTXKevciAnJ2cpv8eRIbGL6Ez060c0nF2p5pn1OYziSUiI\n",
       "YZ64PXuKDnLzfLUOdAYHnc8osX+gWgz11Q8bQTuyeXNKc5BaAkRDXSHB2gPxkqFa1ZSOlAZQbQMJ\n",
       "C4ml2MCgqgUqo/javshA77ZWg7j5K8OWgVMUHJNO1NB5p1jorJ2EYUryKDI5rpVbXoBlI85/EIcD\n",
       "B7Nl5bP6ZfwBJ1DCgx6Z+mq8t8EJXiin1RboUkp8oqv7r1eP5piX8pkoM6CF54vatjurS5dUb8g3\n",
       "YSyJlJ1Syqv544OndzOyVcD+cShzEMh+EpM0VMn12J7T3wF8I/M5aeYpKVDOYxL0l0LIAC+/yTkA\n",
       "AARcQZpnSahBaJlMCC///T7xpwFQZvscj2BMBgmYYHDmV1tpTlMa0vnIWMTAL201NqinkyaBa9Zu\n",
       "JIGK5hwoxSqa7mlRRI1xqXXAOFfq063EEv2uo/3rtEwS6D13AFxMvizxY1r7+0Ea99VMt9F6nn57\n",
       "dZiXmr8jCIraYnIENMuf9r75RsXW6vhIrktYyRx8i1ArPUwuaK7BA01kacZe2MvNim88zrJ8xgLD\n",
       "tKR6B5dkHyodxLgkk90tiWOapVXT7gUjpznOTedobfcGjeL3IDzDCIv/5uJcs8uv4F1B5v/uo2tw\n",
       "o4vgy2i/RA4pt/gESjqBIauweySMAuLV5bauFnE+6ybgxwc0goZ+bE+pne/KfI83TdXRrhPLKdBb\n",
       "QxF4/jt9740XM0EYmNEyxH9ACkqgDjltfHZg1g9g8Dq6HKqSGB0ymS4tO4pnhZ1oDJ6f5FjWsyms\n",
       "SYS4uBn+7xyb3GkHmNXjwY248gXOFF66g56mjhy819rDSTZllu1yZubuAXtexg5eTQbovgCq6UyA\n",
       "Bmj/RO4L47NBdSCjp8xOy17KyJLOruCZGfEcIzQnC++2I+86npIZi9mtaCGsDOGmw+uo30CnydHD\n",
       "jeTKbEwx8hfTzCmmL9VyLIvyfh+jE+pla3Zo2FkG09KDzBfXbjab56CVX0LgJJsWdyOLMRm9di5p\n",
       "9Gt2p5lpL2FPInEfwb2lWGQHMV+D+ZMyIKW5fzYW1Uxal/JxRIlj3gLxYGRQ0pEuYfezhfz9cgpx\n",
       "7ZStQkF0mYv9LuiqcBJWGXAMCsFh7Cow0MVp27JlHANY7A36v6bxfgsE5Cm5waO3t3PqUSpbM3YE\n",
       "1IQ6Ua1E3IJIND2Kjpg/nK2yKKztswWacqqR3wgQiUwwe2kdyk7cM2N8ApIdtk0GOVphFfHJa5tf\n",
       "u5gwDfsuFlppuXMH3avvg2PBejqPVIhM7GiIMKBxEdN+b/8ttRBfwAcjXWeE3yGU3hL4daYCRUzd\n",
       "5NG/xFD501qFKZHaah3o+KMOynOWN+rZK/cFtDZnnIv6D4uNeJYdQGn+2PpzFfSo0z/FMhH1+ky3\n",
       "rPewruF1rzflSuVP2UTkhebSEX31fqAh/HrBL0kftXxDePXWg88GgQw7xgbeNcy1LAwl1HWeqzP1\n",
       "IEdNr5VzcwFuM2qbf9EGpZnOZRw0c3h2xiY25jOV9MP90kuLftrLD+Sik/DfQaCD1iRuVWDIPs4D\n",
       "fls/2rM/8RRh0lxtIGQ3HSqAyON/iUZ1SCTQqDQgWj1rrht5HOZ9y8/d8amhpvT9YcmE3aHEg60k\n",
       "WP+3EnuxAQFHDotrGr2s0dt6Ua0K/0R1hAP3dAugyK1hFJgk7rPsKZQy8V+4T4xQlRdczYei2mmg\n",
       "wtjSxPsgllWAEwiLkzqgyULlUQ3W8/Mi0YTcdvv+fh3tErOu5UQ0+yFikC8xQpMLCAI0z9ya0+7x\n",
       "lgyvT6T2VCF/HfXqHRsQDOab43Tcb1DfFLjHYSpBBiuLFEd1AAAEMUGehkIJ/wS6XVbgA+PqfWJ7\n",
       "oynhJ0XrPpZOvnyLbo86M/M+5YqEr4fjhw+YTbeMLvBcD6D5n4qCcxOPKn3ik8H7IHwOx7FZk8DB\n",
       "xTiFcHNV6Q8VfstrXTYDk71zO/XoK4pUuJxeay6Ee6GxlgvpSWAjzuMgpd1TlPqZxLW+LuMHerJi\n",
       "WDCwsdwUpv/c4hRLpZGgi65/PI9vFTxyD72DLneyYKwHbW4HqHdtLLrCTMS0Q5XkMzHn0G/1l+bO\n",
       "x9BzyGN/mke2HksBPF8YhvbQG90EHkMVcrhh/+igAWaFl1R1snk3tp9pxEOHHegDPeqiASrTo03I\n",
       "PgFdRr61Ffo28OefXixGS5IHpSTQ0BYiXjVaDw9XwDv0SOMMIkoBkcriUbHnKiTYIs4deHH/lBAm\n",
       "D0G4SucahasG9LlYtwU1LYyZXi4gHG6OCGHuI/WAIdj16gvi1+5bAe3nWXXeMiBGAOFNB2EvcURg\n",
       "XIXKvL7j3AHgz6XdaHGRIAC//dl5DBTavLNeR5id4y/4+3KRpoTQ0DEvWYr36hj/J2dJTeuwaL58\n",
       "JZhiacbD3UTFhY5h+4F9yklJZMcErQo7x3d4EnFxYsJaZsgifUh6xv7+Rp7PjFyPPszCFrunNWb3\n",
       "q4+Hc0iBhfDMzQ4OCMa3sXjuU5m2t6jajRQE56nieFSPQXCD6Yk/o2AqJIOydbrX6Ll5BTIquT8u\n",
       "vYQXHGC7GAvQ7g7Jbi43FHdBVx2ZzwySqMD8aJxjG072wS6GeJfd/kRp+8Kf1dIJKDkqs4RLb2E8\n",
       "NTU6aEuf5yMqKxd/n+soDgQClHyGv67WAQEktkHltUzxkgLOU5o7J2xsorHrRYcpqokGzpqXq3QD\n",
       "1HWxTDazw5r+8u1QALMHHLeG7WpXsBsejLvsRqmMWaXZJFoU0jyp6OQWNkz2EOyCU8ahkIHfCKT2\n",
       "Pnx6zBYrW+g6sXFLZoblFZ6NJxxNZDFL6k5OlBAmR0v2hnSozqfd2tbwO7H15O0ObGVUPv3z5nmc\n",
       "s1BaEpcNoNbLMLDBdMmxNB3LyLlSqrcBLDey5ODkvEObD3Bvjz5bv43ISrlL7XJpGBIRwNZ1K8bH\n",
       "ncvhcNIV+Mi5xxjL9Y/CaHz82nAADFNAZyK6f194muy11Tk/M2dL59I8UtwYtIY6fhLNgVwJ2buB\n",
       "CrtKov7sTsHREt4kcPfFtlQroNpS8x5Vf8fQQDz8zyBYB9HjzzeeUZFbawjzJuHUUjBNxLp65Esa\n",
       "7vOzwYYSn3duy1U79pWhStNtJ4i0UIFK75O0Q1A9fJ3UmjBK0pyMFRVaw4OHTGoZQ9hfiKAl/BzI\n",
       "5JF6HyPuKx8kXY307gyJwB0oJ/tJRa6Qy1PnLROT5kvS7UaOvGkZPUyOJbc8keyYiU+Dowgu1AZ2\n",
       "HpBKJkeIuHD2A2by9fPl4tnFP4rp7VJtgeeYUBnxAAAFJwGepWkQT/8D93Bj0zqZRg0ycACXc0QQ\n",
       "/MwmdjSuhh9bI3GR68f2hHYefhGr+vh+oMD4OWsY/N5kVWHdR2ntNwDA4HUkYACxqeIWE6lsk678\n",
       "BuP7VBz+1DxD6L+V/+FYh/SLPcM8PPgnptsRtrecLe+/6RRWRhdjop2I5BRqopLGpYPzSeMJ2u8d\n",
       "WRA+WFwsGE2ApsRnyV2XWIA/JRMtGxOcEfpf+iR20YnKoztTKCKkWb4E5fqbkON5kv4U5/X0wycO\n",
       "aW4J9O06rmNS66GWvMhCYTW/VZYKHClWZhTjMW/aaTGllwHufFy/14NAU9c3oDqy+UYagOZ+TmB2\n",
       "JVl9vndD3u+TW1kDHT5TyneT671cOnnoGzXu/P3VV1U1XEC1jclfjlQADeGblhLOpA7ak/t7pIS7\n",
       "/g8YMee6Wx57c1l6JfjPjSWhOBGWefD3/4YauIKuvabCFKUMFdzyvzwkpHgOMo8Pm3Z/0hq7P8jD\n",
       "vtyG7EyFS9C/aE+cgPI1kwB2ah6rldUjfZA5jobOJwtc6ZQIgypFZRn7ES2chB5EH9kZDXkwywq/\n",
       "An+xrWzor6oI0FzBdMiLKR6MUaWY0DTW/XZZe6EPVFV9y+b6D64F220lKui3caiTfGzi18LgCHa4\n",
       "8LO7gins7AwXhlF0SGj+DQT9MnlQL+ydHO1gbqSL7Pn+l8Gz83Al8L94A5JKsVPfCEYKIy2iP8FF\n",
       "pV5hEn1JdNmKNb5HVCUBlkTDr6hgmMYMtJQOmR5wxKnCspTr7CdpMRIlRs70e4AhJm5Rybq3FwKb\n",
       "Vnx0UEo8kCysqrQW1aaFt7HvlXCEmavdSVAjG1Ug48Gm48TinrGcgR7RiEI/6aAeq5wTkNUSNhyT\n",
       "WzwW3HNy5dM60IuhYAjWUIhcdwenlmXTNT6Vqr3ctmAy3JRPr5Qmd/UcqUlTLgZ3TReNyWoy+Aud\n",
       "gXFtE2SREDDfsCRPhLtMSVEg3dJU74NQXEwmtNELtEwyJNrbYMIJJ9e9t9Z7yMGP+C6uw6hzw0SU\n",
       "29rHDSfq1vhFyyHPAdSO7N3z6WacNMupMBTnHWXz/D6EBk83kZ28/S/SMQItYYd0OSfhWqKX1A6d\n",
       "skwtCGwz8osk4SX1Lirp+kgenMUP1xjNy/QfWY/B1OTEeUPuhZWMLGymRGjmWMHYQSpIDCt3RMfL\n",
       "5DGJrT8CeBKM+kMr9rizd4EF/Lfnci3fNcnfyiKLI2fppIJyYSMUxOpwbp1n68L6cRcDKVB/Cip3\n",
       "Qr4fGFjtQCg2RBBlji6HambrrqcyoEyXHCTENWvJaOhNSmImZRqdG3034e+fO2pxtvA490c8eYIe\n",
       "KBTzBN3qREQokGp7aUo5oMVyU132OMSv36mlTKA10M4/7MJCIoHiUYniCm7Nqq78CDxI6owSz1Yf\n",
       "r9e17Y5tU/DFa1QvtIsdWoOIksLVAcnGWjclfN+QKUhk7FjE2bOplU0CZGUW8Us9UPMlMjFv1cpI\n",
       "E/GwHR3NvaLtjpaepkiQhfDh3jIV2Y+cmjIM0nDoiqUq4OtLd+e0dqpENuZLpOVNLqKfOgM3eS3T\n",
       "rXE8qln0LpMjjPqxXLgJDm6GNtyv4RrVnwzr8mTdU3dgbSKbGv/j2pxxb6fpcWdJvTrmuvfYRDkj\n",
       "etLTjXGF9y3SnG/M2PMD0Y+3c6dmvlKX+q3btc6o5f5vGLwL2LE46xFIO2ty8AMU3/NGJmjUgdrv\n",
       "W8QtjN5PIcwE2Owr4LWuuPs0XS8SiH8hHziSNp/uc7OY04sBoDIbT12ZAAAFhEGaq0moQWyZTAgv\n",
       "//0zXH/3p3q3ll7JTMwpIAKfsvjYxzzVO/L2hXV6Pcijs0QcswWja9emfEgmx8MQ8hfrgi4j/4Jv\n",
       "a42vctrmNsqiX1D772v/TobY6YOMEtMMYMj2rcQDyyUW7hBqSvUy6y5FlvNqpbZItNdbqXz1Fzo5\n",
       "2F4IQng0x5ofaUdfv23Uc5AHZJuT8/V4R7OyBPDxUk/8C247LWoNLDPRumB1Sm5GBFLMlfzzeIvf\n",
       "u+ucj1OPdXwODbxymBtzjQVWg7IFPpw0WZ6iyzdWBn2jbt4vwKLJzSRH3AC4cyIGlk58Dz4odOMx\n",
       "xG9fhHipyz35rngNmnlGzsb9mLcqUV8C9mUwbHOukwzNXALZf4zJAQ76a6rixWGsqLNcgNth6AlE\n",
       "Ws9ZVlfdh3dr9Z0w4zvDWRyA84GiX+5gEdxN+x3sQ8ab4BGNGi/U0H3omN90zYz0l2yNIAGsx8tA\n",
       "rPO9salgkPQ7edkvw1sdWmbSuLaK8JUyUa3WcoBMGU99ZOBayQAcbbdqyHeXHIUcV8UBVtA+n1hN\n",
       "gvKr0lhwaOajAYtolNJVBnCYw74nl4fEr33hCCUsQfH2uWgHS9s17uKPLYvPgEqtUFqTSLM2iCfd\n",
       "Qr6mSI/o0k1Zmp0cWLGgrqPt31KYItgvfwNke99KLE+Y8zA23UTn7cnrR68MufRdjVyScJ0psTde\n",
       "d2tRPy/i3mOouPV+dP16TYacQqFndIX+B44q5Ya1DwTMfnQ4tejf8au8CfI+jLf3iH9BJkvZixeH\n",
       "N+8LA90/1BeAV+B8XrG/qBVPqLEt6dv4Sj+wV8QCTPiZPelHE+/f3fmwylgfML3i/Rm45yu2EvjM\n",
       "0fPxdYA5Vcxtsdl2SDNj+rGr8XXSH7HPxh3xxPRDrruQ4WjKOYzoDlwAU0CJ2EurQhgQ+LyHeTuN\n",
       "VQ6GT0MXsLCs8nCMkJAoZHM0iUL/NN8DCg3yNSImG5hSfzQvUbCItLe4GmCJ/ehVhVbpzDiURb2J\n",
       "6zFtjTbr4Gdh+EA4vkneTmKZT9bPI2qZZZe4z5PcI51iarsFh5nSA83gNlrDR9lckNGH8kyCeXFh\n",
       "k814VJNN5peRBWiAmJBkl+dOgyc+sVU8SgrZ9PK7Hp/ZOONbYBrD+ApBZq9hyI2pvFz9XhzHnEXM\n",
       "CsS5/Yw3XWgSq6nOvniyQ/JHbjlBUalwfbBMuhrIYmkQUR45b6JLXDkTTq7XRUeCy+p94W6drvkS\n",
       "pmG47Hfb1NflYAz+p8brUhVT+UXJLFwhMUN92CQfFAYcbJyBT8o0UfuP97yGIwnDZKcVUhCrRPZq\n",
       "Csxx0T3ccReRwU416K3BWB3XMVtAiZ79s3w+ygjFfacdpvGGC88pgvFq76TXw5XgflvOY5LjkCni\n",
       "gYadhMa4uUp+VY2YgThAtFRWSi2WNljwv0IYeKrHGS2f/FPUx6Gx3PLAeSWW57g08syw8xBt5TVi\n",
       "aBUFftqKc4Ki6p9CIzJupv7jD5gR+20BM2fHlEF48Uuin8Xz/2Mp4iJRrOf7zFMolRVY2gmVFRtP\n",
       "cQSY91rswJD9V/qdSv3h5WxeWmhTPJFCJM9npHyDiIrMaiSGloQbDToFSV6whpuEQsEdVpEdghpi\n",
       "+f7E7Bz+i0l945r570mSn1x1g4bWtjcAab2M8rfWvGL1HhLVD1VaAhcUMMY9nRRvbYiRLMD7OfK1\n",
       "6jn29YrZHi3rksACHODmBrVZXWkcoarx8fXRt0ccPOBZ5Z3ETKcYqjUsT29B9rEMK6laZukToG8Q\n",
       "hd8y6LnpURjUP6A5oMY4ZTeWl/r2gYVVshJQkKYojNZYThyL2Ag7fX5x7n0UIuz3W/nQUY9T0psC\n",
       "hm1cWDb70rIybO+R24K9HeS4duUtnmsr694NhcWaCi4CAAAGRkGeyUURLBT/Bs+hc++lGMa9oBvc\n",
       "+ubzZAAJp1/E71E6PMH8NtNMGwmqXGuMpSimDPPXIGRClUIf7xL6cELKRInNg7tbOJAHz5d9fBIU\n",
       "4PcbVwRt7Lcoiz+/WU6eU51f0bzKc6Xudh2JJxdGsB9gNyUhvFUCBmcq+NBb9nSlZDugUAJljv+v\n",
       "t+x6T/xpG+057vBlCJ2R+zq4gK+7yavPx4X12f6rAhUeF68fXmzN2oGCzwp/Gk1N+gfbSfWa1PI4\n",
       "B5/DuP83HiLt6sN8a6Bw8swtzUS5CB+naXzGvGDnGyA8dYPGZQDDySFIBrTUxkLmnpXtWMK5c6Ct\n",
       "S7MFvggP2wzlebjk5kkb9tPcThtfzFgQalEgDKLRYmxIz0XPYQX4HRt2iv63BqMPOEKfO4CsjS1Q\n",
       "+zLjkYz9dQo2sggwqy873YxoVpFW9Gw5hEcH9plb1eNm0vtDfEeKRsq1X95um04fs67DY2hG1BaE\n",
       "MCvsMOIO/dD+U6xRw9vLLFPXMbcqRkWsUK/xBq1g9VpDb20PfgCuQrJbxKMzvQPe6ipBtpCVeHsE\n",
       "kJgxECBD/p3eIAGf9V9TTjRDz1yJ1gqAGrNt2JYIn+jkgA3WvaOJsCdIhD8csDOqVjOpOVq17hZF\n",
       "+8rw2JSzAZLjMB/rf7QLtSY8DxHugH7DMLY626gWXZjpurnT53MxtLmXw3krEEp0V9dQ78qEGlJo\n",
       "UI8b1Vk/B6yaWkrI6wKo09MpCQ/Ny1PAdM/C7vzMnquEARzxYG3RRz+SdoYsTZlsc4jXrgCP728h\n",
       "TGol1FZeBxYqj/z5qzRRiyyBFxVqUX72MbW1tv5t32pC0jD6osMReOPPoAr4Zlnj2wOq3cUfd6Mv\n",
       "pZZIBDXezR54MPwT5LG43lnktKyygkO17NO94urxQsaqBC51uBdEXqp0GOL97FmS32RG+1mgGx/f\n",
       "K+9hRV/sLxx3aBvrICj9IuaauP9MQjvqvT2R0Qng5y+dyfCVeAIJbEX1D95EVHSGGc5DTTyvh9xB\n",
       "7/UIjTIP+5g/TdQ2+TcstPZ9AcS+8wY3MupT2axdp65IYilmqCNBpFtH55gpaJW4fYTNA+TTHrtQ\n",
       "epeBoiiz8XY3tXJKGI1AMw/FNHpAIykBtzfYdYwuCiEAsExNFaqStH2qjHIKzIKimgBaw+34vFdt\n",
       "vcr+Il/IDTc/Y+S6V4wQPa7Ojg40RVEHJEkmekgdgNsODT/pLIMvcD9BNfIoi8kS/krpE1KK02hw\n",
       "eipBoL80prjL++MBrcJtS7zpVTvd9x2tWVqGoCxNfwrVdoXGCKZsgDLe7vRnDPsUKG6xjunYCF94\n",
       "/JmWAUoxf0hCC2gFw98nhAXYpboX0vz0J4AVeaieRsMJulXaRJ/oK8WNrH2hMr+APC16auuG5nWM\n",
       "yiya0sZiR1kGgsDWszjNQtgv47tt/0/TpHBuVuCry5aaWYufMiB4O85emdGczliOmK5M5OfOOkh1\n",
       "C1CiGlIY+wqm+esHhqmnU0ZZ84CicaqvxS0UnLLcOK7uc8EIfmFHSt3/EziLk8Dvdo6NeAn0w8Tc\n",
       "r0HR0oThE8FM9PoHHMftgdXcVHucdP8meM7wZSwr+ykN8+d05HZ1QrEREgeCHGs1SV0vGE3iiuQk\n",
       "5QLGg2lcstcTOJQ0rcgWynSq23gqwmIekCGWn4hoeW41zOlfvsKN+RZIGeXGJH2PTtwocRBuMUSM\n",
       "r44Y/FQc+81MbxY7zQ64xIvQdWfg5Pbxy6QW3nYJXIUmspMBYeosPgX4JI0/rIcACl8JQ6C6/ohY\n",
       "HsQfmlABGji2TIG4TlZSF81ImxdEAN0eaYSLAPv0qjSBDKZvh56Do8eYet151stEEN8QMZ9UIDDq\n",
       "7YrEBha8acnSFxlvPwa4U2AT9gPf5V/6lx6oVVkbE3KHzgR6XZt0OUV29nBLX3j0r5WBvUQxCcdg\n",
       "AVTRKuGlvNn/aLpdnNLH4CpjEO1ppQMtghsG4gUc7GYK1Npn4dW/Tne7O8nvlqky0ab+PgO5GsVr\n",
       "ev3yjnoimlxwFrlRQjLFsARlPlxv53vCKF1apSGRKusOK4iRgv0f0NRf72U9IpXCOjD3vREj0PhH\n",
       "4QatBJ9oE8+R+TPG3zFO4D2uLGXCSkZh9Spyf/eoGc4SZsvbFN2jBeJ7PIx/U2QAAAXGAZ7odEE/\n",
       "A+A2PV2QyfN7a+gRQATRcXOVMsra9ycTPeAGwLj8d+4vfSrG5hta4d8j9sU7oq4Fy+NMSvwg7SS8\n",
       "UjBn6Jq5QPmkqqyysGzyFDcJ+mx0LQBtJND+wbsXFDMCAHd6KXug7prACO7z9s9dOUD5G0AQhxXC\n",
       "6/m+4naH1Wukczd2Nhp0Iu6hsBNU8n2AtrfFWz9vVl+gq+382RLgp2oiJflQXfU7xC1qjV1G33p6\n",
       "tswS8pBpLkZHvNBYl84FD/vJT6BOneb5h03c8fh/F7uYzXLKHrea0PBHkYmCd7r1bIldIfu+8yE/\n",
       "NvV0DVprpJiZdMr2P/pc4fTeHugKE/IT6tHvNyRZbc2sAGHyPZiZXqgKkAE5TBcAGa2Wy1bsjcpV\n",
       "OnigByC6WxeUgQKC12NxNqFeASdx/b/v7nJ0WKY9cGr7YQHiLFk7N876Awl0qemgt3azgbYCSx+k\n",
       "XQc8Kap9bWSSw0Qug9SlFqElQ3ifd3uawKaEOBFfv3CsJdmXnJqHqq8vppuW0ffJwopuU5L8U1Rq\n",
       "PeXHeKQygJKgA0hWoPLdyh44siQjJPhSAU0dAtSo4YDzY56rjjjd838yUSRue3F/FJUYFkijCTJV\n",
       "pA+VaEbmVqVe1Cfu+tDKcyy/h1tBIRudJPeDQI0U/M/XFyBJstQsJ99z0URP3md1pznUZW/pJkqk\n",
       "FFxAkUxmGaV5i6aa1EJvsz8lJxKIhrtfhotHfRqxic6UQeq6/rLqPEeWxDTqxKR09gG0dpoAu4Ko\n",
       "5xIj24c1EreE5em2fqe8UktZa2TvBBTMq5XBbVFMbcmdtSaAcMgIt5d3IUeAnTlBSG8J0ze6yTSp\n",
       "adGxlXHM0cHCOJwGVDCjVmCSDaSMLxwTE/MeYU0FQREartvuApbjmbNK4reztjbgjOX5mXyNmT2v\n",
       "svbmvc8pH1yR7i/UjeGJztp12e0/ETwS2P31VeIzaLkgw/hbcj0VeEq9QKNdwAVgsVKqp4DtvRG8\n",
       "///WVTcWnedxWFn0ATN7pUqf3LJdoLDSvVRACUhho8ZkHFgost1bJMobRjwotCzA8ynZz8YOiQw8\n",
       "abAyrPIUW5snj6Lakt51zDjX0kkfxAkgrCaGEbEuVMWrqeLGFUgMMrMU9XD0arVH7XxwsBuicBn9\n",
       "LfiUQ7YjxwRX2KPVTb+63wdBULs7ZWWA5+OwUYJSAi5brzvalOP+8dbns3wKKOtPHR14XCivF9dW\n",
       "KW4/njjSnvlhtj3ShqThEpYAPcq5i6URjk2foK7uA8MRm8Ab4Cem0roByaTvoN34xZ8NhTk5zRuU\n",
       "AyZdKuJ4TmXWSS1tUv6Q1LE88AwPEd0dFhjtX9+ajhoqU7Q1bIB16Pskz5lPO3kAJU7yP3Lz7W8Q\n",
       "9eMIDwCy7VnSOR8pcJDmZQxW+RCBQsLv9ynwEN2c3QUpxNeKhFeyRCTiz71TppOpZejqqQdhGCjF\n",
       "Ulh/DIrArUmAWvjqd+3k1yMabaveIauTR7rSwT3BBAE92HhmA3lGUxtLhUznO86QRsOTI8dq++IR\n",
       "o6Kf62+mIXAK8CFM1jd0RI6YvfvpGT5MvZe/TxVboy4UlW58E3PfvJ438GIJGKV/XcPI0Q522Bh0\n",
       "AX0OYztro3fkxiMDANnFgDxY7yETqkEqF+21jwyfECya/AXuOwlVgJcEi65CbWjxImp5Vk12aNyv\n",
       "jstQiSIZnaGxMV/uENw/qo+Pu3sFbTSwZsk1vPbGGo6um5C09ZOaQcvOpEjrWPkSK42kO1XyqeZi\n",
       "1WCv2OlwS+hv/CSQxbX1TD/ABKpfyqzTbqgPNgG0WfHLGUmUD/OQTlK1cxvaS7yBFLtA/aRcjoh3\n",
       "EcwGzDeQz15yyz5NYRxGHrmdqySJryQvuwMqqWf3KfEzi7lO0HGuGLzY2IVvXlL+GkCMeXHJ5YM4\n",
       "xOqFpevokkTwNEedHt5QU2a7Mvgejw43WQwUJ2szCOah1CbGwNxflAXuJWRwd8EAAAMVAZ7qakE/\n",
       "CIwdUs6W5O7e66+CACHV52afr+An0xVnvSqH0MbexKgFacmsW7duXxOdSqXd/3UPbrsSb/m8YcXE\n",
       "ruVEyiwL4WZWApJ8TB0alPNGh8ilSi09gE2HlOLP72dyCogfwDPJS9J5hbiUiKQ4DVwv9wL8eBj9\n",
       "bjY5J0ARXM/+ZiM3W0ghhEq2gLt1b4mdrFLNmrZ/3qG74ahteuCZnue/tL+PD+9DjguLplWjZBw7\n",
       "/Al6AIWnvHP1GCZybTSiTBtFs8v8CRkBuH4GS4KpMWCFnr/+DpD9Ql28RIMsaLIgx4kk5tn9TwE5\n",
       "UDZFk8RyOx8n0JNQAPP5YAMa/WwyGztznGxl2QWo35vCbr4Ujgmz6E2GdehF9sOWfmiA5Kr9Dhtr\n",
       "fEp1o+ocbCFyNo940p7e8FhJqsGYgk0SYhYC3qO+BUjdmKCYsqj9vFdmdccE/ADU6zuwqA+iuFnC\n",
       "e0GNHbM14gStUucy7r1ScMeghNJkbaQwW95gQGB4nclhmJqzusb1D1mOZE2SmboOx8SJV1gK11Hg\n",
       "ZR38XfQTLwccNGtAuwJb5sEWHx3i6HwBzwhhd9ULIrdEtwRej7UNoNih1jkM47/XTax6crtFa6Dd\n",
       "4Fl4TWJKKDg9YI4j0CkcpFHAzkDIYPtZxc8qnxjfVOHhs1y+v4zcchYsTt318jmTOD04Rkll/TTc\n",
       "sDesQgaxcNDQOsrARZuaUjhziryT9J1IkzrsIW3+twT4WT+VpKXWmV/vvSfx3Ka3cCNvj87+7cbm\n",
       "+NRX9lcRL2juSNf4N0pII4P1KKqyFWrKFavWc/guQHQ1Waah+ZyT0tZT/U5wbbiBNp8mbiupjjzj\n",
       "ySEr9tfI4y94iiuejTPJjYwlOsQmRVcbK6cm2AT9Fiu7GbPKKEZMRsVCQMRuqLv0Fc+RrR6sG/TN\n",
       "rOB0n/pfgEOf7nqcQzBsCql+cTsYFKvL+/JGcJkrTGU39zVAKa5L/WAlSUshihzdKFxL0Z2qrZ7/\n",
       "0Wt0CQ5gw2njbeZFSv5a98zuA6Z+2WsNDTCYv+4qPxPYaivu3bgG+6dgAAAGTkGa7UmoQWyZTBRM\n",
       "F//+2qBn1lhoKoQANHVFKFpDvpQsNOJsMkvpgotyh264k5ZDcIiWfFeke016omIdU02S6vIcrXe9\n",
       "XkjQHozBCIt9mb2ZFDlWCHjxKyRmsxoYZV5Jn/2Iv0YW+z/grzwwGVWswEI8YnVKaMGlhmmAGMhc\n",
       "6ttC1i+IyY8ogRnHNwfMCDs6g7DFRIpqh8i4cmNq+i7uvYc/BhGXSsgvLtbUM25eRmCq1jhNW+bc\n",
       "NP5kG4699EMt18fC56ZwV++/xG+f/T8oMkubofAkSBwaFxA8R24IDPfPbVOewYLKX8l0cMy7y2lN\n",
       "Cya4tQw49iIMNVA8LoKZGv62FFOH6UgtAkzsHtDF3iOTFGdUusK5NF3rO0oSPinlB/2N0icsxoVO\n",
       "tPo5G3D63H0hEhKIK3MLC+YLx59D47Na8UutDZSDJHqrRnsHPzv1NuD2bxY3lyjvHspoUEpWkE6C\n",
       "j97bX9hJJD0ydp2DJNl5/MMx4xC3OxTM2OsXz5gmlQQv5YhfJA/7ofL7FEqgW6BT8SVcC7meUHW0\n",
       "ViV/IbN2os4ztpNIsvO04yKZKieWLqFFdzFssEINZbmzO6OyjpPrFT/1D4rIvyCd/BjQoj5qdhYd\n",
       "v+OnGa2L66ya/6hM8BW0KzotFHaL7AzR88P1aRZm0PX+DneoowT45QeS51RfMeTJ/HZZ8grXuIeQ\n",
       "5iQHieG8MX+KRAESF+zFuvlhUJrqG2zZTcnCxqWZhmsGmO23dLWpL9s+wPZ4cgXAArfA7wnKIZOD\n",
       "/ttCjdYZPu7R1jN2CMEXHGPZLAaqd/0aICp02ruAAwI43YzdS8dbk5dOM4c93jj2jwvHD5fDALsb\n",
       "cWsktnwchAKz6WdNL7gjyRjrn32LIJU1VLglu7eHjmcMpe2bPrnPykxnZXcd+Qb3KsRUYvmyoAqD\n",
       "5zq33t79mYia0Vbvxtsa+hfp3LBNq0IqSgUQsyZFreNSdUYXgD1E5dgVIrpGTH5tvRDWg3JG4beQ\n",
       "r4m9ZdLRWm573C9GlniKaNCPwn6Ch8KM/uWxaih/VYy6m4Jnd9PBZK9ttGHZrNWCrJhw1gi+0NWz\n",
       "k+61DcT7LHdaPOJtP3iH47dLk88WDcec/n0SRH7SpxuZ2jbj8/mGvJpdceACf1shinNtA6p4jJww\n",
       "uW7SybR9kZZ6yk/1fV41WgU47tIX6tGMDPp+c7see2Z+sUHih1JDoUljcUqOF4AyrsTFPup3qJaq\n",
       "eq+BnmU9TQDQSVirXe8Gj7gm46RPZovE0SZLoCyS4X4iZWJx7WBHYtPCfIPTapYWWaPJ4iHNDTXz\n",
       "hoJcfHMoVL5VqZb2REqIIRkFzwtd9DzL2wz9ZroWvl/LbrG1mZZMlyEQaIXaCL4ZaRXsWv9Y8Afn\n",
       "Jb/nGXdqiaxiMQROBhi/iak7qWxCjQYUkSxxJ94yRRHRz0LPgszSmzEkgBo67ZCulgJXcI8yqVu/\n",
       "87gk9eCxemZp1ZKOpUWM8ZR33Z/gFRVjBG3uuWGhLyXM+r4skRbTf0Cl29ijsoYTL0kACwVa4Bvm\n",
       "b4L4TSDXDujmaafldjGJ05798fBaAdOwLXcTTm7g/PT2Nj4pQd9JuDqMr3sRSs7r+BnfmTyCNDzX\n",
       "InNIGnOxXHe3aX5vXRbkVILzeh+cvrt6bsU5ex1R15RMvxzjOM73gKPvxarypluDANigPOKRZvWD\n",
       "IvorKT7BOartTHpE5KFhnVILUrSGmhyb0wx1mZ+e27y7npsrio0EdbuBsYKJwT5DxChVyhqKUrxT\n",
       "gRnCapSK4bK90RDgKHWtdoOIBxjNiCbXrBILaa01631DRT/fQijq5ST8qDVI2D+H6veuh+00LOwU\n",
       "5pYAlC1aSBSwMUDsigrWl8nVhfSm/IWTDyf7Pte9r8OyDV8El+yj6nKWljrxeq8J74a2HJCbkaZo\n",
       "jH6ugIqDgnfCN73s6CiWDz336nEf/RvvHKXaVpMQgpr5olkCYoQwFLPf45Fp42zIRCXqyb9nIE0i\n",
       "S0stVQCi3EmYdN5QOpZ1Q45GNkg66S1PQOuu3e9Xm52dLEIU+B7xwt1VG4gxkFb0M+4F9mBw+QEJ\n",
       "uzWwqjhJ/Y3xsF3HNuKxFLkb4sVxol/n02QGeObfv0ev//yQ1hpf6b9cl9dtOuBIZLDpOHc8FEQF\n",
       "MWzBm1OmkAAABMYBnwxqQT8D+Fj0Hw/xBdR9W4ANYuZydONoLElFEUKOZUntpWqPfyf3coLK+0wL\n",
       "C7uXk8YWhq5p4RDcNN5966OizbWH5nqt9ypJDVoghHke/yKmoUaKnC5Bry7f6VUJ5rFyWNnlsaKo\n",
       "qe1GzMabdERQCtJadwk1OUsx4s5FzTNODsk7r0nkpUAft0BP0o3DooVUD9BFEtL1APHdBUlI5UdD\n",
       "TCtP+oIwGTqGGAO4oxvwOLBqTEu6pKcV8BC522Eyu42I4L68LbPT4Egz/MH/Uqo5FxbfeeQfvwD5\n",
       "Ujx+ZJ8lCJsNITCXfc9LB37rq63+nmTK5zsqdHYzPBT7acxz1x5qlG6M1N4DSWNSO9i079QUBQ8V\n",
       "/Sfu/yRHi61GAzZUFJibmpbegOIL5SYtOGuL4p2D2AWlLzmvOcx1hVUIao9stH3REKLN1U24X250\n",
       "0pXS0Mwjso/PYjE7bItbGR3m4sofA8bMGODPipsTZdH4So1u6GSy8wNkpMjuykf13N4pt+VYPbbk\n",
       "1WooME5TFJDV6/fBpfFEL7txU0v4JKVDEuyYa4E1V+ZBhDpLRUYjUjHQp7sTnsF0iaK/uyrPBt+A\n",
       "EqbDhHoI3IlGNS9ZiHF2pbl+Hq8JMp5Rjr+0hSNDjU4bfNoU/1UKpQNbS2H1TLAXiVArR3U4xP5p\n",
       "TtkyZDKK+kvfDAtJIdYZsusmjpwtjJfhJVEHchS+xK9Dnjz1mAXSfAk23gbRggyT+32+g5NyuLEo\n",
       "J8hcnjjnK13BQuyVIiG3qETHyIR+q+NgT+8oDckpwW1vKUFNYoPfnxJTUKEqaB9zjYlDDr2biu5s\n",
       "DcLyR6nTXYA4J9/q013SLdNj1OLWljPAwwK9IkvJZrhpeFdh6/hZh7hadWylTUjobrci2Pu6/OcN\n",
       "W+kWvPHw1Uh4U3t5WIkk4LrBzZn0tlYTCM9OHlU4g8pxxjhQ86+dQnZ1YI1izCkUTUzzMTruHtq6\n",
       "xQikXc4YSPuGKbsNC+8Rtm5hwWpWeXBltPzN9XW8AIs+VVRhpavkgTzqER/m0nbLsFG9dedk3VRQ\n",
       "suA/y+/u4T/ICuvBKLXmZOP8NVV6NszSDVj1pddyoiR8zw5oxCmmkUzoj7A1H7xHE/7yNk3nPgwJ\n",
       "GiydrMXxIYkJUfvanKGB2wsCigXCElwaDgq93oQTx2ez0xNmQQ/x2aIdhEj9OR8f3kzv0PgrqtyZ\n",
       "84JXEfYgmXK5uN+ZIBEsQTFzxA8iM+fyLhjdK5xFYgHxyZhPF3ggdY3Ecwet0lI0GxAq8yeHLlRe\n",
       "pimS7pN8UyzPcPPPDrUAMWSS9g46W4bjWr8p6YvpGmzqtO5pSaX8QEDt+H8nmPndm/LVVdeen43k\n",
       "FV+ola1eBDD62iuVMtNdPjnmRFAqVXqf8vUHcjTArmBu9he6pxiqsnHzqamqzyq83ZQfUkfOyLzv\n",
       "Upc17cChPFqsYiurIMUH+SMPsh7/wN8is0/RThMhxvIhHE7EPgO6iRUZBINJKYQR9UZ3pqegFFh3\n",
       "qH7Sn00qW7RxE+OX5Xsx2fPQ9zSqkqjTrP/05RD9ni2NxWQI4UxTAK3KSkyHnm15iI17KQKLu61d\n",
       "9Aq30ir1Gqc/mRr1MAw97KKytgFCh7m6i9dKiQHm8X012ljBAAAJ1kGbEEnhClJlMCC///7aoF3g\n",
       "9OPJAgAF7z7skmfmIfCEhnRZpQwQQT/wb2NgOKHYjCQTMseTkftZ/xJ/pSBTWwJOiyDmtyjN9Lq9\n",
       "tsklgKRXtmmdAAI+EIknEafLnRP98xW/bjW6vcHFDGwfX8cCgwmJM+KiyJ/slpCqt3rm80c34kOK\n",
       "A0tLQ0Gig/ho6uCjJtRPAZFE1xH7US4aqduSlTdaDYx2/yuWrFcldBfmPxKSl6rQVxlFobXc5gYz\n",
       "5C8tgkNPmYE61KVB6W1jzDWPecJBwO9Uv6Mn2mST6BXV9i4cllYtigztV+dcZRP/Fzbby/48c6nQ\n",
       "7Zv4H9muFDfKrFsBAszq2DZ/zzkf0Nlw7DE7qAak95VLTrDtlzoB/+OsXZ/v7zeWNVumHSdMPShZ\n",
       "+KD9/cCjzjIxZNRikkAmrusGRpGi4xukHHjWKDjOaG72hvcJbnBoCkFAejM6Ep6xyWaOtVnITk4a\n",
       "Wz3/jvSnKXryc0JnNkUDwmm9k6GoHrTXxofMvdKhrw+Ct18qoPgrQQKgvLDRUYwR1oLrT0aLj9T8\n",
       "QqaFjsmwbia2Jfiv8Auh5srqqqMIFdhR5lI/iLX/DeiVZJy/b2Qw7JT4qHzplQYjHke6c2qS9aPH\n",
       "6+zmTp6dsjX7mQ44MyIfLxXhQXDqyE+DPKFqIomKYGmAv/xjNA9JLCNVODbZWpYSKwCYhaY9H6Mc\n",
       "Ogif5DIaJtgKYzeYNeJMMr59hXgjLbvKXncEITopwC0MNUR9Bu339KP+eduqnTnMezwyihR6SINe\n",
       "mwLIHuy7WdVl+p64he6RGqQqjq78eQAztcHNXl4oZC6NRsm6gUfkAB0aoJGPizLXcJJtWIgoc27P\n",
       "3c657jfxKDB/P3+eVdnxWyIcqtA2d8KjUtBMpmLO67htCJQDpg1DY7pzhpnZ8XxPeJTJLsWF8x3C\n",
       "uCOW+cHIItrXFDow1STx9d0GUrvg44Bvo9Lx1H0QvfmQrr9SGr4PhVbG6EITIfxpNfgLXHAa7ZyK\n",
       "Kpodbbi969DvmFISVtcBpTyM4SIaKeIkL4ZxK6rjA6pfj6nz+h0Lry9AAzU0nTZGZC4KbYIegFmQ\n",
       "hXQ0kziQTg8AWsO3f7hv3h/nzkt4MsNO/MNREF51uvaR9JT4IyMPoFDgQrtO//0RER14zAfG8//5\n",
       "ahQPl+3Tl9iOZeg61yU9saxoesWDc5vHo+GXWym8EiX5mVKXZkFqczLTtvX685xL4g2xc/6hvcFh\n",
       "fXrEgYbEF/WXSW4y5PglkoGICTrPZpF4hgUdf/EAJ0sYDD3KozuaOUT8OHNoAbtrspYA/yiQa/EP\n",
       "Zj1x237FLpdHd/guxqUyqz/X7mWM+NuYeRchZPOYRAdJcpzBVDWO/OwVWy/mOHT4BisYRKdkjiIe\n",
       "ICWBM7HPf5r4RrHt3yXvCIeeCIKdcAmTvwObdzNptbjeL1QnqwSogTk8P2xUOWO8jqcEQc59QhVX\n",
       "hfZdnKV/rwPrSk2FeZOneYhQ9Y1Jma0fSmt7gLS92TktQXmVUJ18YNbMZYY66J+9wbgMU9CskK0V\n",
       "bL5CFSilCNk/+TohyWJ3Dd12os1YJ9dO7etKxbKkDUTcsLTC4G983L041b+1UOTC/ju/iJIG3yPw\n",
       "FnyySunqcD/qeqxAkVSdfeClxnX5dsWfV6VpfrHIMHEc0o3zkDpbQiL0EmcQBJBXosPlXtRzTREB\n",
       "g3GSRkO/YzGRUV0ijlgz+pDzrUXCFfG0OF765iJMEMFvghkJ6CDrFVQbyU10vlpE/hQsIT2pk8I+\n",
       "opdkB8ianfiJi7ZjzY/i/bwv9C7FaT6sRxq8xi/B16hDXmt3Dua+7QidVmWQ2bnmPeWC6l53ciKB\n",
       "ExBlwW4qNcoACP1KtVVgN7nuWFX7aY3MyNR9N6FUxsVvHiXbS+uZRyJO32cwdtszHKMnbQwjYtzp\n",
       "gyqT4i56HIm2Ky/fFd7Jf137dL8aHBQgBxpALPHAfMPAH9n8j5080O+fPjn/D75oBkK1JyH0BALJ\n",
       "Z4pVgciT+Vz69Q4C0EWZf4TUrrXsc0Hu9+sGBMcf486e4OhMrFwhFomO0MGW0sjhGMENApZZ5WZ9\n",
       "/A96WB9pFf9gMF6DQfTTXjAcEA5DHxBDxj8MvzEpLHTIII2pJMqp6mzNFtMlZ8lXD+k+Ers4TzzT\n",
       "MMBhz7/UZRfiaco93pbmJcnV9/EcrnoqcEMrJj8Hus9oPk9eUbCZBMs8btQDRZ0VYHbGaYvu0Iwb\n",
       "f7fb6qaUg+iUuLpLy7N+xxt6rdcEBE0OpQiZp4KVJ68Nei2D8hvu8/7wU6emfrElgQK6PwdjXQk/\n",
       "x7hJnDE5vW/YimNI6HKhlDGkWd+zPGmEOyC0Dy6zYreAdhKsC1sIX71NyeQ+V0jlkt4iuyEGb390\n",
       "cs92WOodCZVERYl10+u7PvHjW7Lxs3DzwNNih2oyHFKSye71Q1dZ2uhxqlEt7AhF7gyo5B9IRpgE\n",
       "Nikc70hC6U7bIMaERkvRY6AzUTvTdo704qep91TJh6nwvP0oWD81MsD8tGfX14z90W5XFznODTLI\n",
       "oS9pqUT9Cap0DH1D+WOKz8k7rU+K85XvfOlIxzXg0ngHTVUeXHsiaR51gUpRM5GuedGyTmUnoR2y\n",
       "NjiCZvU4T/au/PbZxq9+mdJcnyveLqtosAWH4ztsvSMG6uo88eIg2J4QIZj93OVA9Z26zAcx8FUN\n",
       "E0t3VCn6k0V7j4hn3idj3HR1EwP70awgIrVbFnWjaASASu/pDcGbVE5dCi8V3awFrtQQum0s723P\n",
       "kTMMeqApS1CjvlV4yIzdfFJbL0r7yxPJPhB9QFOaI1wPuKrrg0EElZEZRPn07uJivyMJ9pRgebwb\n",
       "ylx6odfV/b4rYexTBgWkkiAaIaw15uvmRSvYQX6nfLzEW5Cm50N4GYpGjO6Bl50XpdMqvQhm74Nf\n",
       "OIkIQ2SE8NEiZyYo20bUkS73L7JALc6V8ibIX52TTfv/PLN/BfWYRndNmCWm0QeBJZW/Ul7qJ0hq\n",
       "jmmKBTqUqHDzYTlo97/N8sqDh+Ewd7u1CJsTbS+xcDafVE3V5VEOiWiX9Xqkh7sdCGQ0/71qDnCZ\n",
       "TrfgBSlUNh63gprBsyT5NnaSqLITL3I2eHlrJk5fdX2V+nsj6A3RxHmhdM/dO2zOP0hC9OT5qBHw\n",
       "WiF4hmhQGfS4SjM8/FGZu4dg2mzg8Bhvi3+yg0SZktrBSzCX2bqrvKNqemHFxvODhMxklTw2/pI/\n",
       "jFiqXf3FKFhnXc8UfJ9dlMOWlQbGCU5Te2+fpSAJPAx7pg32L2Cs4YhdvnoL3uzkCGb1zydMYTsv\n",
       "ooi1vGu+lrDDbF6cLbn7DyZYuvnUAh2/uNF3kuF8bWodj2gsUVbcLhfivvqxDlY+YI0AAAMEQZ8v\n",
       "Qgn/A/eA2yppFABDq8uMVOFgZk6n+T6kyTh42srpMO/zLSVzooc4CWz1JPYr6Ac07cGKWOWdciZG\n",
       "nRMp7G1BqUObwMqlwH4X73m+yXCnNHgIf26egZ1UzB1nC+5AAjmxUC8Hz8UG/B9ZMi4SEXFytLNR\n",
       "LT/whxp/aM/FS1Lvw5Dy9OWQer2e1ApHalKaVUpfJDWgD1LYveCm835B7n4qjVAYgNEdEJ9fs+s8\n",
       "WZ4qLFsMhZ/Jg6Sw27BdVlZKgQe2LuHDVPny3UwMu7TNuQZUQCzHVWj9Du1Yr2flNNZDm8DKtNPl\n",
       "OAegi1vk0I4yRZ8zTNq4N2M7NySqYs3uze4x+mZ678NwhdKdDOwQbW7UtAGV5BAicjFJE2bfUEgU\n",
       "lY5Sr7EEJ6Kq4kO96o8tWLykwonFplyKSjwoaXQSW9QwIlwBvEKRDcAejwEFJOWVbKU7Sg4ApoUX\n",
       "MJflmEuL5KOYhRlNvM4QiPUbLWqtwaBW6zeZ2zaHF0Ez4KmYVgv2szMXBBZYMCeBPiEyJWGs2EU1\n",
       "9NCVQQ9CbedRhPGzKPST+fHrCoJRpR+XPwNNnKg/FY4QK5jjIRK3iywdCBN578R1s+kbEF3WyxJs\n",
       "zZFNFrxaFMVRJJsI+Aw0al6c542lw580G/+SyZaAsOA7bz4H0aH9H1NVWzN90Y/b8y8tyDBkC6py\n",
       "4OhJnit33M1lxjGDVCcJC3yxvHtrupH2JqzQyR7PdmWMJyX/1E0iCMNW6z9Em1it6so7pCOHdFkN\n",
       "/aWdJrxWhmv/FA6ngBCC8jhk2lWz9kufbdIuDe3706x2EMy/FMb5EBogg8DSmfp2xGQlgAQk+Rvv\n",
       "tfXCyQekFvKwH9yn3PsE6mMqWjpLBpF/Ev7iXBXEDgij1s/2Z9+zpWa8KJ6nMODG6BVgIQgFFf1T\n",
       "XsadXhifwuLmh+mwyuaTXntwzd0dsB77q2etiw9eUy6/i4wJC2SEv2bzT13RVKJfdHoIOL6yCFpt\n",
       "3Xm7jSaKMM9Pl90UPyk6DpclAN1blJ5VuxYUwQAAAv8Bn05pEE//A/jp0RJLSe95zcAGyfNg1lz5\n",
       "v86BmXBccC3+vFdLb+prEGfu6HYTmuhRH6AA7lbi4Kb/l77vA6YflDoSp5oBzUpTetNDYVCtteiC\n",
       "j3n69+ouLZEzzl3K2g0G3GbciLfhnujlEZITrTz7pCvFWCeD0mfLuEtQOWRqXYNJwTS3M4SBMWNI\n",
       "OpQ4Hs55ailDhh0YPOSrNQJKtJE5mpuJRRjPog5fnaQSDvmtTA0uqBNSG1JlBiNfbLOqN9lxtJEO\n",
       "bYkQcVDBBkX8FGFuVMVAp03+I1IgEetPvCoe0mWllR0kiwGx9LYSlCWZbTHlZ1Q2ZrbGFSzM6fVO\n",
       "rQgjS4oZruLrFP+kR7i7geKHaA4vCRtqw3bqZeWGgrnIGu3awPTm9KRMIau38wde1sq+5tLwa9mR\n",
       "Mpoe//4IGhCTRHlDX9ueA5o0b25sW9UV2COJaqX9moQfczktM1B0BEW2AMZ2gIegdFDSYHiEUxWt\n",
       "eriX+9lWRVk/zlaVv0PvMPpRyt+pIrZebQ4e2p27BjstohNejZUm3ZlyAL2b4CVa81F5p8/IiTrv\n",
       "1e3E8/7iyjw1yegn2PTEduRLQqcE3VNYjoWOobInkOpiXKMtFS2ozcK7/JPia9+XhuagdGFXv+kb\n",
       "LvTuNnrJhIxyc4MsW5n+UP0TL5ypcA8aonEAvODsFJPGtL48oGMX/vJrOC3BuVurIu9HIJGPvxZi\n",
       "xvGtewebu0yeLdNAlfpu+K0QRQBAJFykZzn520y40uhA5i6wpt82ovyxlNXzCjzk79JJnVOVaCKj\n",
       "s/8mQxwIm1VsI94cgymq64vsHe/XLIK8luJWCqLixRNPrn5gaSfBDGqzFjJ3RmkALwdODZgmvbM1\n",
       "c78ears/OEX6SPwmfMIIMURXsPDlIJkt47pxgDZ2AkEsSfrzsT0T3Y6BNdGkbjhbgK4H0C+S2lZj\n",
       "aT5e33pw8/et9AboUAUylp638f/Nb2HgRFx8ZEhUunDZrw2PGoku69hTphf/00on47oeKiW2WGmq\n",
       "QAAAALRBm1RJqEFomUwIL//+2pTvneJVHLEAItQI8Y7/NNGwXxSUTdfrZ9gWjeFKnsw3XK6RTp6l\n",
       "C0fsI6HLm/KiUUs2K525sxzWjlmALjUhE6QTwM4fEmz7RTawnCJaPVxbG0KpVJmmrL/IXevYcbUV\n",
       "hd4j3jREOQI2dEBv9zhF1Qgmlw1lTnVYf2sLqECrKETZNKVu2FdaNHN+hHcPlSCOgTDBjoo6nVpw\n",
       "vNAsH5jeNPgrt8vEmz0AAABpQZ9yRREsFP8E+br4RAACHWEJdqaehGHNDn4pbGHfOnFM5sbfdC0p\n",
       "Yz0jizx/8hkjwGAOL/qDCJ4CYNzg5UmOrZZJ3nYX8rEyacLKY27nzqCd9hc+0h77d+qn1q+45Nr0\n",
       "0Xn8keOHaj79AAAAWgGfkXRBPwRYSEXJ4APzm9UpWTod0B8F+fRts1aGffZ/z4SrH4yi9duucJhb\n",
       "/FS/mR5OadM+rj7KO9oW1seaN2QeqJjCa1FLKpN8IedAQT4gy/zXLkrBuzePBwAAAFwBn5NqQT8G\n",
       "VaEiuuqd8cwDtwAbIRo5v4HR+nPQDheeLR1FjxH5s9D4ZXHNJAzFC7DXdiCEdgsIvVgrPSiAVjvu\n",
       "fUbyM2Ky2G+Juypek7gh4wSltIT3AHGKSE6yAQAAAHBBm5hJqEFsmUwILf/+1p4ZFoAB181NIFl6\n",
       "/qUUfyjQDlSUQd0/9tfYOmpHQUaGM/6SQGe3fo0scM6+RKR2ds/m4wx6u2IIGivNyzhXPgwzmGPd\n",
       "TkdmtUUfSkmQGH1JjgJU78U20TW2bePv+jTQAAh5AAAAf0GftkUVLBT/Ax0nrrx1zP9egATOwicE\n",
       "nPphCBYQkzzD0h8iz7UniS1nM/Jt7/pY/mA2UgA6C/9Ozux81aCha3zkTaZ19xX1uEt3Mv2VNOC3\n",
       "5+wiM5Wmu6IbFXgUcf/Zl0iSC/jyEnE5T3I/R5hWuWSd0jzuQvdOiSShOD8d9uAAAABEAZ/VdEE/\n",
       "A/hWZCypGAOdKNsACa1LM5rvpi3DMp34n+4k/76hgNoiaJL/pYhvVlZ7jjIGAp+4XdOI/7tMT+Gc\n",
       "MxdXNGEAAABQAZ/XakE/A/dl8LtozoScAHyTvBWV3g7MQemwRZahYeI92T7K0mKflJocmLGBEtva\n",
       "vih7QMAal6CT0yNTXQRFfBe9xFA7sDSEKbzJ+FmXUk8AAABfQZvcSahBbJlMCCn//taAxPPgAQiw\n",
       "hLtRuxkmjyjZqQqACZ1eOpX7NY1U9SyjjJ3H00j1pyZVkgvW4lS4z/1YLqGykrlWRpE/zND41wFR\n",
       "VHqZJywYtBcurlH1CScAD0gAAABTQZ/6RRUsFP8DGr0oJKk90ADZOKHcYNk6r2x1EMLZGQIYiZCr\n",
       "PsvKlHZZdj23h2W2f97Qj5p0DlykMkTyUhaaZhHcG5Bgwv10ADgt7LggeeIR0okAAABjAZ4ZdEE/\n",
       "BK0CMPgA/QneDTF89/ZlPD1veqe1QLi9NEYGtAAqa8IKrcJq5wbLb8J/WZ95LvgCdG5ZW09WXuNX\n",
       "oqpwe4sgvWnXLf5cmPUcmTFah5+Bmp/W6gONwZ5CUMf0W8WLAAAAWwGeG2pBPwP1cQlFxHQC7mcb\n",
       "cAH6E7wOmn0u+AsISZWy/lEYzoEzObDcNsDO/TPCQ/o3GAwWdXAFpWFzkwlZnv0c+Cs5UhbxmwwZ\n",
       "pS7PfbbB/u0yUnRxk3aFzRkAAABrQZodSahBbJlMCCf//rUfWgnycJobgA16WjzzjVJ9oQD/zyUA\n",
       "7J2a3JRLOVtPpnGg8s51Vi99X8UGGEuDWJgbOhdoyi6zg8ahED65utXIkMSaaQ/pRDk2WR8JKeLb\n",
       "pHS1DFU6sMMjIa64EnEAAASWbW9vdgAAAGxtdmhkAAAAAAAAAAAAAAAAAAAD6AAARlAAAQAAAQAA\n",
       "AAAAAAAAAAAAAAEAAAAAAAAAAAAAAAAAAAABAAAAAAAAAAAAAAAAAABAAAAAAAAAAAAAAAAAAAAA\n",
       "AAAAAAAAAAAAAAAAAAAAAgAAA8B0cmFrAAAAXHRraGQAAAADAAAAAAAAAAAAAAABAAAAAAAARlAA\n",
       "AAAAAAAAAAAAAAAAAAAAAAEAAAAAAAAAAAAAAAAAAAABAAAAAAAAAAAAAAAAAABAAAAAASAAAAEg\n",
       "AAAAAAAkZWR0cwAAABxlbHN0AAAAAAAAAAEAAEZQAAAwAAABAAAAAAM4bWRpYQAAACBtZGhkAAAA\n",
       "AAAAAAAAAAAAAAAoAAAC0ABVxAAAAAAALWhkbHIAAAAAAAAAAHZpZGUAAAAAAAAAAAAAAABWaWRl\n",
       "b0hhbmRsZXIAAAAC421pbmYAAAAUdm1oZAAAAAEAAAAAAAAAAAAAACRkaW5mAAAAHGRyZWYAAAAA\n",
       "AAAAAQAAAAx1cmwgAAAAAQAAAqNzdGJsAAAAs3N0c2QAAAAAAAAAAQAAAKNhdmMxAAAAAAAAAAEA\n",
       "AAAAAAAAAAAAAAAAAAAAASABIABIAAAASAAAAAAAAAABAAAAAAAAAAAAAAAAAAAAAAAAAAAAAAAA\n",
       "AAAAAAAAAAAAGP//AAAAMWF2Y0MBZAAM/+EAGGdkAAys2UEgloQAAAMADAAAAwAoPFCmWAEABmjr\n",
       "48siwAAAABx1dWlka2hA8l8kT8W6OaUbzwMj8wAAAAAAAAAYc3R0cwAAAAAAAAABAAAAHgAAGAAA\n",
       "AAAUc3RzcwAAAAAAAAABAAAAAQAAAQBjdHRzAAAAAAAAAB4AAAABAAAwAAAAAAEAAHgAAAAAAQAA\n",
       "MAAAAAABAAAAAAAAAAEAABgAAAAAAQAAYAAAAAABAAAwAAAAAAEAAAAAAAAAAQAAeAAAAAABAAAw\n",
       "AAAAAAEAAAAAAAAAAQAAGAAAAAABAABIAAAAAAEAABgAAAAAAQAAYAAAAAABAAAwAAAAAAEAAAAA\n",
       "AAAAAQAAeAAAAAABAAAwAAAAAAEAAAAAAAAAAQAAGAAAAAABAAB4AAAAAAEAADAAAAAAAQAAAAAA\n",
       "AAABAAAYAAAAAAEAAHgAAAAAAQAAMAAAAAABAAAAAAAAAAEAABgAAAAAAQAAMAAAAAAcc3RzYwAA\n",
       "AAAAAAABAAAAAQAAAB4AAAABAAAAjHN0c3oAAAAAAAAAAAAAAB4AACTQAAAFQAAABJAAAAZSAAAE\n",
       "jAAABGAAAAQ1AAAFKwAABYgAAAZKAAAFygAAAxkAAAZSAAAEygAACdoAAAMIAAADAwAAALgAAABt\n",
       "AAAAXgAAAGAAAAB0AAAAgwAAAEgAAABUAAAAYwAAAFcAAABnAAAAXwAAAG8AAAAUc3RjbwAAAAAA\n",
       "AAABAAAALAAAAGJ1ZHRhAAAAWm1ldGEAAAAAAAAAIWhkbHIAAAAAAAAAAG1kaXJhcHBsAAAAAAAA\n",
       "AAAAAAAALWlsc3QAAAAlqXRvbwAAAB1kYXRhAAAAAQAAAABMYXZmNTcuNTYuMTAx\n",
       "\">\n",
       "  Your browser does not support the video tag.\n",
       "</video>"
      ],
      "text/plain": [
       "<IPython.core.display.HTML object>"
      ]
     },
     "execution_count": 25,
     "metadata": {},
     "output_type": "execute_result"
    }
   ],
   "source": [
    "HTML(anim.to_html5_video())"
   ]
  },
  {
   "cell_type": "markdown",
   "metadata": {
    "slideshow": {
     "slide_type": "slide"
    }
   },
   "source": [
    "## Self-study\n",
    "\n",
    "* Experiment with the learning rate ($\\alpha$). How it impacts learning? Do you remember if we have seen another similar parameter in previous classes?\n",
    "* Create a new data set with a non-linear boundary. What happens now with our perceptron? How would you fix it?"
   ]
  },
  {
   "cell_type": "markdown",
   "metadata": {
    "slideshow": {
     "slide_type": "slide"
    }
   },
   "source": [
    "## Suggested reading\n",
    "\n",
    "* Minsky M. L. and Papert S. A. (1969). *Perceptrons*. Cambridge, MA: MIT Press.\n",
    "* Gallant, S. I. (1990). *Perceptron-based learning algorithms*. IEEE Transactions on Neural Networks, vol. 1, no. 2, pp. 179–191.\n",
    "* Mikel Olazaran (1996). *A Sociological Study of the Official History of the Perceptrons Controversy*. Social Studies of Science 26 (3): 611–659. doi:10.1177/030631296026003005."
   ]
  },
  {
   "cell_type": "markdown",
   "metadata": {
    "slideshow": {
     "slide_type": "slide"
    }
   },
   "source": [
    "## The XOR issue \n",
    "\n",
    "Take a dataset that contains all the possible value combination of the logical XOR function:"
   ]
  },
  {
   "cell_type": "code",
   "execution_count": 26,
   "metadata": {},
   "outputs": [],
   "source": [
    "X = np.array([[0, 1], [1, 0], [0, 0], [1, 1]])\n",
    "Y = np.array([1, 1, 0, 0])\n",
    "N = Y.shape[0]"
   ]
  },
  {
   "cell_type": "markdown",
   "metadata": {},
   "source": [
    "The data set has ones (represented in black) when $x_1 = 1$ and $x_2 = 0$ or when $x_1 = 0$ and $x_2 = 1$, as defined for the XOR function."
   ]
  },
  {
   "cell_type": "code",
   "execution_count": 27,
   "metadata": {
    "slideshow": {
     "slide_type": "slide"
    }
   },
   "outputs": [
    {
     "data": {
      "image/png": "[encoded data removed]",
      "text/plain": [
       "<matplotlib.figure.Figure at 0x1205cd828>"
      ]
     },
     "metadata": {
      "image/png": {
       "height": 270,
       "width": 394
      }
     },
     "output_type": "display_data"
    }
   ],
   "source": [
    "plt.scatter(X[:, 0], X[:, 1], c=Y, edgecolor='k', cmap=cm.gray_r, s=100)\n",
    "plt.xlabel('$x_1$');plt.ylabel('$x_2$');"
   ]
  },
  {
   "cell_type": "markdown",
   "metadata": {},
   "source": [
    "It is evident that a perceptron is unable to solve this simple problem as it is only able to separate the space by a hyperplane."
   ]
  },
  {
   "cell_type": "markdown",
   "metadata": {
    "slideshow": {
     "slide_type": "slide"
    }
   },
   "source": [
    "To solve the XOR problem we need to stack perceptrons"
   ]
  },
  {
   "cell_type": "code",
   "execution_count": 28,
   "metadata": {},
   "outputs": [
    {
     "name": "stderr",
     "output_type": "stream",
     "text": [
      "pdf2svg terminated with signal -127\n",
      "No image generated.\n"
     ]
    }
   ],
   "source": [
    "%tikz -s 500,250 -sc 1.0 -l positioning -f svg \\input{imgs/05/xor-nn.tikz}"
   ]
  },
  {
   "cell_type": "markdown",
   "metadata": {
    "slideshow": {
     "slide_type": "slide"
    }
   },
   "source": [
    "But, how can we train the weights from neurons 1 and 2?\n",
    "* This is known as a credit assignment problem.\n",
    "* Our current method for Perceptron learning determine how the weights of neurons 1 and 2 influence the error.\n",
    "* Let's visualize it."
   ]
  },
  {
   "cell_type": "markdown",
   "metadata": {
    "slideshow": {
     "slide_type": "slide"
    }
   },
   "source": [
    "### A \"handcoded\" XOR neural network\n",
    "\n",
    "Forward propagation for 2 inputs $(x_1, x_2)$, 2 hidden nodes, 1 output.\n",
    "* We will be extending the Perceptron activation as the logistic (*logit*) function\n",
    "$$\\hat{y} = f(\\text{net}) = \\frac{1}{1+\\exp{\\left(-\\text{net}\\right)}}.$$"
   ]
  },
  {
   "cell_type": "code",
   "execution_count": 29,
   "metadata": {},
   "outputs": [],
   "source": [
    "def logit(a): \n",
    "    return 1.0 / (1+np.exp(-a))"
   ]
  },
  {
   "cell_type": "code",
   "execution_count": 30,
   "metadata": {
    "slideshow": {
     "slide_type": "slide"
    }
   },
   "outputs": [],
   "source": [
    "def fprop(x1, x2,\n",
    "          w1= 0.1, w2= 0.2,  b1= 0.1, \n",
    "          w3=-0.2, w4= 0.2,  b2=-0.1,\n",
    "          w5=-0.3, w6=-0.25, b3=0.2):\n",
    "    y_hat_1 = logit(b2 + w3*x1 + w4*x2) # N1\n",
    "    y_hat_2 = logit(b3 + w5*x1 + w6*x2) # N2\n",
    "    return logit(b1 + w1*y_hat_1 + w2*y_hat_2)"
   ]
  },
  {
   "cell_type": "markdown",
   "metadata": {
    "slideshow": {
     "slide_type": "slide"
    }
   },
   "source": [
    "## Error Surface of the XOR Problem"
   ]
  },
  {
   "cell_type": "code",
   "execution_count": 31,
   "metadata": {},
   "outputs": [
    {
     "data": {
      "application/vnd.jupyter.widget-view+json": {
       "model_id": "99a433183df64a06ad60e75e6f212dc2",
       "version_major": 2,
       "version_minor": 0
      },
      "text/html": [
       "<p>Failed to display Jupyter Widget of type <code>interactive</code>.</p>\n",
       "<p>\n",
       "  If you're reading this message in the Jupyter Notebook or JupyterLab Notebook, it may mean\n",
       "  that the widgets JavaScript is still loading. If this message persists, it\n",
       "  likely means that the widgets JavaScript library is either not installed or\n",
       "  not enabled. See the <a href=\"https://ipywidgets.readthedocs.io/en/stable/user_install.html\">Jupyter\n",
       "  Widgets Documentation</a> for setup instructions.\n",
       "</p>\n",
       "<p>\n",
       "  If you're reading this message in another frontend (for example, a static\n",
       "  rendering on GitHub or <a href=\"https://nbviewer.jupyter.org/\">NBViewer</a>),\n",
       "  it may mean that your frontend doesn't currently support widgets.\n",
       "</p>\n"
      ],
      "text/plain": [
       "interactive(children=(IntSlider(value=5, description='i', max=6, min=1), IntSlider(value=6, description='j', max=6, min=1), Output()), _dom_classes=('widget-interact',))"
      ]
     },
     "metadata": {},
     "output_type": "display_data"
    }
   ],
   "source": [
    "@interact(i=(1,6), j=(1,6)) \n",
    "def error_plot(i=5, j=6):\n",
    "    W1, W2 = np.meshgrid(np.arange(-10, 10, 0.5), np.arange(-10, 10, 0.5))\n",
    "    E = np.sum([(fprop(X[n, 0], X[n, 1],\n",
    "                       **{\"w%d\"%(i) : W1, \"w%d\"%(j) : W2})-Y[n])**2\n",
    "                 for n in range(N)], axis=0)\n",
    "    ax = plt.figure(figsize=(7, 4.5)).add_subplot(111, projection=\"3d\")\n",
    "    surf = ax.plot_surface(W1, W2, E, rstride=1, cstride=1, cmap=cm.viridis, lw=0.11, alpha=0.74)\n",
    "    plt.setp(ax, xlabel=\"$w_%d$\" % (i), ylabel=\"$w_%d$\" % (j), zlabel=\"$E()$\");\n",
    "    plt.tight_layout()\n",
    "    plt.show()"
   ]
  },
  {
   "cell_type": "markdown",
   "metadata": {
    "slideshow": {
     "slide_type": "slide"
    }
   },
   "source": [
    "## Local Minima "
   ]
  },
  {
   "cell_type": "code",
   "execution_count": 32,
   "metadata": {},
   "outputs": [
    {
     "data": {
      "application/vnd.jupyter.widget-view+json": {
       "model_id": "3ff757b986a0469896e6970204d507e4",
       "version_major": 2,
       "version_minor": 0
      },
      "text/html": [
       "<p>Failed to display Jupyter Widget of type <code>interactive</code>.</p>\n",
       "<p>\n",
       "  If you're reading this message in the Jupyter Notebook or JupyterLab Notebook, it may mean\n",
       "  that the widgets JavaScript is still loading. If this message persists, it\n",
       "  likely means that the widgets JavaScript library is either not installed or\n",
       "  not enabled. See the <a href=\"https://ipywidgets.readthedocs.io/en/stable/user_install.html\">Jupyter\n",
       "  Widgets Documentation</a> for setup instructions.\n",
       "</p>\n",
       "<p>\n",
       "  If you're reading this message in another frontend (for example, a static\n",
       "  rendering on GitHub or <a href=\"https://nbviewer.jupyter.org/\">NBViewer</a>),\n",
       "  it may mean that your frontend doesn't currently support widgets.\n",
       "</p>\n"
      ],
      "text/plain": [
       "interactive(children=(IntSlider(value=0, description='i', max=5), IntSlider(value=1, description='j', max=5), Output()), _dom_classes=('widget-interact',))"
      ]
     },
     "metadata": {},
     "output_type": "display_data"
    }
   ],
   "source": [
    "@interact(i=(0,5), j=(0,5)) \n",
    "def errors_plot(i=0, j=1):\n",
    "    plt.figure(figsize=(12, 3))\n",
    "    W = np.arange(-10, 10, 0.25)\n",
    "    errors = [(fprop(X[n, 0], X[n, 1], **{\"w%d\"%(i+1) : W, \"w%d\"%(j+1) : W+2})-Y[n])**2 for n in range(N)]\n",
    "    plt.subplot(1, 2, 1)\n",
    "    for n in range(N): \n",
    "        plt.plot(W, errors[n], label=\"$E^{(%d)}$\" % (n+1))\n",
    "    plt.setp(plt.gca(), xlabel=\"$w$\", ylabel=\"$E$\", title='Split errors');plt.legend(loc=\"best\", frameon=True)\n",
    "    plt.subplot(1, 2, 2)\n",
    "    plt.plot(W, np.sum(errors, axis=0), label=\"$E(\\cdot)$\")\n",
    "    plt.setp(plt.gca(), xlabel=\"$w$\", ylabel=\"$E$\", title='Total error');plt.legend(loc=\"best\", frameon=True);\n",
    "    plt.show()"
   ]
  },
  {
   "cell_type": "markdown",
   "metadata": {
    "slideshow": {
     "slide_type": "slide"
    }
   },
   "source": [
    "# The Multilayer Perceptron (MLP)"
   ]
  },
  {
   "cell_type": "markdown",
   "metadata": {},
   "source": [
    "The composition of layers of perceptrons can capture complex relations between inputs and outputs in a hierarchical way."
   ]
  },
  {
   "cell_type": "code",
   "execution_count": 33,
   "metadata": {},
   "outputs": [
    {
     "name": "stderr",
     "output_type": "stream",
     "text": [
      "pdf2svg terminated with signal -127\n",
      "No image generated.\n"
     ]
    }
   ],
   "source": [
    "%tikz -s 600,400 -sc 1.0 -l positioning -f svg \\input{imgs/05/neural-network.tikz}"
   ]
  },
  {
   "cell_type": "markdown",
   "metadata": {},
   "source": [
    "...but how can we adapt the weights of the neurons in the hidden layers?"
   ]
  },
  {
   "cell_type": "markdown",
   "metadata": {
    "slideshow": {
     "slide_type": "slide"
    }
   },
   "source": [
    "## Improving the notation"
   ]
  },
  {
   "cell_type": "markdown",
   "metadata": {},
   "source": [
    "In order to proceed we need to improve the notation we have been using. That for, for each layer $1\\geq l\\geq L$, the activations and outputs are calculated as:\n",
    "\n",
    "$$\\text{net}^l_j = \\sum_i w^l_{ji} x^l_i\\,,$$\n",
    "$$y^l_j = f^l(\\text{net}^l_j)\\,,$$\n",
    "\n",
    "where:\n",
    "\n",
    "* $y^l_j$ is the $j$th output of layer $l$,\n",
    "* $x^l_i$ is the $i$th input to layer $l$,\n",
    "* $w^l_{ji}$ is the weight of the $j$-th neuron connected to input $i$,\n",
    "* $\\text{net}^l_{j}$ is called net activation, and\n",
    "* $f^l(\\cdot)$ is the activation function of layer $l$, e.g. $\\tanh()$, in the hidden layers and the identity in the last layer (for regression)"
   ]
  },
  {
   "cell_type": "markdown",
   "metadata": {
    "slideshow": {
     "slide_type": "slide"
    }
   },
   "source": [
    "## Error function (SSE)\n",
    "\n",
    "* For $\\Psi=\\left\\{\\left<\\vec{x}^{(1)},\\vec{y}^{(1)}\\right>,\\ldots,\\left<\\vec{x}^{(k)},\\vec{y}^{(k)}\\right>,\\ldots\\left<\\vec{x}^{(K)},\\vec{y}^{(K)}\\right>\\right\\}$:\n",
    "\n",
    "$$\n",
    "E = \n",
    "\\frac{1}{2} \\sum_{k=1}^{K}{\\ell(\\hat{\\vec{y}}_j^{L}(\\vec{x}^{(k)}), \\vec{y}^{(k)})} =\n",
    "\\frac{1}{2} \\sum_{k=1}^{K} \\sum_{j=1}^{m} \\left( \\hat{y}_j^{L}(\\vec{x}^{(k)}) - y_j^{(k)} \\right)^2\\,.\n",
    "$$"
   ]
  },
  {
   "cell_type": "markdown",
   "metadata": {
    "slideshow": {
     "slide_type": "slide"
    }
   },
   "source": [
    "## Training MLPs with Backpropagation\n",
    "\n",
    "* Backpropagation of errors is a procedure to compute the **gradient of the error function with respect to the weights** of a neural network.\n",
    "* We can use the gradient from backpropagation to apply **gradient descent**!"
   ]
  },
  {
   "cell_type": "markdown",
   "metadata": {
    "slideshow": {
     "slide_type": "slide"
    }
   },
   "source": [
    "#### A math flashback\n",
    "\n",
    "The **chain rule** can be applied in composite functions as,\n",
    "$$\n",
    "\\left( f \\circ g\\right)'(x) = \\left(f\\left(g\\left(x\\right)\\right)\\right)'= f'\\left(g(x)\\right)g'(x).\n",
    "$$\n",
    "or, in Leibniz notation,\n",
    "$$\n",
    "\\frac{\\partial f\\left(g\\left(x\\right)\\right)}{\\partial x} =\n",
    "\\frac{\\partial f\\left(g\\left(x\\right)\\right)}{\\partial g\\left(x\\right)} \\cdot\n",
    "\\frac{\\partial g\\left(x\\right)}{\\partial x}\n",
    "$$\n",
    "\n",
    "The **total derivative** of $f(x_1,x_2,...x_n)$ on $x_i$ is\n",
    "$$\n",
    "\\frac{\\partial f}{\\partial x_i}=  \n",
    "\\sum_{j=1}^n{\\frac{\\partial f}{\\partial x_j}\\cdot\\frac{\\partial x_j}{\\partial x_i}}\n",
    "$$"
   ]
  },
  {
   "cell_type": "markdown",
   "metadata": {
    "slideshow": {
     "slide_type": "slide"
    }
   },
   "source": [
    "#### To apply gradient descent we need... to calculate the gradients\n",
    "\n",
    "Applying the chain rule,\n",
    "$$\n",
    "\\frac{\\partial \\ell}{\\partial w^l_{ji}}=\n",
    "\\color{blue}{\\overbrace{\\frac{\\partial \\ell}{\\partial \\text{net}^l_j}}^{\\delta^l_j}}\n",
    "\\color{forestgreen}{\\underbrace{\\frac{\\partial{\\text{net}^l_j}}{\\partial w^l_{ji}}}_{\\frac{\\partial\\left(\\sum_{i}w^l_{ji}x^l_i\\right)}{\\partial w^l_{ji}}=x^l_i}}\n",
    "$$\n",
    "hence we can write\n",
    "$$\n",
    "\\frac{\\partial \\ell}{\\partial w^l_{ji}}=\n",
    "\\color{blue}{\\delta^l_j}\n",
    "\\color{forestgreen}{x^l_i}\n",
    "$$"
   ]
  },
  {
   "cell_type": "markdown",
   "metadata": {
    "slideshow": {
     "slide_type": "slide"
    }
   },
   "source": [
    "#### For the output layer ($l=L$)\n",
    "$$\n",
    "\\delta^L_j = \\frac{\\partial \\ell}{\\partial \\text{net}^L_j} =\n",
    "\\color{red}{\n",
    "  \\overbrace{\n",
    "    \\frac{\\partial \\ell}{\\partial\\hat{y}^L_j}}^{\\frac{\\partial\\left(\\frac{1}{2}\\sum_j{\\left(y_j-\\hat{y}^L_j\\right)^2} \\right)}\n",
    "    {\\partial\\hat{y}^L_j}=\\left(y_j-\\hat{y}^L_j\\right)}}\n",
    "\\cdot\n",
    "\\color{magenta}{\n",
    "\\underbrace{\\frac{\\partial\\hat{y}^L_j}{\\text{net}^l_j}}_{f'(\\text{net}_j^L)}}\n",
    "=\\color{red}{\\left(y_j-\\hat{y}^L_j\\right)}\\color{magenta}{f'(\\text{net}_j^L)}.\n",
    "$$\n",
    "therefore\n",
    "$$\n",
    "\\frac{\\partial \\ell}{\\partial w^L_{ji}}=\n",
    "\\color{red}{\\left(y_j-\\hat{y}^L_j\\right)}\\color{magenta}{f'(\\text{net}_j^L)}\n",
    "\\color{forestgreen}{x^L_i}\n",
    "$$"
   ]
  },
  {
   "cell_type": "markdown",
   "metadata": {
    "slideshow": {
     "slide_type": "slide"
    }
   },
   "source": [
    "#### What about the hidden layers ($1\\leq l<L$)?\n",
    "\n",
    "We can express the loss $\\ell$ as a function of the activations of the subsequent layer,\n",
    "\n",
    "$$\n",
    "\\ell = \\ell\\left(\\text{net}^{l+1}_1,\\ldots,\\text{net}^{l+1}_K\\right)\\,,\n",
    "$$\n",
    "\n",
    "therefore, applying total derivatives,\n",
    "\n",
    "$$\n",
    "\\frac{\\partial \\ell}{\\partial\\hat{y}^l_j} = \n",
    "\\frac{\\partial \\ell\\left(\\text{net}^{l+1}_1,\\ldots,\\text{net}^{l+1}_K\\right)}{\\partial\\hat{y}^l_j}\\,.\n",
    "$$"
   ]
  },
  {
   "cell_type": "markdown",
   "metadata": {
    "slideshow": {
     "slide_type": "slide"
    }
   },
   "source": [
    "#### Applying total derivatives we get\n",
    "\n",
    "$$\n",
    "\\frac{\\partial \\ell}{\\partial\\hat{y}^l_j} = \n",
    "\\sum_{k}{\n",
    "\\color{orange}{\n",
    "\\overbrace{\n",
    "\\frac{\\partial \\ell}{\\partial\\text{net}^{l+1}_k}}^{\\delta^{l+1}_k}}\n",
    "\\color{purple}{\n",
    "\\underbrace{\\frac{\\partial \\text{net}^{l+1}_{k}}{\\partial\\hat{y}^l_j}\n",
    "}_{\\frac{\\partial{\\sum_{j}{w^{l+1}_{kj}\\hat{y}^l_j}}}{\\partial\\hat{y}^l_j}=w^{l+1}_{kj}}}\n",
    "} =\n",
    "\\sum_{k}{\\color{orange}{\\delta^{l+1}_k}\\color{purple}{w^{l+1}_{kj}}}\n",
    "$$"
   ]
  },
  {
   "cell_type": "markdown",
   "metadata": {
    "slideshow": {
     "slide_type": "slide"
    }
   },
   "source": [
    "#### Back-propagating the errors to the hidden layer\n",
    "\n",
    "The $\\delta$s of the subsequent layers are used to calculate the $\\delta$s of the more internal ones.\n",
    "\n",
    "$$\n",
    "\\delta^{l}_j =\n",
    "\\frac{\\partial\\ell}{\\partial\\text{net}^l_j} =\n",
    "\\overbrace{\\frac{\\partial\\ell}{\\partial\\hat{y}^l_j}}^\n",
    "{\\sum_{k}{\n",
    "  \\color{orange}{\\delta^{l+1}_k}\n",
    "  \\color{purple}{w^{l+1}_{kj}}}}\n",
    "\\color{forestgreen}{\\underbrace{\\frac{\\partial\\hat{y}^l_j}{\\partial\\text{net}^l_j}}_\n",
    "{f'(\\text{net}^l_j)}}=\n",
    "\\sum_{k}{\\left(\n",
    "  \\color{orange}{\\delta^{l+1}_k}\n",
    "  \\color{purple}{w^{l+1}_{kj}}\n",
    "  \\right)}\\color{forestgreen}{f'(\\text{net}^l_j)}\n",
    "$$"
   ]
  },
  {
   "cell_type": "markdown",
   "metadata": {
    "slideshow": {
     "align_type": "Left",
     "slide_type": "slide"
    }
   },
   "source": [
    "## Backpropagation in brief"
   ]
  },
  {
   "cell_type": "markdown",
   "metadata": {
    "slideshow": {
     "align_type": "Left",
     "slide_type": "slide"
    }
   },
   "source": [
    "In each layer (we will omit the sample index $k$ and layer $l$)\n",
    "\n",
    "$$\n",
    "\\delta_j = \n",
    "   \\begin{cases}\n",
    "   \\hat{y}_j - y_j & \\text{in the output layer,}\\\\\n",
    "   \\\\ f'(\\text{net}_j) \\sum_k \\frac{\\partial \\ell}{\\partial \\hat{y}_k} & \\text{otherwise.}\n",
    "   \\end{cases}\n",
    "$$\n",
    "\n",
    "$$\\frac{\\partial \\ell}{\\partial w_{ji}} = \\delta_j x_i\\,;\\quad \\frac{\\partial \\ell}{\\partial x_i} = \\delta_j w_{ji}\\,.$$\n",
    "\n",
    "where\n",
    "\n",
    "* all nodes $k$ are in the layer after $j$;\n",
    "* $\\text{net}_j$ is known from propagation: $\\sum_i w_{ji} x_i$;\n",
    "* actually you do not have to save $a_j$ because $g'(a_j)$ usually can be computed from $y_j$, e.g.\n",
    "    * identity function: $f'(\\text{net}_j) = 1$,\n",
    "    * $\\tanh$: $f'(\\text{net}_j) = 1 - y_j^2$;\n",
    "* $\\frac{\\partial \\ell}{\\partial w_{ji}}$ will be used to update the weight $w_{ji}$ in gradient descent;\n",
    "* $\\frac{\\partial \\ell}{\\partial x_i}$ will be passed to the previous layer to compute the deltas;\n",
    "\n",
    "**Do not forget to sum up the gradient with respect to the weights for each training example!**"
   ]
  },
  {
   "cell_type": "markdown",
   "metadata": {
    "slideshow": {
     "align_type": "Left",
     "slide_type": "slide"
    }
   },
   "source": [
    "## Efficient Implementation for Fully Connected Layers"
   ]
  },
  {
   "cell_type": "markdown",
   "metadata": {
    "slideshow": {
     "align_type": "Left",
     "slide_type": "fragment"
    }
   },
   "source": [
    "* Make sure that you have an efficient **linear algebra library**.\n",
    "* Organize your data in matrices, i.e.\n",
    "    * The matrix $\\boldsymbol{X}$ contains an input vector in each row. Note that you must expand each row by the bias 1.\n",
    "    * The matrix $\\boldsymbol{T}$ contains an output (of the network) in each row.\n",
    "* Each layer should have the functions\n",
    "    * `fprop(W, X, f) -> Y`\n",
    "    * `backprop(W, X, f_derivative, Y, d_loss/dY) -> d_loss/dX, d_lossdW`"
   ]
  },
  {
   "cell_type": "markdown",
   "metadata": {
    "slideshow": {
     "slide_type": "slide"
    }
   },
   "source": [
    "<div class=\"container-fluid\">\n",
    "  <div class=\"row\">\n",
    "      <div class=\"col-md-3\" align='center'>\n",
    "      </div>\n",
    "      <div class=\"col-md-6\">\n",
    "      <div class='well well-sm'>\n",
    "              <img src='imgs/05/backprop.svg'/>\n",
    "      </div>\n",
    "      </div>\n",
    "      <div class=\"col-md-3\" align='center'>\n",
    "      </div>\n",
    "  </div>\n",
    "</div>"
   ]
  },
  {
   "cell_type": "markdown",
   "metadata": {
    "slideshow": {
     "align_type": "Left",
     "slide_type": "slide"
    }
   },
   "source": [
    "## Efficient forward propagation"
   ]
  },
  {
   "cell_type": "markdown",
   "metadata": {
    "slideshow": {
     "align_type": "Left",
     "slide_type": "-"
    }
   },
   "source": [
    "In each layer\n",
    "\n",
    "$$\\boldsymbol{NET} = \\boldsymbol{X} \\boldsymbol{W}^\\intercal$$\n",
    "$$\\boldsymbol{\\hat{Y}} = f(\\boldsymbol{NET})$$\n",
    "\n",
    "where\n",
    "\n",
    "* $\\boldsymbol{Y} \\in \\mathbb{R}^{N \\times J}$ contains an output vector in each row, i.e. $\\boldsymbol{Y}_{kj} = y^{(k)}_j$\n",
    "* $\\boldsymbol{X} \\in \\mathbb{R}^{N \\times I}$ contains an input vector (the output of the previous layer) in each row, i.e. $\\boldsymbol{X}_{ki} = x^{(k)}_i$\n",
    "* $\\boldsymbol{W} \\in \\mathbb{R}^{J \\times I}$ is the weight matrix of the layer, i.e. $\\boldsymbol{W}_{ji}$ is the weight between input $i$ and output $j$.\n",
    "* $f$ is the activation function (implemented to work with matrices)\n",
    "* $I$ is the number of inputs, i.e. the number of outputs of the previous layer plus 1 (for the bias)\n",
    "* $J$ is the number of outputs\n",
    "\n",
    "**Make sure that you add the bias entry in each row before you pass $Y$ as input to the next layer!**"
   ]
  },
  {
   "cell_type": "markdown",
   "metadata": {
    "slideshow": {
     "slide_type": "slide"
    }
   },
   "source": [
    "Error function (SSE)\n",
    "\n",
    "$$E = \\frac{1}{2} ||\\boldsymbol{Y} - \\boldsymbol{T}||_2^2$$\n",
    "\n",
    "where\n",
    "\n",
    "* $||\\cdot||_2$ is the [Frobenius norm](http://en.wikipedia.org/wiki/Matrix_norm#Frobenius_norm)."
   ]
  },
  {
   "cell_type": "markdown",
   "metadata": {
    "slideshow": {
     "align_type": "Left",
     "slide_type": "slide"
    }
   },
   "source": [
    "# Efficient Backpropagation"
   ]
  },
  {
   "cell_type": "markdown",
   "metadata": {
    "slideshow": {
     "align_type": "Left",
     "slide_type": "-"
    }
   },
   "source": [
    "In each layer:\n",
    "\n",
    "$$\\Delta = f'(\\boldsymbol{NET}) \\ast \\frac{\\partial \\ell}{\\partial \\boldsymbol{Y}}\\,,$$\n",
    "$$\\frac{\\partial \\ell}{\\partial \\boldsymbol{W}} = \\Delta^T \\cdot \\boldsymbol{X}\\,,$$\n",
    "$$\\frac{\\partial \\ell}{\\partial \\boldsymbol{X}} = \\Delta \\cdot \\boldsymbol{W}\\,.$$\n",
    "\n",
    "where:\n",
    "\n",
    "* $*$ is the [Hadamard product](http://en.wikipedia.org/wiki/Hadamard_product_%28matrices%29) or Schur product or entrywise product\n",
    "* $\\frac{\\partial \\ell}{\\partial \\boldsymbol{Y}}$ contains derivatives of the error function with respect to the outputs ($\\boldsymbol{Y} - \\boldsymbol{T} = \\frac{\\partial \\ell}{\\partial \\boldsymbol{Y}}$ in the last layer)\n",
    "* $\\frac{\\partial \\ell}{\\partial \\boldsymbol{X}} \\in \\mathbb{R}^{N \\times I}$ contains derivatives of the error function with respect to the inputs and will be passed to the previous layer\n",
    "* $\\Delta \\in \\mathbb{R}^{N \\times J}$ contains deltas: $\\delta_j^{(n)} = \\Delta_{jn}$\n",
    "* $g'$ is the derivative of $g$ and can be computed based only on $\\boldsymbol{Y}$\n",
    "* $\\frac{\\partial \\ell}{\\partial \\boldsymbol{W}} \\in \\mathbb{R}^{J \\times I}$ contains the derivatives of the error function with respect to $\\boldsymbol{W}$ and will be used to optimize the weights of the ANN\n",
    "\n",
    "**Make sure that you remove the bias entry in each row before you pass $\\frac{\\partial \\ell}{\\partial \\boldsymbol{X}}$ to the previous layer!**"
   ]
  },
  {
   "cell_type": "markdown",
   "metadata": {
    "slideshow": {
     "slide_type": "slide"
    }
   },
   "source": [
    "## Pseudocode of backpropagation\n",
    "\n",
    "```pseudo\n",
    "initialize network weights (often small random values)\n",
    "  do\n",
    "     foreach training example, x\n",
    "        prediction = neural-net-output(network, x)                 // forward pass\n",
    "        actual = teacher-output(x)\n",
    "        compute error (prediction - actual) at the output units\n",
    "        compute deltas for all weights from hidden layer to output layer  // backward pass\n",
    "        compute deltas for all weights from input layer to hidden layer   // backward pass continued\n",
    "        update network weights                                            // input layer not modified by error estimate\n",
    "  until all examples classified correctly or another stopping criterion satisfied\n",
    "  return the network\n",
    "```"
   ]
  },
  {
   "cell_type": "markdown",
   "metadata": {
    "slideshow": {
     "align_type": "Left",
     "slide_type": "slide"
    }
   },
   "source": [
    "## Tips for Your Implementations"
   ]
  },
  {
   "cell_type": "markdown",
   "metadata": {
    "slideshow": {
     "align_type": "Left",
     "slide_type": "fragment"
    }
   },
   "source": [
    "* Depending on the problem type you have to select different activation functions for the output layer.\n",
    "* Check your gradients with finite differences:\n",
    "$$\\frac{\\partial f}{\\partial x} = \\frac{f(x + \\varepsilon) - f(x - \\varepsilon)}{2 \\varepsilon} + \\mathcal{O}(\\varepsilon^2)\\,.$$"
   ]
  },
  {
   "cell_type": "markdown",
   "metadata": {
    "slideshow": {
     "align_type": "Left",
     "slide_type": "slide"
    }
   },
   "source": [
    "### How to initialize weights $\\boldsymbol{w}$?"
   ]
  },
  {
   "cell_type": "code",
   "execution_count": 34,
   "metadata": {
    "slideshow": {
     "align_type": "Left",
     "slide_type": "fragment"
    }
   },
   "outputs": [
    {
     "data": {
      "text/plain": [
       "array([-0.05466522,  0.04519595, -0.12944682, -0.05341159, -0.00769046,\n",
       "       -0.04324446, -0.07862767,  0.01952648,  0.04378596,  0.06973566])"
      ]
     },
     "execution_count": 34,
     "metadata": {},
     "output_type": "execute_result"
    }
   ],
   "source": [
    "np.random.randn(10) * 0.05"
   ]
  },
  {
   "cell_type": "markdown",
   "metadata": {
    "slideshow": {
     "align_type": "Left",
     "slide_type": "fragment"
    }
   },
   "source": [
    "* Draw components of $\\boldsymbol{w}$ iid (independend and identically distributed) from a Gaussian distrubition with **small** standard deviation, e.g. 0.05.\n",
    "* Initialization with 0 will prevent the gradient from flowing back to the lower layers as\n",
    "\n",
    "$$\\frac{\\partial \\ell}{\\partial x_i} = \\delta_j w_{ji}\\,.$$\n",
    "\n",
    "* It has been shown that initialization of weights is a key to have good results. See:\n",
    "    - <small>Glorot, X., &amp; Bengio, Y. (2010).*Understanding the difficulty of training deep feedforward neural networks*. Proceedings of the 13th International Conference on Artificial Intelligence and Statistics (AISTATS), 9, 249–256. http://doi.org/10.1.1.207.2059</small>"
   ]
  },
  {
   "cell_type": "code",
   "execution_count": 35,
   "metadata": {
    "slideshow": {
     "slide_type": "subslide"
    }
   },
   "outputs": [],
   "source": [
    "def plot_afun(x, y, sp_idx, label=None):\n",
    "    \"\"\"Plot activation function.\"\"\"\n",
    "    ax = plt.subplot(2, 4, sp_idx)\n",
    "    if label is not None: \n",
    "        plt.title(label)\n",
    "    plt.setp(ax, xlim=(np.min(x), np.max(x)), ylim=(np.min(y)-0.5, np.max(y)+0.5))\n",
    "    plt.plot(x, y)"
   ]
  },
  {
   "cell_type": "code",
   "execution_count": 36,
   "metadata": {
    "slideshow": {
     "align_type": "Left",
     "slide_type": "slide"
    }
   },
   "outputs": [
    {
     "data": {
      "image/png": "[encoded data removed]",
      "text/plain": [
       "<matplotlib.figure.Figure at 0x1209cb400>"
      ]
     },
     "metadata": {
      "image/png": {
       "height": 287,
       "width": 604
      }
     },
     "output_type": "display_data"
    }
   ],
   "source": [
    "plt.figure(figsize=(10, 4))\n",
    "x = np.linspace(-5, 5, 100)\n",
    "plot_afun(x, x, 1, label=\"Identity\")\n",
    "plot_afun(x, np.tanh(x), 2, label=\"tanh\")\n",
    "plot_afun(x, logit(x), 3, label=\"Logistic (logit)\")\n",
    "plot_afun(x, np.max((x, np.zeros_like(x)), axis=0), 4, label=\"Rectified \\nLinear Unit (ReLU)\")\n",
    "plot_afun(x, np.ones_like(x), 5)\n",
    "plot_afun(x, 1-np.tanh(x)**2, 6)\n",
    "plot_afun(x, logit(x)*(1-logit(x)), 7)\n",
    "plot_afun(x, np.max((np.sign(x), np.zeros_like(x)), axis=0), 8)"
   ]
  },
  {
   "cell_type": "markdown",
   "metadata": {
    "slideshow": {
     "align_type": "Left",
     "slide_type": "slide"
    }
   },
   "source": [
    "## Derivatives of Activation Functions"
   ]
  },
  {
   "cell_type": "markdown",
   "metadata": {
    "slideshow": {
     "align_type": "Left",
     "slide_type": "fragment"
    }
   },
   "source": [
    "* Identity\n",
    "\n",
    "$$\\hat{y} = f(\\text{net}) = a;\\quad f'(\\text{net}) = 1\\,.$$"
   ]
  },
  {
   "cell_type": "markdown",
   "metadata": {
    "slideshow": {
     "align_type": "Left",
     "slide_type": "fragment"
    }
   },
   "source": [
    "* Hyperbolic tangent\n",
    "\n",
    "$$\\hat{y} = f(\\text{net}) = \\tanh(\\text{net});\\quad f'(\\text{net}) = 1 - \\tanh^2(\\text{net}) = 1-\\hat{y}^2\\,.$$"
   ]
  },
  {
   "cell_type": "markdown",
   "metadata": {
    "slideshow": {
     "align_type": "Left",
     "slide_type": "fragment"
    }
   },
   "source": [
    "* Logistic function\n",
    "\n",
    "$$y = f(\\text{net}) = \\frac{1}{1+\\exp{\\left(-\\text{net}\\right)}}\\,,$$\n",
    "$$f'(\\text{net}) = f(\\text{net}) (1 - f(\\text{net})) = \\hat{y} (1-\\hat{y})\\,.$$"
   ]
  },
  {
   "cell_type": "markdown",
   "metadata": {
    "slideshow": {
     "slide_type": "slide"
    }
   },
   "source": [
    "# Summarizing\n",
    "\n",
    "* We now know how to compute the $\\frac{\\partial\\ell}{\\partial w^l_{ji}}$ for all neurons.\n",
    "* For the neurons on the hidden layers we use the $\\delta$s of the next layer.\n",
    "* We know how to updates the weights as:\n",
    "$$\n",
    "\\Delta w^l_{ji}=-\\eta\\frac{\\partial\\ell}{w^l_{ji}}=-\\eta\\delta^l_j x^l_i. \n",
    "$$"
   ]
  },
  {
   "cell_type": "markdown",
   "metadata": {
    "slideshow": {
     "slide_type": "slide"
    }
   },
   "source": [
    "## Difficulties\n",
    "\n",
    "* There are many **local minima**.\n",
    "* The optimization problem is **ill-conditioned**.\n",
    "* There are many **flat regions** (saddle points).\n",
    "* There is **no guarantee** to reach the global minimum.\n",
    "* Deep architectures suffer from the **vanishing gradient** problem.\n",
    "* Neural networks are *usually* considered to be the **blackest box** of all learning algorithms.\n",
    "* There are sooo many **hyperparameters** (number of layers/nodes, activation function, connectivity, weight initialization, loss function, regularization, ...).\n",
    "* Training neural networks has been regarded as **black magic** by many researchers.\n",
    "* And here is the grimoire: [Neural Networks: Tricks of the Trade](http://link.springer.com/book/10.1007%2F978-3-642-35289-8) (1st edition: 1998; 2nd edition: 2012).\n"
   ]
  },
  {
   "cell_type": "markdown",
   "metadata": {
    "slideshow": {
     "slide_type": "slide"
    }
   },
   "source": [
    "## Theoretical features\n",
    "\n",
    "**Universal approximation theorem**:\n",
    "\n",
    "> A feed-forward network with **a single hidden** layer containing a finite number of neurons can approximate any continuous functions on compact subsets of $\\mathbb{R}^n$, under mild assumptions on the activation function. \n",
    "\n",
    "Hornik showed in 1991 that it is not the specific choice of the activation function, but rather the multilayer feedforward architecture itself which gives neural networks the potential of being universal approximators. \n",
    "\n",
    "<small>Kurt Hornik (1991) Approximation Capabilities of Multilayer Feedforward Networks, Neural Networks, 4(2), 251–257</small>"
   ]
  },
  {
   "cell_type": "markdown",
   "metadata": {
    "slideshow": {
     "slide_type": "slide"
    }
   },
   "source": [
    "There have been three hypes around ANNs:\n",
    "\n",
    "* Perceptron (50s-XOR problem)\n",
    "* Backpropagation (80s-SVM)\n",
    "* Deep Learning (2006-now)\n",
    "\n",
    "And they work incredibly well in practice."
   ]
  },
  {
   "cell_type": "markdown",
   "metadata": {
    "slideshow": {
     "slide_type": "slide"
    }
   },
   "source": [
    "### But... why do neural nets work well in practice?\n",
    "* Universal function approximation property.\n",
    "* Stochastic gradient descent finds **sufficiently good** local minima.\n",
    "* We don't want to find the global minimum $\\implies$ ** fights overfitting!**\n",
    "* Neural nets learn **feature hierarchies** to represent functions *efficiently*.\n",
    "    * **features will be learned** automatically\n",
    "    * allows learning of **hierarchical features** which is much more efficient than just one layer of abstraction\n",
    "* **multiclass classification** can be integrated with linear complexity (softmax activation function, cross-entropy error function)\n",
    "* it is a **parametric** model, it does not store any training data directly."
   ]
  },
  {
   "cell_type": "markdown",
   "metadata": {
    "slideshow": {
     "slide_type": "slide"
    }
   },
   "source": [
    "### Drawbacks\n",
    "\n",
    "* input has to be a **vector of real numbers**, e.g. text must be converted before classification\n",
    "* in general, the **optimization problem** is very difficult because it is **ill-conditioned** and **non-separable**\n",
    "* objective function is **not convex**, there are many local minima and flat regions\n",
    "* **black box**: in most cases it is very difficult to interpret the weights of a neural network although it is possible!\n",
    "* **catastrophic forgetting**: learning one instance can change the whole network"
   ]
  },
  {
   "cell_type": "markdown",
   "metadata": {
    "slideshow": {
     "slide_type": "skip"
    }
   },
   "source": [
    "<hr/>\n",
    "<div class=\"container-fluid\">\n",
    "  <div class='well'>\n",
    "      <div class=\"row\">\n",
    "          <div class=\"col-md-3\" align='center'>\n",
    "              <img align='center'alt=\"Creative Commons License\" style=\"border-width:0\" src=\"https://i.creativecommons.org/l/by-nc-sa/4.0/88x31.png\"/>\n",
    "          </div>\n",
    "          <div class=\"col-md-9\">\n",
    "              This work is licensed under a [Creative Commons Attribution-NonCommercial-ShareAlike 4.0 International License](http://creativecommons.org/licenses/by-nc-sa/4.0/).\n",
    "          </div>\n",
    "      </div>\n",
    "  </div>\n",
    "</div>"
   ]
  },
  {
   "cell_type": "code",
   "execution_count": 37,
   "metadata": {
    "slideshow": {
     "slide_type": "skip"
    }
   },
   "outputs": [
    {
     "data": {
      "application/json": {
       "Software versions": [
        {
         "module": "Python",
         "version": "3.6.3 64bit [GCC 4.2.1 Compatible Apple LLVM 6.1.0 (clang-602.0.53)]"
        },
        {
         "module": "IPython",
         "version": "6.2.1"
        },
        {
         "module": "OS",
         "version": "Darwin 17.3.0 x86_64 i386 64bit"
        },
        {
         "module": "scipy",
         "version": "1.0.0"
        },
        {
         "module": "numpy",
         "version": "1.13.3"
        },
        {
         "module": "matplotlib",
         "version": "2.1.0"
        },
        {
         "module": "sklearn",
         "version": "0.19.1"
        }
       ]
      },
      "text/html": [
       "<table><tr><th>Software</th><th>Version</th></tr><tr><td>Python</td><td>3.6.3 64bit [GCC 4.2.1 Compatible Apple LLVM 6.1.0 (clang-602.0.53)]</td></tr><tr><td>IPython</td><td>6.2.1</td></tr><tr><td>OS</td><td>Darwin 17.3.0 x86_64 i386 64bit</td></tr><tr><td>scipy</td><td>1.0.0</td></tr><tr><td>numpy</td><td>1.13.3</td></tr><tr><td>matplotlib</td><td>2.1.0</td></tr><tr><td>sklearn</td><td>0.19.1</td></tr><tr><td colspan='2'>Thu Nov 23 08:19:13 2017 -02</td></tr></table>"
      ],
      "text/latex": [
       "\\begin{tabular}{|l|l|}\\hline\n",
       "{\\bf Software} & {\\bf Version} \\\\ \\hline\\hline\n",
       "Python & 3.6.3 64bit [GCC 4.2.1 Compatible Apple LLVM 6.1.0 (clang-602.0.53)] \\\\ \\hline\n",
       "IPython & 6.2.1 \\\\ \\hline\n",
       "OS & Darwin 17.3.0 x86\\_64 i386 64bit \\\\ \\hline\n",
       "scipy & 1.0.0 \\\\ \\hline\n",
       "numpy & 1.13.3 \\\\ \\hline\n",
       "matplotlib & 2.1.0 \\\\ \\hline\n",
       "sklearn & 0.19.1 \\\\ \\hline\n",
       "\\hline \\multicolumn{2}{|l|}{Thu Nov 23 08:19:13 2017 -02} \\\\ \\hline\n",
       "\\end{tabular}\n"
      ],
      "text/plain": [
       "Software versions\n",
       "Python 3.6.3 64bit [GCC 4.2.1 Compatible Apple LLVM 6.1.0 (clang-602.0.53)]\n",
       "IPython 6.2.1\n",
       "OS Darwin 17.3.0 x86_64 i386 64bit\n",
       "scipy 1.0.0\n",
       "numpy 1.13.3\n",
       "matplotlib 2.1.0\n",
       "sklearn 0.19.1\n",
       "Thu Nov 23 08:19:13 2017 -02"
      ]
     },
     "execution_count": 37,
     "metadata": {},
     "output_type": "execute_result"
    }
   ],
   "source": [
    "%load_ext version_information\n",
    "%version_information scipy, numpy, matplotlib, sklearn"
   ]
  },
  {
   "cell_type": "code",
   "execution_count": 38,
   "metadata": {
    "slideshow": {
     "slide_type": "skip"
    }
   },
   "outputs": [
    {
     "data": {
      "text/html": [
       "<link href=\"https://fonts.googleapis.com/css?family=Fira+Sans:300,300i,600,600i\" rel=\"stylesheet\">\n",
       "<link href=\"https://fonts.googleapis.com/css?family=Inconsolata\" rel=\"stylesheet\">\n",
       "<link href=\"https://fonts.googleapis.com/css?family=Titillium+Web:400,400i,700,700i\" rel=\"stylesheet\">\n",
       "<style>\n",
       ".text_cell_render {\n",
       "font-style: regular;\n",
       "font-family: 'Fira Sans', sans-serif;\n",
       "display: block;\n",
       "}\n",
       "/*font-weight: 200;*/\n",
       "/*text-align: left;\n",
       "line-height: 100%;\n",
       "display: block;\n",
       "}*/\n",
       ".text_cell_render h1 {\n",
       "/*font-size: 24pt;*/\n",
       "font-family: 'Titillium Web', sans-serif;\n",
       "font-weight: bold;\n",
       "margin-bottom: 0.1em;\n",
       "margin-top: 0.5em;\n",
       "color:#4a4a4a;\n",
       "}\n",
       "\n",
       ".reveal h1 {\n",
       "font-family: 'Titillium Web', sans-serif;\n",
       "/*font-size: 24pt;*/\n",
       "font-weight: bold;\n",
       "margin-bottom: 0.1em;\n",
       "margin-top: 0.5em;\n",
       "color:#4a4a4a;\n",
       "}\n",
       ".text_cell_render h2 {\n",
       "/*font-size: 21pt;*/\n",
       "    font-family: 'Titillium Web', sans-serif;\n",
       "margin-bottom: 0.1em;\n",
       "margin-top: 0.3em;\n",
       "color:#595959;\n",
       "}\n",
       ".text_cell_render h3 {\n",
       "    font-family: 'Titillium Web', sans-serif;\n",
       "/*font-size: 19pt;*/\n",
       "margin-bottom: 0.1em;\n",
       "margin-top: 0.3em;\n",
       "color:#595959;\n",
       "}\n",
       ".text_cell_render h4 {\n",
       "    font-family: 'Titillium Web', sans-serif;\n",
       "/*font-size: 17pt;*/\n",
       "margin-bottom: 0.1em;\n",
       "margin-top: 0.3em;\n",
       "color:#595959;\n",
       "}\n",
       ".text_cell_render h5 {\n",
       "    font-family: 'Titillium Web', sans-serif;\n",
       "/*font-size: 15pt;*/\n",
       "margin-bottom: 0.1em;\n",
       "margin-top: 0.3em;\n",
       "color:#595959;\n",
       "}\n",
       "div.text_cell_render{\n",
       "line-height: 120%;\n",
       "font-size: 100%;\n",
       "font-weight: 400;\n",
       "text-align: justify;\n",
       "margin-left:0em;\n",
       "margin-right:0em;\n",
       "}\n",
       ".reveal div.text_cell_render{\n",
       "line-height: 120%;\n",
       "font-size: 74%;\n",
       "font-weight: 400;\n",
       "text-align: justify;\n",
       "margin-left:0em;\n",
       "margin-right:0em;\n",
       "}\n",
       "\n",
       ".reveal h2 {\n",
       "font-family: 'Titillium Web', sans-serif;\n",
       "/*font-size: 24pt;*/\n",
       "font-weight: bold;\n",
       "margin-bottom: 0.1em;\n",
       "margin-top: 0.5em;\n",
       "color:#595959;\n",
       "}\n",
       ".reveal h3 {\n",
       "font-family: 'Titillium Web', sans-serif;\n",
       "/*font-size: 24pt;*/\n",
       "font-weight: bold;\n",
       "margin-bottom: 0.1em;\n",
       "margin-top: 0.5em;\n",
       "color:#595959;\n",
       "}\n",
       ".reveal h4 {\n",
       "font-family: 'Titillium Web', sans-serif;\n",
       "font-weight: bold;\n",
       "margin-bottom: 0.1em;\n",
       "margin-top: 0.5em;\n",
       "color:#595959;\n",
       "}\n",
       ".reveal .code_cell {\n",
       "    font-size: 92%;\n",
       "}\n",
       ".reveal code {\n",
       "font-family: 'Inconsolata', monospace;\n",
       "}\n",
       ".reveal pre {\n",
       "font-family: 'Inconsolata', monospace;\n",
       "}\n",
       "code {\n",
       "font-family: 'Inconsolata', monospace;\n",
       "}\n",
       "pre {\n",
       "font-family: 'Inconsolata', monospace;\n",
       "}\n",
       ".CodeMirror{\n",
       "font-family: \"Inconsolata\", monospace;\n",
       "}\n",
       "</style>\n"
      ],
      "text/plain": [
       "<IPython.core.display.HTML object>"
      ]
     },
     "execution_count": 38,
     "metadata": {},
     "output_type": "execute_result"
    }
   ],
   "source": [
    "# this code is here for cosmetic reasons\n",
    "from IPython.core.display import HTML\n",
    "from urllib.request import urlopen\n",
    "HTML(urlopen('https://raw.githubusercontent.com/lmarti/jupyter_custom/master/custom.include').read().decode('utf-8'))"
   ]
  },
  {
   "cell_type": "markdown",
   "metadata": {},
   "source": [
    "---"
   ]
  }
 ],
 "metadata": {
  "anaconda-cloud": {},
  "kernelspec": {
   "display_name": "Python 3",
   "language": "python",
   "name": "python3"
  },
  "language_info": {
   "codemirror_mode": {
    "name": "ipython",
    "version": 3
   },
   "file_extension": ".py",
   "mimetype": "text/x-python",
   "name": "python",
   "nbconvert_exporter": "python",
   "pygments_lexer": "ipython3",
   "version": "3.6.3"
  },
  "widgets": {
   "state": {
    "878631a4f0884d5092825922635ea567": {
     "views": [
      {
       "cell_index": 70
      }
     ]
    },
    "d417166c65934750bb40d7d27fd422bf": {
     "views": [
      {
       "cell_index": 72
      }
     ]
    }
   },
   "version": "1.2.0"
  }
 },
 "nbformat": 4,
 "nbformat_minor": 2
}
