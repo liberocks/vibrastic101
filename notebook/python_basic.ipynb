{
  "nbformat": 4,
  "nbformat_minor": 0,
  "metadata": {
    "anaconda-cloud": {},
    "kernelspec": {
      "display_name": "Python 3",
      "language": "python",
      "name": "python3"
    },
    "language_info": {
      "codemirror_mode": {
        "name": "ipython",
        "version": 3
      },
      "file_extension": ".py",
      "mimetype": "text/x-python",
      "name": "python",
      "nbconvert_exporter": "python",
      "pygments_lexer": "ipython3",
      "version": "3.6.2"
    },
    "colab": {
      "name": "python_basic.ipynb",
      "provenance": []
    }
  },
  "cells": [
    {
      "cell_type": "markdown",
      "metadata": {
        "id": "pqic3nk38hZY",
        "colab_type": "text"
      },
      "source": [
        "#Python Basic"
      ]
    },
    {
      "cell_type": "markdown",
      "metadata": {
        "id": "RCVS01mY8hZk",
        "colab_type": "text"
      },
      "source": [
        "# Introduction\n",
        "\n",
        "* Python is a great general-purpose programming language,...\n",
        "* ...and with the help of a libraries such as `numpy`, `scipy` and `matplotlib` (among many others) it becomes a powerful environment for scientific computing."
      ]
    },
    {
      "cell_type": "markdown",
      "metadata": {
        "id": "3tkx3Cp78hZm",
        "colab_type": "text"
      },
      "source": [
        "<div class=\"container-fluid\">\n",
        "  <div class=\"row\">\n",
        "      <div class=\"col-md-3\">&nbsp;</div>\n",
        "      <div class=\"col-md-6\">\n",
        "          <div class='well'>\n",
        "              <img src='http://imgs.xkcd.com/comics/python.png' width='100%'>\n",
        "          </div>\n",
        "      </div>\n",
        "      <div class=\"col-md-3\" align='center'>&nbsp;</div>\n",
        "  </div>\n",
        "</div>"
      ]
    },
    {
      "cell_type": "markdown",
      "metadata": {
        "id": "yelx8pLr8hZp",
        "colab_type": "text"
      },
      "source": [
        "Python main characteristics:\n",
        "\n",
        "* dynamic type system\n",
        "* interpreted (actually: compiled to bytecode, `*.pyc` files)\n",
        "* multi-paradigm: imperative, procedural, object-oriented, (functional), *literate*; do whatever you want\n",
        "* **indentation is important!**"
      ]
    },
    {
      "cell_type": "markdown",
      "metadata": {
        "id": "uz8q8YL18hZr",
        "colab_type": "text"
      },
      "source": [
        "I assume that you have some programming experience:\n",
        "\n",
        "* Java (static type system, compiled, object-oriented, verbose)\n",
        "* C/C++ (static type system, compiled, multi-paradigm, low-level)\n",
        "* Matlab? R? "
      ]
    },
    {
      "cell_type": "markdown",
      "metadata": {
        "id": "CZ8zm2jH8hZu",
        "colab_type": "text"
      },
      "source": [
        "# In this tutorial\n",
        "\n",
        "* Basic Python: Basic data types, containers, loops, functions and classes.\n",
        "* `numpy`: arrays, array indexing, datatypes, array math and broadcasting.\n",
        "* `matplotlib`: plotting, subplots, images."
      ]
    },
    {
      "cell_type": "markdown",
      "metadata": {
        "id": "jEZ4Unnn8hZw",
        "colab_type": "text"
      },
      "source": [
        "# Basics of Python\n",
        "\n",
        "* Python is a high-level, dynamically typed multiparadigm programming language. \n",
        "* Python code is often said to be almost like pseudocode, since it allows you to express very powerful ideas in very few lines of code while being very readable."
      ]
    },
    {
      "cell_type": "markdown",
      "metadata": {
        "id": "1yyj2Q038hZy",
        "colab_type": "text"
      },
      "source": [
        "Required Python packages (libraries) to run this notebook:\n",
        "\n",
        "* `Python`\n",
        "* `numpy` - linear algebra library\n",
        "* `matplotlib` - plotting library"
      ]
    },
    {
      "cell_type": "markdown",
      "metadata": {
        "id": "8sbWCBwK8hZ0",
        "colab_type": "text"
      },
      "source": [
        "As an example, here is an implementation of the classic [*quicksort algorithm*](https://en.wikipedia.org/wiki/Quicksort) in Python:"
      ]
    },
    {
      "cell_type": "code",
      "metadata": {
        "id": "1ginfFV58hZ1",
        "colab_type": "code",
        "colab": {}
      },
      "source": [
        "def quicksort(arr):\n",
        "    if len(arr) <= 1:\n",
        "        return arr\n",
        "    pivot = arr[int(len(arr) / 2)]\n",
        "    left = [x for x in arr if x < pivot]\n",
        "    middle = [x for x in arr if x == pivot]\n",
        "    right = [x for x in arr if x > pivot]\n",
        "    return quicksort(left) + middle + quicksort(right)"
      ],
      "execution_count": 0,
      "outputs": []
    },
    {
      "cell_type": "code",
      "metadata": {
        "id": "Rvpspr_18hZ9",
        "colab_type": "code",
        "colab": {
          "base_uri": "https://localhost:8080/",
          "height": 35
        },
        "outputId": "a709b991-7bf0-49c1-adab-e3a0b088667b"
      },
      "source": [
        "quicksort([3,6,8,10,1,2,1])"
      ],
      "execution_count": 2,
      "outputs": [
        {
          "output_type": "execute_result",
          "data": {
            "text/plain": [
              "[1, 1, 2, 3, 6, 8, 10]"
            ]
          },
          "metadata": {
            "tags": []
          },
          "execution_count": 2
        }
      ]
    },
    {
      "cell_type": "markdown",
      "metadata": {
        "id": "UV3izwQG8haD",
        "colab_type": "text"
      },
      "source": [
        "# Python versions\n",
        "\n",
        "* There are currently two different supported versions of Python, 2.x and 3.x. \n",
        "* Python 3.0 introduced many backwards-incompatible changes to the language, so code written for 2.x may not work under 3.x and vice versa.\n",
        "* In our class we will be using Python 3.x.\n",
        "\n",
        "**Note:** You can check your Python version at the command line by running `python --version`."
      ]
    },
    {
      "cell_type": "markdown",
      "metadata": {
        "id": "sFzYQpOo8haF",
        "colab_type": "text"
      },
      "source": [
        "# Basic data types"
      ]
    },
    {
      "cell_type": "markdown",
      "metadata": {
        "id": "DkUI83Da8haH",
        "colab_type": "text"
      },
      "source": [
        "## Numeric types\n",
        "Integers and floats work as you would expect from other languages:"
      ]
    },
    {
      "cell_type": "code",
      "metadata": {
        "id": "5ZrCVXX18haJ",
        "colab_type": "code",
        "colab": {
          "base_uri": "https://localhost:8080/",
          "height": 35
        },
        "outputId": "a8a4b37b-44fe-4399-907d-f36ce02cd2c6"
      },
      "source": [
        "x = 3\n",
        "print(x, type(x))"
      ],
      "execution_count": 3,
      "outputs": [
        {
          "output_type": "stream",
          "text": [
            "3 <class 'int'>\n"
          ],
          "name": "stdout"
        }
      ]
    },
    {
      "cell_type": "code",
      "metadata": {
        "id": "D6KRTVU28haO",
        "colab_type": "code",
        "colab": {
          "base_uri": "https://localhost:8080/",
          "height": 89
        },
        "outputId": "21190644-9c75-4d6d-b45d-541e6f6f38d3"
      },
      "source": [
        "print(x + 1)   # Addition;\n",
        "print(x - 1)   # Subtraction;\n",
        "print(x * 2)   # Multiplication;\n",
        "print(x ** 2)  # Exponentiation."
      ],
      "execution_count": 4,
      "outputs": [
        {
          "output_type": "stream",
          "text": [
            "4\n",
            "2\n",
            "6\n",
            "9\n"
          ],
          "name": "stdout"
        }
      ]
    },
    {
      "cell_type": "markdown",
      "metadata": {
        "id": "hmQoHtCR8haU",
        "colab_type": "text"
      },
      "source": [
        "Autoincrements:"
      ]
    },
    {
      "cell_type": "code",
      "metadata": {
        "id": "EBM48Ho38haW",
        "colab_type": "code",
        "colab": {
          "base_uri": "https://localhost:8080/",
          "height": 53
        },
        "outputId": "9ded537e-2323-423f-f1da-be62b3b5fa5d"
      },
      "source": [
        "x += 1\n",
        "print(x)  # Prints \"4\"\n",
        "x *= 2\n",
        "print(x)  # Prints \"8\""
      ],
      "execution_count": 5,
      "outputs": [
        {
          "output_type": "stream",
          "text": [
            "4\n",
            "8\n"
          ],
          "name": "stdout"
        }
      ]
    },
    {
      "cell_type": "markdown",
      "metadata": {
        "id": "cIuvFHvu8hab",
        "colab_type": "text"
      },
      "source": [
        "Note that unlike many languages, Python does not have unary increment (`x++`) or decrement (`x--`) operators.\n",
        "\n",
        "Python also has built-in types for long integers and complex numbers; you can find all of the details in the [documentation](https://docs.python.org/2/library/stdtypes.html#numeric-types-int-float-long-complex)."
      ]
    },
    {
      "cell_type": "markdown",
      "metadata": {
        "id": "BbXirNR_8had",
        "colab_type": "text"
      },
      "source": [
        "Real numbers (`float`)"
      ]
    },
    {
      "cell_type": "code",
      "metadata": {
        "id": "IIO_mQPP8hae",
        "colab_type": "code",
        "colab": {
          "base_uri": "https://localhost:8080/",
          "height": 53
        },
        "outputId": "77292a48-dfbe-4238-90eb-280097882f46"
      },
      "source": [
        "y = 2.5\n",
        "print(type(y)) # Prints \"<class 'float'>\"\n",
        "print(y, y + 1, y * 2, y ** 2) # Prints \"2.5 3.5 5.0 6.25\""
      ],
      "execution_count": 6,
      "outputs": [
        {
          "output_type": "stream",
          "text": [
            "<class 'float'>\n",
            "2.5 3.5 5.0 6.25\n"
          ],
          "name": "stdout"
        }
      ]
    },
    {
      "cell_type": "markdown",
      "metadata": {
        "id": "ts0TdQIy8has",
        "colab_type": "text"
      },
      "source": [
        "## Booleans"
      ]
    },
    {
      "cell_type": "markdown",
      "metadata": {
        "id": "1vYdjZDT8hat",
        "colab_type": "text"
      },
      "source": [
        "Python implements all of the usual operators for [Boolean algebra](https://en.wikipedia.org/wiki/Boolean_algebra), but uses English words rather than symbols (`&&`, `||`, `!`, etc.):"
      ]
    },
    {
      "cell_type": "code",
      "metadata": {
        "id": "kJuK4hed8hav",
        "colab_type": "code",
        "colab": {
          "base_uri": "https://localhost:8080/",
          "height": 0
        },
        "outputId": "f6c87eb3-18b4-4562-ee24-4606f1daee32"
      },
      "source": [
        "t, f, aa, bb = True, False, True, False # Hmm... yes you can do this in Python\n",
        "print(t, f, type(t))"
      ],
      "execution_count": 7,
      "outputs": [
        {
          "output_type": "stream",
          "text": [
            "True False <class 'bool'>\n"
          ],
          "name": "stdout"
        }
      ]
    },
    {
      "cell_type": "markdown",
      "metadata": {
        "id": "qW3UzJj88ha1",
        "colab_type": "text"
      },
      "source": [
        "Now we let's look at the operations:"
      ]
    },
    {
      "cell_type": "code",
      "metadata": {
        "id": "rjK71QVn8ha2",
        "colab_type": "code",
        "colab": {
          "base_uri": "https://localhost:8080/",
          "height": 0
        },
        "outputId": "571dccef-f322-4df2-8986-7c79a44c1f07"
      },
      "source": [
        "print(t and f) # Logical AND;\n",
        "print(t or f)  # Logical OR;\n",
        "print(not t)   # Logical NOT;\n",
        "print(t != f)  # Logical XOR;"
      ],
      "execution_count": 8,
      "outputs": [
        {
          "output_type": "stream",
          "text": [
            "False\n",
            "True\n",
            "False\n",
            "True\n"
          ],
          "name": "stdout"
        }
      ]
    },
    {
      "cell_type": "markdown",
      "metadata": {
        "id": "WM7K83eA8ha_",
        "colab_type": "text"
      },
      "source": [
        "## Booleans and truth Testing\n",
        "\n",
        "* In programming we invariably need some concept of *conditions* to allow a program to react differently to different situations. \n",
        "* Python uses a combination of *Boolean* variables, which evaluate to either `True` or `False`, and `if` statements."
      ]
    },
    {
      "cell_type": "code",
      "metadata": {
        "id": "mGHHcN8F8hbB",
        "colab_type": "code",
        "colab": {
          "base_uri": "https://localhost:8080/",
          "height": 0
        },
        "outputId": "b7aed500-841f-40ee-f926-dce926ab64dc"
      },
      "source": [
        "day = \"Sunday\"\n",
        "if day == 'Sunday':\n",
        "    print('Sleep!!!')\n",
        "else:\n",
        "    print('Go to work')"
      ],
      "execution_count": 9,
      "outputs": [
        {
          "output_type": "stream",
          "text": [
            "Sleep!!!\n"
          ],
          "name": "stdout"
        }
      ]
    },
    {
      "cell_type": "markdown",
      "metadata": {
        "id": "vX3TCLa08hbG",
        "colab_type": "text"
      },
      "source": [
        "There is no `switch` or `case` statements"
      ]
    },
    {
      "cell_type": "code",
      "metadata": {
        "id": "sg3zQ2H98hbI",
        "colab_type": "code",
        "colab": {
          "base_uri": "https://localhost:8080/",
          "height": 0
        },
        "outputId": "f95a8e86-5ae7-4cdd-d295-46eee483589d"
      },
      "source": [
        "if day == 'Monday':\n",
        "    print('Week end is over!')\n",
        "elif day == 'Sunday' or day =='Saturday':\n",
        "    print('Sleep!')\n",
        "else:\n",
        "    print('Meeeh')"
      ],
      "execution_count": 10,
      "outputs": [
        {
          "output_type": "stream",
          "text": [
            "Sleep!\n"
          ],
          "name": "stdout"
        }
      ]
    },
    {
      "cell_type": "code",
      "metadata": {
        "id": "hV2Y_IYd8hbU",
        "colab_type": "code",
        "colab": {
          "base_uri": "https://localhost:8080/",
          "height": 0
        },
        "outputId": "74da8884-81a6-4ac4-e267-9235d497e774"
      },
      "source": [
        "var_1 = 234\n",
        "if var_1:\n",
        "    print('Do something with', var_1)\n",
        "else:\n",
        "    print('Nothing to do')"
      ],
      "execution_count": 11,
      "outputs": [
        {
          "output_type": "stream",
          "text": [
            "Do something with 234\n"
          ],
          "name": "stdout"
        }
      ]
    },
    {
      "cell_type": "code",
      "metadata": {
        "id": "dtYGhFlE8hba",
        "colab_type": "code",
        "colab": {
          "base_uri": "https://localhost:8080/",
          "height": 0
        },
        "outputId": "a5359113-18f6-43fd-d6a2-9bd2aeda6fb3"
      },
      "source": [
        "1 == 2"
      ],
      "execution_count": 12,
      "outputs": [
        {
          "output_type": "execute_result",
          "data": {
            "text/plain": [
              "False"
            ]
          },
          "metadata": {
            "tags": []
          },
          "execution_count": 12
        }
      ]
    },
    {
      "cell_type": "code",
      "metadata": {
        "id": "DQ9jimxm8hbj",
        "colab_type": "code",
        "colab": {
          "base_uri": "https://localhost:8080/",
          "height": 0
        },
        "outputId": "6a907087-75b9-4135-a9fe-cf754782269a"
      },
      "source": [
        "50 == 2*25"
      ],
      "execution_count": 13,
      "outputs": [
        {
          "output_type": "execute_result",
          "data": {
            "text/plain": [
              "True"
            ]
          },
          "metadata": {
            "tags": []
          },
          "execution_count": 13
        }
      ]
    },
    {
      "cell_type": "markdown",
      "metadata": {
        "id": "nX6rChM78hbu",
        "colab_type": "text"
      },
      "source": [
        "There is another boolean operator `is`, that tests whether two objects are **the same type**:"
      ]
    },
    {
      "cell_type": "code",
      "metadata": {
        "id": "8KAsYT458hbw",
        "colab_type": "code",
        "colab": {
          "base_uri": "https://localhost:8080/",
          "height": 0
        },
        "outputId": "d6ce3c1e-5fc4-4be7-8aba-5c891f634c01"
      },
      "source": [
        "1 is 1"
      ],
      "execution_count": 14,
      "outputs": [
        {
          "output_type": "execute_result",
          "data": {
            "text/plain": [
              "True"
            ]
          },
          "metadata": {
            "tags": []
          },
          "execution_count": 14
        }
      ]
    },
    {
      "cell_type": "markdown",
      "metadata": {
        "id": "tHCG0ZdW8hb4",
        "colab_type": "text"
      },
      "source": [
        "But not..."
      ]
    },
    {
      "cell_type": "code",
      "metadata": {
        "id": "SwOOt88b8hb5",
        "colab_type": "code",
        "colab": {
          "base_uri": "https://localhost:8080/",
          "height": 0
        },
        "outputId": "f5aaca13-241a-45a1-95b0-12d89d3e15be"
      },
      "source": [
        "1 is int"
      ],
      "execution_count": 15,
      "outputs": [
        {
          "output_type": "execute_result",
          "data": {
            "text/plain": [
              "False"
            ]
          },
          "metadata": {
            "tags": []
          },
          "execution_count": 15
        }
      ]
    },
    {
      "cell_type": "code",
      "metadata": {
        "id": "4EPWvTiE8hb_",
        "colab_type": "code",
        "colab": {
          "base_uri": "https://localhost:8080/",
          "height": 0
        },
        "outputId": "8f9d26c7-b46b-4dfb-d64a-65ed36e0fa81"
      },
      "source": [
        "print(type(1), type(int))"
      ],
      "execution_count": 16,
      "outputs": [
        {
          "output_type": "stream",
          "text": [
            "<class 'int'> <class 'type'>\n"
          ],
          "name": "stdout"
        }
      ]
    },
    {
      "cell_type": "code",
      "metadata": {
        "id": "NMO-QOfB8hcE",
        "colab_type": "code",
        "colab": {
          "base_uri": "https://localhost:8080/",
          "height": 0
        },
        "outputId": "e2943241-e94f-4977-fa6f-da8c918578ed"
      },
      "source": [
        "1 is 1.0"
      ],
      "execution_count": 17,
      "outputs": [
        {
          "output_type": "execute_result",
          "data": {
            "text/plain": [
              "False"
            ]
          },
          "metadata": {
            "tags": []
          },
          "execution_count": 17
        }
      ]
    },
    {
      "cell_type": "markdown",
      "metadata": {
        "id": "-BmQcBwq8hcJ",
        "colab_type": "text"
      },
      "source": [
        "## Strings\n",
        "\n",
        "String literals can use single quotes (`''`) or or double quotes(`\"\"`); it does not matter."
      ]
    },
    {
      "cell_type": "code",
      "metadata": {
        "id": "GEheCbno8hcL",
        "colab_type": "code",
        "colab": {
          "base_uri": "https://localhost:8080/",
          "height": 0
        },
        "outputId": "8954a5dd-d6e0-4548-c485-ddc1a70c32ce"
      },
      "source": [
        "hello = 'hello'\n",
        "world = \"world\"\n",
        "print(hello, len(hello))"
      ],
      "execution_count": 18,
      "outputs": [
        {
          "output_type": "stream",
          "text": [
            "hello 5\n"
          ],
          "name": "stdout"
        }
      ]
    },
    {
      "cell_type": "code",
      "metadata": {
        "id": "D0HowQB98hcR",
        "colab_type": "code",
        "colab": {
          "base_uri": "https://localhost:8080/",
          "height": 0
        },
        "outputId": "a9ee28e6-9ea6-47e0-a29f-d17b35b99a13"
      },
      "source": [
        "hw = hello + ' ' + world  # String concatenation\n",
        "print(hw)"
      ],
      "execution_count": 19,
      "outputs": [
        {
          "output_type": "stream",
          "text": [
            "hello world\n"
          ],
          "name": "stdout"
        }
      ]
    },
    {
      "cell_type": "markdown",
      "metadata": {
        "id": "lm0mq9Be8hcW",
        "colab_type": "text"
      },
      "source": [
        "String formatting"
      ]
    },
    {
      "cell_type": "code",
      "metadata": {
        "id": "LBeq3P1A8hcY",
        "colab_type": "code",
        "colab": {
          "base_uri": "https://localhost:8080/",
          "height": 0
        },
        "outputId": "51dd305e-8cc9-47a9-f59d-a7b043e409a2"
      },
      "source": [
        "hw12 = '%s %s! your number is: %d' % (hello, world, 12)  # sprintf style string formatting\n",
        "print(hw12)"
      ],
      "execution_count": 20,
      "outputs": [
        {
          "output_type": "stream",
          "text": [
            "hello world! your number is: 12\n"
          ],
          "name": "stdout"
        }
      ]
    },
    {
      "cell_type": "markdown",
      "metadata": {
        "id": "IvdCie7V8hck",
        "colab_type": "text"
      },
      "source": [
        "**Note:** Checkout https://docs.python.org/3/library/string.html#formatspec for string formatting specs."
      ]
    },
    {
      "cell_type": "markdown",
      "metadata": {
        "id": "828gw4zx8hcx",
        "colab_type": "text"
      },
      "source": [
        "String objects have a bunch of useful methods; for example:"
      ]
    },
    {
      "cell_type": "code",
      "metadata": {
        "id": "zzRlro9b8hcz",
        "colab_type": "code",
        "colab": {
          "base_uri": "https://localhost:8080/",
          "height": 0
        },
        "outputId": "9662374d-bc92-4603-d7ee-cabaa9302990"
      },
      "source": [
        "s = \"hello\"\n",
        "print(s.capitalize())           # Capitalize a string; prints \"Hello\"\n",
        "print(s.upper())                # Convert a string to uppercase; prints \"HELLO\"\n",
        "print(s.rjust(7))               # Right-justify a string, padding with spaces; prints \"  hello\"\n",
        "print(s.center(7))              # Center a string, padding with spaces; prints \" hello \"\n",
        "print(s.replace('l', '(ell)'))  # Replace all instances of one substring with another;\n",
        "                                # prints \"he(ell)(ell)o\"\n",
        "print('  world '.strip())       # Strip leading and trailing whitespace; prints \"world\""
      ],
      "execution_count": 21,
      "outputs": [
        {
          "output_type": "stream",
          "text": [
            "Hello\n",
            "HELLO\n",
            "  hello\n",
            " hello \n",
            "he(ell)(ell)o\n",
            "world\n"
          ],
          "name": "stdout"
        }
      ]
    },
    {
      "cell_type": "markdown",
      "metadata": {
        "id": "SJMmkxXF8hdP",
        "colab_type": "text"
      },
      "source": [
        "Again, you can find a list of all string methods in the [documentation](https://docs.python.org/3/library/string.html)."
      ]
    },
    {
      "cell_type": "markdown",
      "metadata": {
        "id": "aPsP-Dx08hdQ",
        "colab_type": "text"
      },
      "source": [
        "# Containers"
      ]
    },
    {
      "cell_type": "markdown",
      "metadata": {
        "id": "X-tWcpP68hdS",
        "colab_type": "text"
      },
      "source": [
        "Python includes several built-in container types: *lists*, *dictionaries*, *sets*, and *tuples*."
      ]
    },
    {
      "cell_type": "markdown",
      "metadata": {
        "id": "GJUHapg88hdT",
        "colab_type": "text"
      },
      "source": [
        "## Lists"
      ]
    },
    {
      "cell_type": "markdown",
      "metadata": {
        "id": "B2ijWAtv8hdV",
        "colab_type": "text"
      },
      "source": [
        "A list is the Python equivalent of an array, but is resizeable and can contain elements of different types:"
      ]
    },
    {
      "cell_type": "code",
      "metadata": {
        "id": "04XGNKt78hdX",
        "colab_type": "code",
        "colab": {
          "base_uri": "https://localhost:8080/",
          "height": 0
        },
        "outputId": "e08000da-11d2-4216-a232-c185e800ed78"
      },
      "source": [
        "xs = [3, 1, 2]    # Create a list\n",
        "print(xs, xs[2])\n",
        "print(xs[-1])     # Negative indices count from the end of the list; prints \"2\""
      ],
      "execution_count": 22,
      "outputs": [
        {
          "output_type": "stream",
          "text": [
            "[3, 1, 2] 2\n",
            "2\n"
          ],
          "name": "stdout"
        }
      ]
    },
    {
      "cell_type": "code",
      "metadata": {
        "id": "GMe-7mHm8hdb",
        "colab_type": "code",
        "colab": {
          "base_uri": "https://localhost:8080/",
          "height": 0
        },
        "outputId": "7053c0d8-6c6f-49de-d895-d4dd9943b5f0"
      },
      "source": [
        "xs[2] = 'foo'    # Lists can contain elements of different types\n",
        "print(xs)"
      ],
      "execution_count": 23,
      "outputs": [
        {
          "output_type": "stream",
          "text": [
            "[3, 1, 'foo']\n"
          ],
          "name": "stdout"
        }
      ]
    },
    {
      "cell_type": "code",
      "metadata": {
        "id": "IIQdANW08hdf",
        "colab_type": "code",
        "colab": {
          "base_uri": "https://localhost:8080/",
          "height": 0
        },
        "outputId": "f991a827-3679-46e0-ada2-2e2ef45d7a31"
      },
      "source": [
        "xs.append('bar') # Add a new element to the end of the list\n",
        "print(xs)"
      ],
      "execution_count": 24,
      "outputs": [
        {
          "output_type": "stream",
          "text": [
            "[3, 1, 'foo', 'bar']\n"
          ],
          "name": "stdout"
        }
      ]
    },
    {
      "cell_type": "code",
      "metadata": {
        "id": "v3x4wKGN8hdp",
        "colab_type": "code",
        "colab": {
          "base_uri": "https://localhost:8080/",
          "height": 0
        },
        "outputId": "43bbb965-3def-4d66-e594-4a96c00eef52"
      },
      "source": [
        "xs =  xs + ['thing1', 'thing2'] # Adding lists (the += op works too)\n",
        "print(xs)"
      ],
      "execution_count": 25,
      "outputs": [
        {
          "output_type": "stream",
          "text": [
            "[3, 1, 'foo', 'bar', 'thing1', 'thing2']\n"
          ],
          "name": "stdout"
        }
      ]
    },
    {
      "cell_type": "markdown",
      "metadata": {
        "id": "pqHkxpgv8hd4",
        "colab_type": "text"
      },
      "source": [
        "Python lists also implement [queue](https://en.wikipedia.org/wiki/Queue_%28abstract_data_type%29) and [stack](https://en.wikipedia.org/wiki/Stack_%28abstract_data_type%29) data structures."
      ]
    },
    {
      "cell_type": "code",
      "metadata": {
        "id": "xwhKHKDf8hd5",
        "colab_type": "code",
        "colab": {
          "base_uri": "https://localhost:8080/",
          "height": 0
        },
        "outputId": "d111cfdd-99b8-4e15-e7f0-53b13e937f5a"
      },
      "source": [
        "x = xs.pop()     # Remove and return the last element of the list\n",
        "print(x, xs) "
      ],
      "execution_count": 26,
      "outputs": [
        {
          "output_type": "stream",
          "text": [
            "thing2 [3, 1, 'foo', 'bar', 'thing1']\n"
          ],
          "name": "stdout"
        }
      ]
    },
    {
      "cell_type": "markdown",
      "metadata": {
        "id": "t-RjLK7h8hd9",
        "colab_type": "text"
      },
      "source": [
        "As usual, you can find all the gory details about lists in the documentation."
      ]
    },
    {
      "cell_type": "markdown",
      "metadata": {
        "id": "anhhvQMz8heO",
        "colab_type": "text"
      },
      "source": [
        "## Slicing"
      ]
    },
    {
      "cell_type": "markdown",
      "metadata": {
        "id": "irUdoaX28heQ",
        "colab_type": "text"
      },
      "source": [
        "In addition to accessing list elements one at a time, Python provides concise syntax to access sublists; this is known as slicing:"
      ]
    },
    {
      "cell_type": "code",
      "metadata": {
        "id": "tuIAPS7B8heR",
        "colab_type": "code",
        "colab": {
          "base_uri": "https://localhost:8080/",
          "height": 0
        },
        "outputId": "369a2033-f8c0-4c10-ddec-d6a0fa5b889d"
      },
      "source": [
        "nums = list(range(5)) # range is a built-in function (more on this later)\n",
        "print(nums)"
      ],
      "execution_count": 27,
      "outputs": [
        {
          "output_type": "stream",
          "text": [
            "[0, 1, 2, 3, 4]\n"
          ],
          "name": "stdout"
        }
      ]
    },
    {
      "cell_type": "code",
      "metadata": {
        "id": "tP87eqkK8heb",
        "colab_type": "code",
        "colab": {
          "base_uri": "https://localhost:8080/",
          "height": 0
        },
        "outputId": "6073303a-3a56-4aca-a87d-1f5b1c159b1b"
      },
      "source": [
        "print(nums[2:4])    # Get a slice from index 2 to 4 (exclusive); prints \"[2, 3]\"\n",
        "print(nums[2:])     # Get a slice from index 2 to the end; prints \"[2, 3, 4]\"\n",
        "print(nums[:2])     # Get a slice from the start to index 2 (exclusive); prints \"[0, 1]\"\n",
        "print(nums[:])      # Get a slice of the whole list; prints [\"0, 1, 2, 3, 4]\"\n",
        "print(nums[:-1])    # Slice indices can be negative; prints [\"0, 1, 2, 3]\"\n",
        "nums[2:4] = [8, 9]  # Assign a new sublist to a slice\n",
        "print(nums)         # Prints \"[0, 1, 8, 9, 4]\""
      ],
      "execution_count": 28,
      "outputs": [
        {
          "output_type": "stream",
          "text": [
            "[2, 3]\n",
            "[2, 3, 4]\n",
            "[0, 1]\n",
            "[0, 1, 2, 3, 4]\n",
            "[0, 1, 2, 3]\n",
            "[0, 1, 8, 9, 4]\n"
          ],
          "name": "stdout"
        }
      ]
    },
    {
      "cell_type": "markdown",
      "metadata": {
        "id": "gQAC353p8heg",
        "colab_type": "text"
      },
      "source": [
        "# Loops"
      ]
    },
    {
      "cell_type": "markdown",
      "metadata": {
        "id": "FaDTYvHV8heh",
        "colab_type": "text"
      },
      "source": [
        "You can loop over the elements of a list like this:"
      ]
    },
    {
      "cell_type": "code",
      "metadata": {
        "id": "7TUzCzyl8heq",
        "colab_type": "code",
        "colab": {
          "base_uri": "https://localhost:8080/",
          "height": 0
        },
        "outputId": "8dfacd64-e8ad-4c57-9e78-5c8ae123f1fe"
      },
      "source": [
        "animals = ['cat', 'dog', 'monkey']\n",
        "for animal in animals:\n",
        "    aa = animal + ' :)'\n",
        "    print(aa)"
      ],
      "execution_count": 29,
      "outputs": [
        {
          "output_type": "stream",
          "text": [
            "cat :)\n",
            "dog :)\n",
            "monkey :)\n"
          ],
          "name": "stdout"
        }
      ]
    },
    {
      "cell_type": "markdown",
      "metadata": {
        "id": "GP83hBMF8he_",
        "colab_type": "text"
      },
      "source": [
        "If you want access to the index of each element within the body of a loop, use the built-in `enumerate` function:"
      ]
    },
    {
      "cell_type": "code",
      "metadata": {
        "id": "4zxPB0IB8hfA",
        "colab_type": "code",
        "colab": {
          "base_uri": "https://localhost:8080/",
          "height": 0
        },
        "outputId": "05fdae2f-e8df-41cd-b496-ca24d29d44a2"
      },
      "source": [
        "animals = ['cat', 'dog', 'monkey']\n",
        "for idx, animal in enumerate(animals):\n",
        "    print('Item number %d is a %s' % (idx + 1, animal))"
      ],
      "execution_count": 30,
      "outputs": [
        {
          "output_type": "stream",
          "text": [
            "Item number 1 is a cat\n",
            "Item number 2 is a dog\n",
            "Item number 3 is a monkey\n"
          ],
          "name": "stdout"
        }
      ]
    },
    {
      "cell_type": "markdown",
      "metadata": {
        "id": "AlQzInst8hfn",
        "colab_type": "text"
      },
      "source": [
        "## Conditional loops\n",
        "\n",
        "In Python we have only a `while` loop."
      ]
    },
    {
      "cell_type": "code",
      "metadata": {
        "id": "xFjRIQxi8hfp",
        "colab_type": "code",
        "colab": {
          "base_uri": "https://localhost:8080/",
          "height": 0
        },
        "outputId": "ad6e4e27-b563-4b9e-bcf3-14dd87806a94"
      },
      "source": [
        "i = 0\n",
        "while i < 3:\n",
        "    print(i)\n",
        "    i += 1"
      ],
      "execution_count": 31,
      "outputs": [
        {
          "output_type": "stream",
          "text": [
            "0\n",
            "1\n",
            "2\n"
          ],
          "name": "stdout"
        }
      ]
    },
    {
      "cell_type": "markdown",
      "metadata": {
        "id": "_aLhV4pA8hfs",
        "colab_type": "text"
      },
      "source": [
        "# List comprehensions"
      ]
    },
    {
      "cell_type": "markdown",
      "metadata": {
        "id": "m0TiKoo08hf5",
        "colab_type": "text"
      },
      "source": [
        "When programming, frequently we want to transform one type of data into another. \n",
        "\n",
        "For example, consider the following code that computes square numbers:"
      ]
    },
    {
      "cell_type": "code",
      "metadata": {
        "id": "9RIC4iIv8hf7",
        "colab_type": "code",
        "colab": {
          "base_uri": "https://localhost:8080/",
          "height": 0
        },
        "outputId": "e6e66e9d-a6b7-4666-90cf-bdb80507eabc"
      },
      "source": [
        "nums = [0, 1, 2, 3, 4]\n",
        "squares = []\n",
        "for x in nums:\n",
        "    squares.append(x ** 2)\n",
        "print(squares)"
      ],
      "execution_count": 32,
      "outputs": [
        {
          "output_type": "stream",
          "text": [
            "[0, 1, 4, 9, 16]\n"
          ],
          "name": "stdout"
        }
      ]
    },
    {
      "cell_type": "markdown",
      "metadata": {
        "id": "1oKn4MoI8hgI",
        "colab_type": "text"
      },
      "source": [
        "You can make this code simpler using a **list comprehension**:"
      ]
    },
    {
      "cell_type": "code",
      "metadata": {
        "id": "eICUBhvW8hgJ",
        "colab_type": "code",
        "colab": {
          "base_uri": "https://localhost:8080/",
          "height": 0
        },
        "outputId": "9653b593-26ad-4ac6-f03c-d2aba7f6ab08"
      },
      "source": [
        "nums = [0, 1, 2, 3, 4]\n",
        "squares = [x ** 2 for x in nums]\n",
        "print(squares)"
      ],
      "execution_count": 33,
      "outputs": [
        {
          "output_type": "stream",
          "text": [
            "[0, 1, 4, 9, 16]\n"
          ],
          "name": "stdout"
        }
      ]
    },
    {
      "cell_type": "markdown",
      "metadata": {
        "id": "Pmubh8PO8hgN",
        "colab_type": "text"
      },
      "source": [
        "List comprehensions can also contain conditions:"
      ]
    },
    {
      "cell_type": "code",
      "metadata": {
        "id": "T_9BLJeH8hgQ",
        "colab_type": "code",
        "colab": {
          "base_uri": "https://localhost:8080/",
          "height": 0
        },
        "outputId": "280b1bf6-5e8a-4eec-c0e9-0ab547326cf9"
      },
      "source": [
        "nums = [0, 1, 2, 3, 4]\n",
        "even_squares = [x ** 2 for x in nums if x % 2 == 0]\n",
        "print(even_squares)"
      ],
      "execution_count": 34,
      "outputs": [
        {
          "output_type": "stream",
          "text": [
            "[0, 4, 16]\n"
          ],
          "name": "stdout"
        }
      ]
    },
    {
      "cell_type": "markdown",
      "metadata": {
        "id": "aoujicQf8hgU",
        "colab_type": "text"
      },
      "source": [
        "# Dictionaries"
      ]
    },
    {
      "cell_type": "markdown",
      "metadata": {
        "id": "YlmvOarP8hga",
        "colab_type": "text"
      },
      "source": [
        "A dictionary stores (key, value) pairs, similar to a `Map` in Java or an object in Javascript. You can use it like this:"
      ]
    },
    {
      "cell_type": "code",
      "metadata": {
        "id": "YhhM-uxb8hgv",
        "colab_type": "code",
        "colab": {}
      },
      "source": [
        "d = {'cat': 'cute', 'dog': 'furry'}  # Create a new dictionary with some data"
      ],
      "execution_count": 0,
      "outputs": []
    },
    {
      "cell_type": "code",
      "metadata": {
        "id": "k67qKHsV8hg0",
        "colab_type": "code",
        "colab": {
          "base_uri": "https://localhost:8080/",
          "height": 53
        },
        "outputId": "9a5650ad-0c3f-4e9a-cdd1-d6952184f0a6"
      },
      "source": [
        "print(d['cat'])       # Get an entry from a dictionary; prints \"cute\"\n",
        "print('cat' in d)     # Check if a dictionary has a given key; prints \"True\""
      ],
      "execution_count": 36,
      "outputs": [
        {
          "output_type": "stream",
          "text": [
            "cute\n",
            "True\n"
          ],
          "name": "stdout"
        }
      ]
    },
    {
      "cell_type": "code",
      "metadata": {
        "id": "jmGW0qCg8hg6",
        "colab_type": "code",
        "colab": {
          "base_uri": "https://localhost:8080/",
          "height": 35
        },
        "outputId": "4b358fbc-af88-4b62-a8d8-e7609d377a57"
      },
      "source": [
        "d['fish'] = 'wet'     # Set an entry in a dictionary\n",
        "print(d['fish'])      # Prints \"wet\""
      ],
      "execution_count": 37,
      "outputs": [
        {
          "output_type": "stream",
          "text": [
            "wet\n"
          ],
          "name": "stdout"
        }
      ]
    },
    {
      "cell_type": "markdown",
      "metadata": {
        "id": "e1NKqRQZ8hg_",
        "colab_type": "text"
      },
      "source": [
        "Handling not found keys:"
      ]
    },
    {
      "cell_type": "code",
      "metadata": {
        "id": "E1gwNfjb8hhE",
        "colab_type": "code",
        "colab": {
          "base_uri": "https://localhost:8080/",
          "height": 172
        },
        "cellView": "both",
        "outputId": "7ec62e89-1584-4358-a3cd-0c627c2d642e"
      },
      "source": [
        "#@title\n",
        "print(d['monkey'])  # KeyError: 'monkey' not a key of d"
      ],
      "execution_count": 38,
      "outputs": [
        {
          "output_type": "error",
          "ename": "KeyError",
          "evalue": "ignored",
          "traceback": [
            "\u001b[0;31m---------------------------------------------------------------------------\u001b[0m",
            "\u001b[0;31mKeyError\u001b[0m                                  Traceback (most recent call last)",
            "\u001b[0;32m<ipython-input-38-78fc9745d9cf>\u001b[0m in \u001b[0;36m<module>\u001b[0;34m()\u001b[0m\n\u001b[0;32m----> 1\u001b[0;31m \u001b[0mprint\u001b[0m\u001b[0;34m(\u001b[0m\u001b[0md\u001b[0m\u001b[0;34m[\u001b[0m\u001b[0;34m'monkey'\u001b[0m\u001b[0;34m]\u001b[0m\u001b[0;34m)\u001b[0m  \u001b[0;31m# KeyError: 'monkey' not a key of d\u001b[0m\u001b[0;34m\u001b[0m\u001b[0;34m\u001b[0m\u001b[0m\n\u001b[0m",
            "\u001b[0;31mKeyError\u001b[0m: 'monkey'"
          ]
        }
      ]
    },
    {
      "cell_type": "code",
      "metadata": {
        "id": "5Kxvz3jD8hhH",
        "colab_type": "code",
        "colab": {
          "base_uri": "https://localhost:8080/",
          "height": 53
        },
        "outputId": "348c3e96-a458-40b3-8c5c-31b8b631b24d"
      },
      "source": [
        "print(d.get('monkey', 'N/A'))  # Get an element with a default; prints \"N/A\"\n",
        "print(d.get('fish', 'N/A'))    # Get an element with a default; prints \"wet\""
      ],
      "execution_count": 39,
      "outputs": [
        {
          "output_type": "stream",
          "text": [
            "N/A\n",
            "wet\n"
          ],
          "name": "stdout"
        }
      ]
    },
    {
      "cell_type": "code",
      "metadata": {
        "id": "5BexfjfX8hhK",
        "colab_type": "code",
        "colab": {
          "base_uri": "https://localhost:8080/",
          "height": 35
        },
        "outputId": "57db72f8-a6a8-4649-98da-19517dff6c05"
      },
      "source": [
        "del d['fish']               # Remove an element from a dictionary\n",
        "print(d.get('fish', 'N/A')) # \"fish\" is no longer a key; prints \"N/A\""
      ],
      "execution_count": 40,
      "outputs": [
        {
          "output_type": "stream",
          "text": [
            "N/A\n"
          ],
          "name": "stdout"
        }
      ]
    },
    {
      "cell_type": "markdown",
      "metadata": {
        "id": "ynKqUQHx8hhP",
        "colab_type": "text"
      },
      "source": [
        "It is easy to iterate over the keys in a dictionary:"
      ]
    },
    {
      "cell_type": "code",
      "metadata": {
        "id": "OZL_ygWK8hhQ",
        "colab_type": "code",
        "colab": {
          "base_uri": "https://localhost:8080/",
          "height": 71
        },
        "outputId": "1e85c7e6-dcfe-4a2a-806d-30afe081b7c0"
      },
      "source": [
        "d = {'person': 2, 'cat': 4, 'spider': 8}\n",
        "for animal in d:\n",
        "    legs = d[animal]\n",
        "    print('A %s has %d legs' % (animal, legs))"
      ],
      "execution_count": 41,
      "outputs": [
        {
          "output_type": "stream",
          "text": [
            "A person has 2 legs\n",
            "A cat has 4 legs\n",
            "A spider has 8 legs\n"
          ],
          "name": "stdout"
        }
      ]
    },
    {
      "cell_type": "markdown",
      "metadata": {
        "id": "bIxxwj298hhT",
        "colab_type": "text"
      },
      "source": [
        "## Dictionary comprehensions\n",
        "\n",
        "These are similar to list comprehensions, but allow you to easily construct dictionaries. For example:"
      ]
    },
    {
      "cell_type": "code",
      "metadata": {
        "id": "ReZaH7ex8hhU",
        "colab_type": "code",
        "colab": {
          "base_uri": "https://localhost:8080/",
          "height": 35
        },
        "outputId": "337f414a-9aef-4877-860a-930004ff5909"
      },
      "source": [
        "nums = [0, 1, 2, 3, 4]\n",
        "even_num_to_square = {x: x ** 2 for x in nums if x % 2 == 0}\n",
        "print(even_num_to_square)"
      ],
      "execution_count": 42,
      "outputs": [
        {
          "output_type": "stream",
          "text": [
            "{0: 0, 2: 4, 4: 16}\n"
          ],
          "name": "stdout"
        }
      ]
    },
    {
      "cell_type": "markdown",
      "metadata": {
        "id": "R7nJYhG08hha",
        "colab_type": "text"
      },
      "source": [
        "# Sets"
      ]
    },
    {
      "cell_type": "markdown",
      "metadata": {
        "id": "7yJSam2H8hhb",
        "colab_type": "text"
      },
      "source": [
        "A set is an unordered collection of distinct elements. As a simple example, consider the following:"
      ]
    },
    {
      "cell_type": "code",
      "metadata": {
        "id": "3bpU9_8E8hhc",
        "colab_type": "code",
        "colab": {
          "base_uri": "https://localhost:8080/",
          "height": 35
        },
        "outputId": "63c53aa5-1794-4f1e-a5ad-df00607fe5ee"
      },
      "source": [
        "animals = {'cat', 'dog'}\n",
        "print(animals)"
      ],
      "execution_count": 43,
      "outputs": [
        {
          "output_type": "stream",
          "text": [
            "{'dog', 'cat'}\n"
          ],
          "name": "stdout"
        }
      ]
    },
    {
      "cell_type": "code",
      "metadata": {
        "id": "nrdXO9py8hhg",
        "colab_type": "code",
        "colab": {
          "base_uri": "https://localhost:8080/",
          "height": 53
        },
        "outputId": "021e6bdb-7cc8-405e-bd35-441a5da380e1"
      },
      "source": [
        "print('cat' in animals)   # Check if an element is in a set; prints \"True\"\n",
        "print('fish' in animals)  # prints \"False\""
      ],
      "execution_count": 44,
      "outputs": [
        {
          "output_type": "stream",
          "text": [
            "True\n",
            "False\n"
          ],
          "name": "stdout"
        }
      ]
    },
    {
      "cell_type": "code",
      "metadata": {
        "id": "jH2L11Cn8hhj",
        "colab_type": "code",
        "colab": {
          "base_uri": "https://localhost:8080/",
          "height": 53
        },
        "outputId": "55c01498-d9ba-4689-ca44-4b41f206956a"
      },
      "source": [
        "animals.add('fish')      # Add an element to a set\n",
        "print('fish' in animals)\n",
        "print(len(animals))       # Number of elements in a set;"
      ],
      "execution_count": 45,
      "outputs": [
        {
          "output_type": "stream",
          "text": [
            "True\n",
            "3\n"
          ],
          "name": "stdout"
        }
      ]
    },
    {
      "cell_type": "code",
      "metadata": {
        "id": "upkxIUf58hh0",
        "colab_type": "code",
        "colab": {
          "base_uri": "https://localhost:8080/",
          "height": 53
        },
        "outputId": "5926ca32-83fe-4c55-8e63-82465db9f13d"
      },
      "source": [
        "animals.add('cat')           # Adding an element that is already in the set does nothing\n",
        "print(animals, len(animals))       \n",
        "animals.remove('cat')        # Remove an element from a set\n",
        "print(animals,len(animals))       "
      ],
      "execution_count": 46,
      "outputs": [
        {
          "output_type": "stream",
          "text": [
            "{'dog', 'cat', 'fish'} 3\n",
            "{'dog', 'fish'} 2\n"
          ],
          "name": "stdout"
        }
      ]
    },
    {
      "cell_type": "markdown",
      "metadata": {
        "id": "TYuvqML78hh3",
        "colab_type": "text"
      },
      "source": [
        "## Loops in sets \n",
        "\n",
        "* Iterating over a set has the same syntax as iterating over a list; \n",
        "* however since sets are unordered, you cannot make assumptions about the order in which you visit the elements of the set."
      ]
    },
    {
      "cell_type": "code",
      "metadata": {
        "id": "giTrjp4v8hh4",
        "colab_type": "code",
        "colab": {
          "base_uri": "https://localhost:8080/",
          "height": 71
        },
        "outputId": "6ba848d5-a4c2-44bc-f48c-9199248eaca1"
      },
      "source": [
        "animals = {'cat', 'dog', 'fish'}\n",
        "for idx, animal in enumerate(animals):\n",
        "    print('#%d: %s' % (idx + 1, animal))\n",
        "# Prints \"#1: fish\", \"#2: dog\", \"#3: cat\""
      ],
      "execution_count": 47,
      "outputs": [
        {
          "output_type": "stream",
          "text": [
            "#1: dog\n",
            "#2: cat\n",
            "#3: fish\n"
          ],
          "name": "stdout"
        }
      ]
    },
    {
      "cell_type": "markdown",
      "metadata": {
        "id": "zN_ZUKhb8hiD",
        "colab_type": "text"
      },
      "source": [
        "## Set comprehensions\n",
        "\n",
        "Like lists and dictionaries, we can easily construct sets using set comprehensions:"
      ]
    },
    {
      "cell_type": "code",
      "metadata": {
        "id": "wY1NDi1g8hiE",
        "colab_type": "code",
        "colab": {
          "base_uri": "https://localhost:8080/",
          "height": 53
        },
        "outputId": "d6250696-4f61-4f27-ee64-d309da9a3d89"
      },
      "source": [
        "from math import sqrt\n",
        "print('Set:', {int(sqrt(x)) for x in range(30)})\n",
        "print('List:', [int(sqrt(x)) for x in range(30)])"
      ],
      "execution_count": 48,
      "outputs": [
        {
          "output_type": "stream",
          "text": [
            "Set: {0, 1, 2, 3, 4, 5}\n",
            "List: [0, 1, 1, 1, 2, 2, 2, 2, 2, 3, 3, 3, 3, 3, 3, 3, 4, 4, 4, 4, 4, 4, 4, 4, 4, 5, 5, 5, 5, 5]\n"
          ],
          "name": "stdout"
        }
      ]
    },
    {
      "cell_type": "markdown",
      "metadata": {
        "id": "ciPZ4FlL8hiI",
        "colab_type": "text"
      },
      "source": [
        "## Tuples"
      ]
    },
    {
      "cell_type": "markdown",
      "metadata": {
        "id": "LhCSTfDx8hiJ",
        "colab_type": "text"
      },
      "source": [
        "* An (**immutable**) ordered list of values;\n",
        "* is in many ways similar to a list; \n",
        "* one of the most important differences is that:\n",
        "    * tuples can be used as keys in dictionaries and\n",
        "    * as elements of sets, \n",
        "\n",
        "Here is a trivial example:"
      ]
    },
    {
      "cell_type": "code",
      "metadata": {
        "id": "OyhwDrYq8hiy",
        "colab_type": "code",
        "colab": {
          "base_uri": "https://localhost:8080/",
          "height": 35
        },
        "outputId": "a2c770da-74e5-46d9-de16-291529c17401"
      },
      "source": [
        "t = (5, 6)\n",
        "print(t, type(t))"
      ],
      "execution_count": 49,
      "outputs": [
        {
          "output_type": "stream",
          "text": [
            "(5, 6) <class 'tuple'>\n"
          ],
          "name": "stdout"
        }
      ]
    },
    {
      "cell_type": "code",
      "metadata": {
        "id": "Ms3hpJMg8hi2",
        "colab_type": "code",
        "colab": {
          "base_uri": "https://localhost:8080/",
          "height": 35
        },
        "outputId": "8841f8d3-68ea-4246-a790-212c2ab35b82"
      },
      "source": [
        "d = {(x, x + 1): x for x in range(10)}  # Create a dictionary with tuple keys\n",
        "print(d)"
      ],
      "execution_count": 50,
      "outputs": [
        {
          "output_type": "stream",
          "text": [
            "{(0, 1): 0, (1, 2): 1, (2, 3): 2, (3, 4): 3, (4, 5): 4, (5, 6): 5, (6, 7): 6, (7, 8): 7, (8, 9): 8, (9, 10): 9}\n"
          ],
          "name": "stdout"
        }
      ]
    },
    {
      "cell_type": "code",
      "metadata": {
        "id": "oiBpQqT58hi5",
        "colab_type": "code",
        "colab": {
          "base_uri": "https://localhost:8080/",
          "height": 53
        },
        "outputId": "fdcfb5e8-362a-43c9-857f-95de247f30c0"
      },
      "source": [
        "print(d[t])       \n",
        "print(d[(1, 2)])"
      ],
      "execution_count": 51,
      "outputs": [
        {
          "output_type": "stream",
          "text": [
            "5\n",
            "1\n"
          ],
          "name": "stdout"
        }
      ]
    },
    {
      "cell_type": "code",
      "metadata": {
        "id": "4orjVIxS8hi8",
        "colab_type": "code",
        "colab": {
          "base_uri": "https://localhost:8080/",
          "height": 172
        },
        "outputId": "2495a66c-cbe8-4737-98a4-141a00af7575"
      },
      "source": [
        "t[0] = 1 # Produces TypeError 'tuple' object does not support item assignment"
      ],
      "execution_count": 52,
      "outputs": [
        {
          "output_type": "error",
          "ename": "TypeError",
          "evalue": "ignored",
          "traceback": [
            "\u001b[0;31m---------------------------------------------------------------------------\u001b[0m",
            "\u001b[0;31mTypeError\u001b[0m                                 Traceback (most recent call last)",
            "\u001b[0;32m<ipython-input-52-0210d0ea70f5>\u001b[0m in \u001b[0;36m<module>\u001b[0;34m()\u001b[0m\n\u001b[0;32m----> 1\u001b[0;31m \u001b[0mt\u001b[0m\u001b[0;34m[\u001b[0m\u001b[0;36m0\u001b[0m\u001b[0;34m]\u001b[0m \u001b[0;34m=\u001b[0m \u001b[0;36m1\u001b[0m \u001b[0;31m# Produces TypeError 'tuple' object does not support item assignment\u001b[0m\u001b[0;34m\u001b[0m\u001b[0;34m\u001b[0m\u001b[0m\n\u001b[0m",
            "\u001b[0;31mTypeError\u001b[0m: 'tuple' object does not support item assignment"
          ]
        }
      ]
    },
    {
      "cell_type": "markdown",
      "metadata": {
        "id": "C5KGmHVt8hjA",
        "colab_type": "text"
      },
      "source": [
        "# Functions"
      ]
    },
    {
      "cell_type": "markdown",
      "metadata": {
        "id": "vD4yZRaM8hjB",
        "colab_type": "text"
      },
      "source": [
        "Python functions are defined using the `def` keyword. For example:"
      ]
    },
    {
      "cell_type": "code",
      "metadata": {
        "id": "z_ifQp4X8hjE",
        "colab_type": "code",
        "colab": {}
      },
      "source": [
        "def sign(x):\n",
        "    if x > 0:\n",
        "        return 'positive'\n",
        "    elif x < 0:\n",
        "        return 'negative'\n",
        "    else:\n",
        "        return 'zero'"
      ],
      "execution_count": 0,
      "outputs": []
    },
    {
      "cell_type": "code",
      "metadata": {
        "id": "3nRW1ZHs8hjH",
        "colab_type": "code",
        "colab": {
          "base_uri": "https://localhost:8080/",
          "height": 71
        },
        "outputId": "bb00c8d0-b054-468e-eb00-646d77cba7b9"
      },
      "source": [
        "for x in [-1, 0, 1]:\n",
        "    print(sign(x))"
      ],
      "execution_count": 54,
      "outputs": [
        {
          "output_type": "stream",
          "text": [
            "negative\n",
            "zero\n",
            "positive\n"
          ],
          "name": "stdout"
        }
      ]
    },
    {
      "cell_type": "markdown",
      "metadata": {
        "id": "aO034Kab8hjL",
        "colab_type": "text"
      },
      "source": [
        "We will often define functions to take optional keyword arguments, like this:"
      ]
    },
    {
      "cell_type": "code",
      "metadata": {
        "id": "NFy0maMA8hjM",
        "colab_type": "code",
        "colab": {}
      },
      "source": [
        "def hello(name, loud=False):\n",
        "    if loud:\n",
        "        print('HELLO, %s' % name.upper())\n",
        "    else:\n",
        "        print('Hello, %s!' % name)"
      ],
      "execution_count": 0,
      "outputs": []
    },
    {
      "cell_type": "code",
      "metadata": {
        "id": "bAPXoV308hjQ",
        "colab_type": "code",
        "colab": {
          "base_uri": "https://localhost:8080/",
          "height": 53
        },
        "outputId": "eca805bb-38a8-4cd5-eb93-236edfab9538"
      },
      "source": [
        "hello('Bob')\n",
        "hello('Fred', loud=True)"
      ],
      "execution_count": 56,
      "outputs": [
        {
          "output_type": "stream",
          "text": [
            "Hello, Bob!\n",
            "HELLO, FRED\n"
          ],
          "name": "stdout"
        }
      ]
    },
    {
      "cell_type": "markdown",
      "metadata": {
        "id": "LCP4w48N8hjU",
        "colab_type": "text"
      },
      "source": [
        "## $\\lambda$-constructors (inline functions)"
      ]
    },
    {
      "cell_type": "code",
      "metadata": {
        "id": "Env_KG5l8hjW",
        "colab_type": "code",
        "colab": {
          "base_uri": "https://localhost:8080/",
          "height": 35
        },
        "outputId": "7f2b0fd3-aa58-43a3-dc35-49c328b0fb1f"
      },
      "source": [
        "func = lambda x: x**x + 2\n",
        "print(type(func))"
      ],
      "execution_count": 57,
      "outputs": [
        {
          "output_type": "stream",
          "text": [
            "<class 'function'>\n"
          ],
          "name": "stdout"
        }
      ]
    },
    {
      "cell_type": "code",
      "metadata": {
        "id": "DMjxej_u8hjZ",
        "colab_type": "code",
        "colab": {
          "base_uri": "https://localhost:8080/",
          "height": 35
        },
        "outputId": "b3320fb2-ee6e-4f8a-9698-378f34358ec8"
      },
      "source": [
        "func(3)"
      ],
      "execution_count": 58,
      "outputs": [
        {
          "output_type": "execute_result",
          "data": {
            "text/plain": [
              "29"
            ]
          },
          "metadata": {
            "tags": []
          },
          "execution_count": 58
        }
      ]
    },
    {
      "cell_type": "code",
      "metadata": {
        "id": "gZwCAhjW8hjn",
        "colab_type": "code",
        "colab": {
          "base_uri": "https://localhost:8080/",
          "height": 53
        },
        "outputId": "b7c0ea51-dd15-466d-d478-a5a49592b41c"
      },
      "source": [
        "x = [1, 5, 3, 2, 7, 8, 3, 6]\n",
        "\n",
        "print([func(elem) for elem in x])\n",
        "list(map(lambda x: x**x + 2, x)) # note the map() function"
      ],
      "execution_count": 59,
      "outputs": [
        {
          "output_type": "stream",
          "text": [
            "[3, 3127, 29, 6, 823545, 16777218, 29, 46658]\n"
          ],
          "name": "stdout"
        },
        {
          "output_type": "execute_result",
          "data": {
            "text/plain": [
              "[3, 3127, 29, 6, 823545, 16777218, 29, 46658]"
            ]
          },
          "metadata": {
            "tags": []
          },
          "execution_count": 59
        }
      ]
    },
    {
      "cell_type": "markdown",
      "metadata": {
        "id": "vXPrlOSl8hjp",
        "colab_type": "text"
      },
      "source": [
        "# Classes and object oriented programming"
      ]
    },
    {
      "cell_type": "markdown",
      "metadata": {
        "id": "Kyu4Oj9D8hjq",
        "colab_type": "text"
      },
      "source": [
        "* The syntax for defining classes in Python is straightforward.\n",
        "* Remember to include `self` as the first parameter of the class methods."
      ]
    },
    {
      "cell_type": "code",
      "metadata": {
        "id": "Tw0hmCqr8hjr",
        "colab_type": "code",
        "colab": {}
      },
      "source": [
        "class Greeter():\n",
        "    # Constructor\n",
        "    def __init__(self, name):\n",
        "        self.name = name  # Create an instance variable\n",
        "\n",
        "    # Instance method\n",
        "    def greet(self, loud=False):\n",
        "        if loud:\n",
        "            print('HELLO, %s!' % self.name.upper())\n",
        "        else:\n",
        "            print('Hello, %s' % self.name)"
      ],
      "execution_count": 0,
      "outputs": []
    },
    {
      "cell_type": "code",
      "metadata": {
        "id": "-j6zKcqI8hkB",
        "colab_type": "code",
        "colab": {
          "base_uri": "https://localhost:8080/",
          "height": 53
        },
        "outputId": "7ba550e8-405f-4ac2-ac7b-559976e352a0"
      },
      "source": [
        "g = Greeter('Fred')  # Construct an instance of the Greeter class\n",
        "g.greet()            # Call an instance method; prints \"Hello, Fred\"\n",
        "g.greet(loud=True)   # Call an instance method; prints \"HELLO, FRED!\""
      ],
      "execution_count": 61,
      "outputs": [
        {
          "output_type": "stream",
          "text": [
            "Hello, Fred\n",
            "HELLO, FRED!\n"
          ],
          "name": "stdout"
        }
      ]
    },
    {
      "cell_type": "markdown",
      "metadata": {
        "id": "WDg9JgYj8hkE",
        "colab_type": "text"
      },
      "source": [
        "For more information check the [Python docs](https://docs.python.org/3.5/tutorial/classes.html)"
      ]
    },
    {
      "cell_type": "markdown",
      "metadata": {
        "id": "Hi1YsmFR8hkF",
        "colab_type": "text"
      },
      "source": [
        "# Exceptions\n",
        "\n",
        "As in many other modern languages Python can handle exceptions."
      ]
    },
    {
      "cell_type": "code",
      "metadata": {
        "id": "CCc6lYFM8hkK",
        "colab_type": "code",
        "colab": {}
      },
      "source": [
        "def my_func(a):\n",
        "    return a * a"
      ],
      "execution_count": 0,
      "outputs": []
    },
    {
      "cell_type": "code",
      "metadata": {
        "id": "Puwibz_C8hkN",
        "colab_type": "code",
        "colab": {
          "base_uri": "https://localhost:8080/",
          "height": 35
        },
        "outputId": "662a9181-08d8-4026-f792-e6040b46375e"
      },
      "source": [
        "print(my_func(2))"
      ],
      "execution_count": 63,
      "outputs": [
        {
          "output_type": "stream",
          "text": [
            "4\n"
          ],
          "name": "stdout"
        }
      ]
    },
    {
      "cell_type": "code",
      "metadata": {
        "id": "W8nP73pO8hkP",
        "colab_type": "code",
        "colab": {
          "base_uri": "https://localhost:8080/",
          "height": 244
        },
        "outputId": "6e2c50b4-3bb8-4ab8-ef13-3716314c1fdb"
      },
      "source": [
        "my_func('AAAAA')"
      ],
      "execution_count": 64,
      "outputs": [
        {
          "output_type": "error",
          "ename": "TypeError",
          "evalue": "ignored",
          "traceback": [
            "\u001b[0;31m---------------------------------------------------------------------------\u001b[0m",
            "\u001b[0;31mTypeError\u001b[0m                                 Traceback (most recent call last)",
            "\u001b[0;32m<ipython-input-64-40ae7b37fe87>\u001b[0m in \u001b[0;36m<module>\u001b[0;34m()\u001b[0m\n\u001b[0;32m----> 1\u001b[0;31m \u001b[0mmy_func\u001b[0m\u001b[0;34m(\u001b[0m\u001b[0;34m'AAAAA'\u001b[0m\u001b[0;34m)\u001b[0m\u001b[0;34m\u001b[0m\u001b[0;34m\u001b[0m\u001b[0m\n\u001b[0m",
            "\u001b[0;32m<ipython-input-62-7ff9d805aa7a>\u001b[0m in \u001b[0;36mmy_func\u001b[0;34m(a)\u001b[0m\n\u001b[1;32m      1\u001b[0m \u001b[0;32mdef\u001b[0m \u001b[0mmy_func\u001b[0m\u001b[0;34m(\u001b[0m\u001b[0ma\u001b[0m\u001b[0;34m)\u001b[0m\u001b[0;34m:\u001b[0m\u001b[0;34m\u001b[0m\u001b[0;34m\u001b[0m\u001b[0m\n\u001b[0;32m----> 2\u001b[0;31m     \u001b[0;32mreturn\u001b[0m \u001b[0ma\u001b[0m \u001b[0;34m*\u001b[0m \u001b[0ma\u001b[0m\u001b[0;34m\u001b[0m\u001b[0;34m\u001b[0m\u001b[0m\n\u001b[0m",
            "\u001b[0;31mTypeError\u001b[0m: can't multiply sequence by non-int of type 'str'"
          ]
        }
      ]
    },
    {
      "cell_type": "code",
      "metadata": {
        "id": "w65LVTQJ8hkT",
        "colab_type": "code",
        "colab": {
          "base_uri": "https://localhost:8080/",
          "height": 35
        },
        "outputId": "bf39b7c1-8b38-425f-ea7e-b13d98b07e63"
      },
      "source": [
        "try:\n",
        "    print(my_func(\"A\"))\n",
        "except TypeError as e:\n",
        "    print('Caught exception:', e)"
      ],
      "execution_count": 65,
      "outputs": [
        {
          "output_type": "stream",
          "text": [
            "Caught exception: can't multiply sequence by non-int of type 'str'\n"
          ],
          "name": "stdout"
        }
      ]
    },
    {
      "cell_type": "markdown",
      "metadata": {
        "id": "gWc4PJ7y8hkW",
        "colab_type": "text"
      },
      "source": [
        "# The `import` statement\n",
        "\n",
        "* We have seen already the `import` statement in action. \n",
        "* Python has a huge number of libraries included with the distribution. \n",
        "* Most of these variables and functions are not accessible from a normal Python interactive session. \n",
        "* Instead, you have to import them."
      ]
    },
    {
      "cell_type": "markdown",
      "metadata": {
        "id": "JUFFefyV8hkW",
        "colab_type": "text"
      },
      "source": [
        "# Modules\n",
        "\n",
        "* A module allows you to logically organize your Python code; \n",
        "* groups related code into a module makes the code easier to understand and use.\n",
        "\n",
        "* A module is a file consisting of Python code, can define functions, classes and variables. \n",
        "* A module can also include runnable code.\n",
        "\n",
        "**Note:** A module is also a Python object with arbitrarily named attributes that you can bind and reference."
      ]
    },
    {
      "cell_type": "markdown",
      "metadata": {
        "id": "NIlgNJ3e8hkX",
        "colab_type": "text"
      },
      "source": [
        "## Importing complete modules\n",
        "\n",
        "Importing whole modules with an additional short name:"
      ]
    },
    {
      "cell_type": "code",
      "metadata": {
        "id": "5tpgNnJG8hkY",
        "colab_type": "code",
        "colab": {}
      },
      "source": [
        "import scipy.spatial.distance"
      ],
      "execution_count": 0,
      "outputs": []
    },
    {
      "cell_type": "code",
      "metadata": {
        "id": "G153S9Ez8hka",
        "colab_type": "code",
        "colab": {
          "base_uri": "https://localhost:8080/",
          "height": 35
        },
        "outputId": "336efc50-56b2-4cee-beca-00b0ff91d43e"
      },
      "source": [
        "scipy.spatial.distance.euclidean((1,1), (2,2))"
      ],
      "execution_count": 67,
      "outputs": [
        {
          "output_type": "execute_result",
          "data": {
            "text/plain": [
              "1.4142135623730951"
            ]
          },
          "metadata": {
            "tags": []
          },
          "execution_count": 67
        }
      ]
    },
    {
      "cell_type": "code",
      "metadata": {
        "id": "SnCf2yna8hkd",
        "colab_type": "code",
        "colab": {}
      },
      "source": [
        "import scipy.spatial.distance as dists"
      ],
      "execution_count": 0,
      "outputs": []
    },
    {
      "cell_type": "code",
      "metadata": {
        "id": "c9_kxV6S8hkz",
        "colab_type": "code",
        "colab": {
          "base_uri": "https://localhost:8080/",
          "height": 35
        },
        "outputId": "9d3231ea-36d0-40d2-df16-0c8dd25fbb53"
      },
      "source": [
        "dists.euclidean((1,1), (2,2))"
      ],
      "execution_count": 69,
      "outputs": [
        {
          "output_type": "execute_result",
          "data": {
            "text/plain": [
              "1.4142135623730951"
            ]
          },
          "metadata": {
            "tags": []
          },
          "execution_count": 69
        }
      ]
    },
    {
      "cell_type": "markdown",
      "metadata": {
        "id": "1yeBNQYA8hk3",
        "colab_type": "text"
      },
      "source": [
        "## Importing a particular function or class.\n",
        "\n",
        "For example, there is a `math` module containing many useful functions. To access, say, the square root function, you can"
      ]
    },
    {
      "cell_type": "code",
      "metadata": {
        "id": "1j_xI2eX8hk4",
        "colab_type": "code",
        "colab": {}
      },
      "source": [
        "from math import sqrt"
      ],
      "execution_count": 0,
      "outputs": []
    },
    {
      "cell_type": "markdown",
      "metadata": {
        "id": "nCZshwf88hk8",
        "colab_type": "text"
      },
      "source": [
        "and then"
      ]
    },
    {
      "cell_type": "code",
      "metadata": {
        "id": "rDH7e7pV8hk_",
        "colab_type": "code",
        "colab": {
          "base_uri": "https://localhost:8080/",
          "height": 35
        },
        "outputId": "12eb3a9f-bd54-4315-91c2-ac74e0305c97"
      },
      "source": [
        "sqrt(81)"
      ],
      "execution_count": 71,
      "outputs": [
        {
          "output_type": "execute_result",
          "data": {
            "text/plain": [
              "9.0"
            ]
          },
          "metadata": {
            "tags": []
          },
          "execution_count": 71
        }
      ]
    },
    {
      "cell_type": "markdown",
      "metadata": {
        "id": "gDRfOvzM8hlG",
        "colab_type": "text"
      },
      "source": [
        "#### Further reading \n",
        "* [Iterators](https://docs.python.org/3.5/tutorial/classes.html#iterators) and [generators](https://docs.python.org/3.5/tutorial/classes.html#generators).\n",
        "* map, reduce, zip\n",
        "* Decorators.\n",
        "* Installing packages pip/conda/etc."
      ]
    },
    {
      "cell_type": "markdown",
      "metadata": {
        "id": "hTtT0a4I8hlH",
        "colab_type": "text"
      },
      "source": [
        "# `numpy`: scientific computing with Python"
      ]
    },
    {
      "cell_type": "markdown",
      "metadata": {
        "id": "rTs1XSw48hlI",
        "colab_type": "text"
      },
      "source": [
        "* Numpy is the core library for scientific computing in Python. \n",
        "* It provides a high-performance multidimensional `array` object, and tools for working with these arrays. "
      ]
    },
    {
      "cell_type": "markdown",
      "metadata": {
        "id": "WrPfNAqM8hlI",
        "colab_type": "text"
      },
      "source": [
        "To use `numpy`, we first need to `import numpy` package:"
      ]
    },
    {
      "cell_type": "code",
      "metadata": {
        "id": "RuKygGdc8hlJ",
        "colab_type": "code",
        "colab": {}
      },
      "source": [
        "import numpy as np"
      ],
      "execution_count": 0,
      "outputs": []
    },
    {
      "cell_type": "markdown",
      "metadata": {
        "id": "vWhXwWqk8hlU",
        "colab_type": "text"
      },
      "source": [
        "## Arrays"
      ]
    },
    {
      "cell_type": "markdown",
      "metadata": {
        "id": "InSTB-3V8hlU",
        "colab_type": "text"
      },
      "source": [
        "A numpy `array` is a grid of values, all of the same type, and is indexed by a tuple of nonnegative integers. \n",
        "* The number of dimensions is the rank of the array; \n",
        "* The shape of an array is a tuple of integers giving the size of the array along each dimension.\n",
        "* useful linear algebra, Fourier transform, random number capabilities and more.\n",
        "* Complemented by [`scipy`](http://www.scipy.org/)."
      ]
    },
    {
      "cell_type": "markdown",
      "metadata": {
        "id": "xd5-yV598hlV",
        "colab_type": "text"
      },
      "source": [
        "We can initialize numpy arrays from nested Python lists, and access elements using square brackets:"
      ]
    },
    {
      "cell_type": "code",
      "metadata": {
        "id": "9yuvy4yC8hlW",
        "colab_type": "code",
        "colab": {
          "base_uri": "https://localhost:8080/",
          "height": 53
        },
        "outputId": "a3cf08cf-dbdd-40f3-e8ed-35e0f785dce6"
      },
      "source": [
        "a = np.array([1, 2, 3])  # Create a rank 1 array\n",
        "print(type(a), a.shape, a[0], a[1], a[2])\n",
        "a[0] = 5  # Change an element of the array\n",
        "print(a)"
      ],
      "execution_count": 73,
      "outputs": [
        {
          "output_type": "stream",
          "text": [
            "<class 'numpy.ndarray'> (3,) 1 2 3\n",
            "[5 2 3]\n"
          ],
          "name": "stdout"
        }
      ]
    },
    {
      "cell_type": "code",
      "metadata": {
        "id": "Jqm-zXDY8hlY",
        "colab_type": "code",
        "colab": {
          "base_uri": "https://localhost:8080/",
          "height": 53
        },
        "outputId": "bbda87a4-dd9b-4999-f2e1-e8a96654290c"
      },
      "source": [
        "b = np.array([[1, 2, 3], [4, 5, 6]])  # Create a rank 2 array\n",
        "print(b)"
      ],
      "execution_count": 74,
      "outputs": [
        {
          "output_type": "stream",
          "text": [
            "[[1 2 3]\n",
            " [4 5 6]]\n"
          ],
          "name": "stdout"
        }
      ]
    },
    {
      "cell_type": "code",
      "metadata": {
        "id": "dGCZozC98hlb",
        "colab_type": "code",
        "colab": {
          "base_uri": "https://localhost:8080/",
          "height": 53
        },
        "outputId": "eed1e12f-b5aa-434c-c7a4-644aaac1edf2"
      },
      "source": [
        "print(b.shape)\n",
        "print(b[0, 0], b[0, 1], b[1, 0])"
      ],
      "execution_count": 75,
      "outputs": [
        {
          "output_type": "stream",
          "text": [
            "(2, 3)\n",
            "1 2 4\n"
          ],
          "name": "stdout"
        }
      ]
    },
    {
      "cell_type": "markdown",
      "metadata": {
        "id": "d9thnGXM8hli",
        "colab_type": "text"
      },
      "source": [
        "Numpy provides many shortcut functions to create arrays:"
      ]
    },
    {
      "cell_type": "code",
      "metadata": {
        "id": "8okIAbHY8hli",
        "colab_type": "code",
        "colab": {
          "base_uri": "https://localhost:8080/",
          "height": 53
        },
        "outputId": "76f5e9b6-0ba6-4723-be1f-68cfed6216fe"
      },
      "source": [
        "a = np.zeros((2,2))  # Create an array of all zeros\n",
        "print(a)"
      ],
      "execution_count": 76,
      "outputs": [
        {
          "output_type": "stream",
          "text": [
            "[[0. 0.]\n",
            " [0. 0.]]\n"
          ],
          "name": "stdout"
        }
      ]
    },
    {
      "cell_type": "code",
      "metadata": {
        "id": "oycK7k238hll",
        "colab_type": "code",
        "colab": {
          "base_uri": "https://localhost:8080/",
          "height": 35
        },
        "outputId": "3dcdc359-29ea-437b-af34-58074d32d8d3"
      },
      "source": [
        "b = np.ones((1,2))   # Create an array of all ones\n",
        "print(b)"
      ],
      "execution_count": 77,
      "outputs": [
        {
          "output_type": "stream",
          "text": [
            "[[1. 1.]]\n"
          ],
          "name": "stdout"
        }
      ]
    },
    {
      "cell_type": "code",
      "metadata": {
        "id": "Yo5cRBgB8hlp",
        "colab_type": "code",
        "colab": {
          "base_uri": "https://localhost:8080/",
          "height": 53
        },
        "outputId": "1d4c3843-9f08-4827-ab19-7b4b2189364b"
      },
      "source": [
        "c = np.full((2,2), 7)\n",
        "print(c)"
      ],
      "execution_count": 78,
      "outputs": [
        {
          "output_type": "stream",
          "text": [
            "[[7 7]\n",
            " [7 7]]\n"
          ],
          "name": "stdout"
        }
      ]
    },
    {
      "cell_type": "code",
      "metadata": {
        "id": "etew0XCK8hlv",
        "colab_type": "code",
        "colab": {
          "base_uri": "https://localhost:8080/",
          "height": 53
        },
        "outputId": "1c3eca8d-395a-4f3a-8219-ef6228942ee0"
      },
      "source": [
        "d = np.eye(2)        # Create a 2x2 identity matrix\n",
        "print(d)"
      ],
      "execution_count": 79,
      "outputs": [
        {
          "output_type": "stream",
          "text": [
            "[[1. 0.]\n",
            " [0. 1.]]\n"
          ],
          "name": "stdout"
        }
      ]
    },
    {
      "cell_type": "code",
      "metadata": {
        "id": "r5Olvj588hlx",
        "colab_type": "code",
        "colab": {
          "base_uri": "https://localhost:8080/",
          "height": 53
        },
        "outputId": "e40e0985-a8d6-44f3-d8e2-b29b9e32bcd6"
      },
      "source": [
        "e = np.random.random((2,2)) # Create an array filled with random values\n",
        "print(e)"
      ],
      "execution_count": 80,
      "outputs": [
        {
          "output_type": "stream",
          "text": [
            "[[0.45706366 0.02742696]\n",
            " [0.54426455 0.99412008]]\n"
          ],
          "name": "stdout"
        }
      ]
    },
    {
      "cell_type": "markdown",
      "metadata": {
        "id": "KxF09Woa8hl0",
        "colab_type": "text"
      },
      "source": [
        "## Array indexing"
      ]
    },
    {
      "cell_type": "markdown",
      "metadata": {
        "id": "y1DNpLoT8hl0",
        "colab_type": "text"
      },
      "source": [
        "Numpy offers several ways to index into arrays."
      ]
    },
    {
      "cell_type": "markdown",
      "metadata": {
        "id": "UWjtj33n8hl1",
        "colab_type": "text"
      },
      "source": [
        "Slicing: Similar to Python lists, numpy arrays can be sliced. Since arrays may be multidimensional, you must specify a slice for each dimension of the array:"
      ]
    },
    {
      "cell_type": "code",
      "metadata": {
        "id": "uePW3Cp-8hl4",
        "colab_type": "code",
        "colab": {
          "base_uri": "https://localhost:8080/",
          "height": 71
        },
        "outputId": "fdd95324-4b22-41f8-cf9f-4e62bff3915e"
      },
      "source": [
        "# Create the following rank 2 array with shape (3, 4)\n",
        "a = np.array([[1,2,3,4], [5,6,7,8], [9,10,11,12]])\n",
        "a"
      ],
      "execution_count": 81,
      "outputs": [
        {
          "output_type": "execute_result",
          "data": {
            "text/plain": [
              "array([[ 1,  2,  3,  4],\n",
              "       [ 5,  6,  7,  8],\n",
              "       [ 9, 10, 11, 12]])"
            ]
          },
          "metadata": {
            "tags": []
          },
          "execution_count": 81
        }
      ]
    },
    {
      "cell_type": "markdown",
      "metadata": {
        "id": "NPdMDpCI8hl8",
        "colab_type": "text"
      },
      "source": [
        "Use slicing to pull out the subarray consisting of the first 2 rows and columns 1 and 2; b is the following array of shape `(2, 2)`:"
      ]
    },
    {
      "cell_type": "code",
      "metadata": {
        "id": "QOjM2cMC8hl8",
        "colab_type": "code",
        "colab": {
          "base_uri": "https://localhost:8080/",
          "height": 53
        },
        "outputId": "4cef0ba1-7346-451f-ebe1-aece7d202788"
      },
      "source": [
        "b = a[:2, 1:3]\n",
        "print(b)"
      ],
      "execution_count": 82,
      "outputs": [
        {
          "output_type": "stream",
          "text": [
            "[[2 3]\n",
            " [6 7]]\n"
          ],
          "name": "stdout"
        }
      ]
    },
    {
      "cell_type": "markdown",
      "metadata": {
        "id": "jOq2es-m8hmH",
        "colab_type": "text"
      },
      "source": [
        "A slice of an array is a view into the same data, so modifying it will modify the original array."
      ]
    },
    {
      "cell_type": "code",
      "metadata": {
        "id": "-BNRQJSQ8hmI",
        "colab_type": "code",
        "colab": {
          "base_uri": "https://localhost:8080/",
          "height": 53
        },
        "outputId": "836eadd3-c680-4545-ac73-d6ee895e4438"
      },
      "source": [
        "print(a[0, 1])  \n",
        "b[0, 0] = 77      # b[0, 0] is the same piece of data as a[0, 1]\n",
        "print(a[0, 1]) "
      ],
      "execution_count": 83,
      "outputs": [
        {
          "output_type": "stream",
          "text": [
            "2\n",
            "77\n"
          ],
          "name": "stdout"
        }
      ]
    },
    {
      "cell_type": "markdown",
      "metadata": {
        "id": "vgcOWPlN8hmK",
        "colab_type": "text"
      },
      "source": [
        "You can also mix integer indexing with slice indexing. However, doing so will yield an array of lower rank than the original array. \n",
        "\n",
        "**Note:** This is quite different from the way that MATLAB handles array slicing."
      ]
    },
    {
      "cell_type": "code",
      "metadata": {
        "id": "lyflrRsm8hmL",
        "colab_type": "code",
        "colab": {
          "base_uri": "https://localhost:8080/",
          "height": 71
        },
        "outputId": "1312c1f8-70e2-45b9-ac8d-0de0fdb626d4"
      },
      "source": [
        "# Create the following rank 2 array with shape (3, 4)\n",
        "a = np.array([[1,2,3,4], [5,6,7,8], [9,10,11,12]])\n",
        "print(a)"
      ],
      "execution_count": 84,
      "outputs": [
        {
          "output_type": "stream",
          "text": [
            "[[ 1  2  3  4]\n",
            " [ 5  6  7  8]\n",
            " [ 9 10 11 12]]\n"
          ],
          "name": "stdout"
        }
      ]
    },
    {
      "cell_type": "markdown",
      "metadata": {
        "id": "PfaqjfPt8hmT",
        "colab_type": "text"
      },
      "source": [
        "Two ways of accessing the data in the middle row of the array.\n",
        "Mixing integer indexing with slices yields an array of lower rank,\n",
        "while using only slices yields an array of the same rank as the\n",
        "original array:"
      ]
    },
    {
      "cell_type": "code",
      "metadata": {
        "id": "mpDkijkQ8hmT",
        "colab_type": "code",
        "colab": {
          "base_uri": "https://localhost:8080/",
          "height": 71
        },
        "outputId": "25f3f286-5cfa-4ed4-c268-b54e08f99101"
      },
      "source": [
        "row_r1 = a[1, :]    # Rank 1 view of the second row of a  \n",
        "row_r2 = a[1:2, :]  # Rank 2 view of the second row of a\n",
        "row_r3 = a[[1], :]  # Rank 2 view of the second row of a\n",
        "print(row_r1, row_r1.shape) \n",
        "print(row_r2, row_r2.shape)\n",
        "print(row_r3, row_r3.shape)"
      ],
      "execution_count": 85,
      "outputs": [
        {
          "output_type": "stream",
          "text": [
            "[5 6 7 8] (4,)\n",
            "[[5 6 7 8]] (1, 4)\n",
            "[[5 6 7 8]] (1, 4)\n"
          ],
          "name": "stdout"
        }
      ]
    },
    {
      "cell_type": "markdown",
      "metadata": {
        "id": "j6m167Wa8hmb",
        "colab_type": "text"
      },
      "source": [
        "We can make the same distinction when accessing columns of an array:"
      ]
    },
    {
      "cell_type": "code",
      "metadata": {
        "id": "d_icQtQJ8hmc",
        "colab_type": "code",
        "colab": {
          "base_uri": "https://localhost:8080/",
          "height": 89
        },
        "outputId": "f391e41c-b2d7-4195-b7ce-92dfb9e8599f"
      },
      "source": [
        "col_r1 = a[:, 1]\n",
        "col_r2 = a[:, 1:2]\n",
        "print(col_r1, col_r1.shape)\n",
        "print(col_r2, col_r2.shape)"
      ],
      "execution_count": 86,
      "outputs": [
        {
          "output_type": "stream",
          "text": [
            "[ 2  6 10] (3,)\n",
            "[[ 2]\n",
            " [ 6]\n",
            " [10]] (3, 1)\n"
          ],
          "name": "stdout"
        }
      ]
    },
    {
      "cell_type": "markdown",
      "metadata": {
        "id": "asOOwrIS8hms",
        "colab_type": "text"
      },
      "source": [
        "Integer array indexing \n",
        "\n",
        "* When you index into numpy arrays using slicing, the resulting array view will always be a subarray of the original array. \n",
        "* In contrast, integer array indexing allows you to construct arbitrary arrays using the data from another array. \n",
        "\n",
        "Here is an example:"
      ]
    },
    {
      "cell_type": "code",
      "metadata": {
        "id": "LawEuQtR8hms",
        "colab_type": "code",
        "colab": {
          "base_uri": "https://localhost:8080/",
          "height": 71
        },
        "outputId": "2654b808-8a6c-40db-a7d7-971501a36ad9"
      },
      "source": [
        "a = np.array([[1,2], [3, 4], [5, 6]])\n",
        "print(a)"
      ],
      "execution_count": 87,
      "outputs": [
        {
          "output_type": "stream",
          "text": [
            "[[1 2]\n",
            " [3 4]\n",
            " [5 6]]\n"
          ],
          "name": "stdout"
        }
      ]
    },
    {
      "cell_type": "markdown",
      "metadata": {
        "id": "2g3vzbDr8hmu",
        "colab_type": "text"
      },
      "source": [
        "An example of integer array indexing. The returned array will have shape `(3,)`."
      ]
    },
    {
      "cell_type": "code",
      "metadata": {
        "id": "tPDkjxOA8hmv",
        "colab_type": "code",
        "colab": {
          "base_uri": "https://localhost:8080/",
          "height": 35
        },
        "outputId": "de77301a-90fd-4f21-8cb8-68d063350e6b"
      },
      "source": [
        "a[[0, 1, 2], [0, 1, 0]]"
      ],
      "execution_count": 88,
      "outputs": [
        {
          "output_type": "execute_result",
          "data": {
            "text/plain": [
              "array([1, 4, 5])"
            ]
          },
          "metadata": {
            "tags": []
          },
          "execution_count": 88
        }
      ]
    },
    {
      "cell_type": "markdown",
      "metadata": {
        "id": "SLZfD6qJ8hmx",
        "colab_type": "text"
      },
      "source": [
        "The above example of integer array indexing is equivalent to this:"
      ]
    },
    {
      "cell_type": "code",
      "metadata": {
        "id": "C55trqUk8hmx",
        "colab_type": "code",
        "colab": {
          "base_uri": "https://localhost:8080/",
          "height": 35
        },
        "outputId": "f10d186e-83c7-4b3c-8744-bcca8fc9a9a1"
      },
      "source": [
        "np.array([a[0, 0], a[1, 1], a[2, 0]])"
      ],
      "execution_count": 89,
      "outputs": [
        {
          "output_type": "execute_result",
          "data": {
            "text/plain": [
              "array([1, 4, 5])"
            ]
          },
          "metadata": {
            "tags": []
          },
          "execution_count": 89
        }
      ]
    },
    {
      "cell_type": "markdown",
      "metadata": {
        "id": "o1RrA2wx8hmz",
        "colab_type": "text"
      },
      "source": [
        "When using integer array indexing, you can reuse the same element from the source array:"
      ]
    },
    {
      "cell_type": "code",
      "metadata": {
        "id": "kPFhSvrl8hm9",
        "colab_type": "code",
        "colab": {
          "base_uri": "https://localhost:8080/",
          "height": 35
        },
        "outputId": "77900281-0da0-43bd-e30f-bf08fbf23714"
      },
      "source": [
        "a[[0, 0], [1, 1]]"
      ],
      "execution_count": 90,
      "outputs": [
        {
          "output_type": "execute_result",
          "data": {
            "text/plain": [
              "array([2, 2])"
            ]
          },
          "metadata": {
            "tags": []
          },
          "execution_count": 90
        }
      ]
    },
    {
      "cell_type": "markdown",
      "metadata": {
        "id": "Y6q3KUnX8hnG",
        "colab_type": "text"
      },
      "source": [
        "Equivalent to the previous integer array indexing example"
      ]
    },
    {
      "cell_type": "code",
      "metadata": {
        "id": "UiijQdNT8hnH",
        "colab_type": "code",
        "colab": {
          "base_uri": "https://localhost:8080/",
          "height": 35
        },
        "outputId": "069c1779-5788-4062-a0ca-9a203816404d"
      },
      "source": [
        "np.array([a[0, 1], a[0, 1]])"
      ],
      "execution_count": 91,
      "outputs": [
        {
          "output_type": "execute_result",
          "data": {
            "text/plain": [
              "array([2, 2])"
            ]
          },
          "metadata": {
            "tags": []
          },
          "execution_count": 91
        }
      ]
    },
    {
      "cell_type": "markdown",
      "metadata": {
        "id": "z-inBF_58hnJ",
        "colab_type": "text"
      },
      "source": [
        "One useful trick with integer array indexing is selecting or mutating one element from each row of a matrix:\n",
        "\n",
        "Create a new array from which we will select elements"
      ]
    },
    {
      "cell_type": "code",
      "metadata": {
        "id": "nFV_d6f08hnJ",
        "colab_type": "code",
        "colab": {
          "base_uri": "https://localhost:8080/",
          "height": 89
        },
        "outputId": "1e4dd671-8197-4769-9eee-82790a13357a"
      },
      "source": [
        "a = np.array([[1,2,3], [4,5,6], [7,8,9], [10, 11, 12]])\n",
        "print(a)"
      ],
      "execution_count": 92,
      "outputs": [
        {
          "output_type": "stream",
          "text": [
            "[[ 1  2  3]\n",
            " [ 4  5  6]\n",
            " [ 7  8  9]\n",
            " [10 11 12]]\n"
          ],
          "name": "stdout"
        }
      ]
    },
    {
      "cell_type": "markdown",
      "metadata": {
        "id": "F879tMfs8hnL",
        "colab_type": "text"
      },
      "source": [
        "Create an array of indices"
      ]
    },
    {
      "cell_type": "code",
      "metadata": {
        "id": "5-ocNaNv8hnM",
        "colab_type": "code",
        "colab": {}
      },
      "source": [
        "b = np.array([0, 2, 0, 1])"
      ],
      "execution_count": 0,
      "outputs": []
    },
    {
      "cell_type": "markdown",
      "metadata": {
        "id": "MOlYO9tr8hnS",
        "colab_type": "text"
      },
      "source": [
        "Select one element from each row of a using the indices in `b`."
      ]
    },
    {
      "cell_type": "code",
      "metadata": {
        "id": "3CAI15ea8hnS",
        "colab_type": "code",
        "colab": {
          "base_uri": "https://localhost:8080/",
          "height": 35
        },
        "outputId": "7180708f-9a28-4fcb-b0a6-876fe8c0c58a"
      },
      "source": [
        "print(a[np.arange(4), b])  # Prints \"[ 1  6  7 11]\""
      ],
      "execution_count": 94,
      "outputs": [
        {
          "output_type": "stream",
          "text": [
            "[ 1  6  7 11]\n"
          ],
          "name": "stdout"
        }
      ]
    },
    {
      "cell_type": "markdown",
      "metadata": {
        "id": "mLLOpfPm8hnU",
        "colab_type": "text"
      },
      "source": [
        "Mutate one element from each row of a using the indices in `b`."
      ]
    },
    {
      "cell_type": "code",
      "metadata": {
        "id": "CQV6jv-l8hnV",
        "colab_type": "code",
        "colab": {
          "base_uri": "https://localhost:8080/",
          "height": 89
        },
        "outputId": "0500b4fa-3b8c-4567-d076-afc1ae766bdf"
      },
      "source": [
        "a[np.arange(4), b] += 10\n",
        "print(a)"
      ],
      "execution_count": 95,
      "outputs": [
        {
          "output_type": "stream",
          "text": [
            "[[11  2  3]\n",
            " [ 4  5 16]\n",
            " [17  8  9]\n",
            " [10 21 12]]\n"
          ],
          "name": "stdout"
        }
      ]
    },
    {
      "cell_type": "markdown",
      "metadata": {
        "id": "4MSnwC-g8hnf",
        "colab_type": "text"
      },
      "source": [
        "Boolean array indexing: Boolean array indexing lets you pick out arbitrary elements of an array. Frequently this type of indexing is used to select the elements of an array that satisfy some condition. Here is an example:"
      ]
    },
    {
      "cell_type": "code",
      "metadata": {
        "id": "xrmnxs_P8hng",
        "colab_type": "code",
        "colab": {}
      },
      "source": [
        "a = np.array([[1,2], [3, 4], [5, 6]])"
      ],
      "execution_count": 0,
      "outputs": []
    },
    {
      "cell_type": "markdown",
      "metadata": {
        "id": "BqLdisIy8hnw",
        "colab_type": "text"
      },
      "source": [
        "Find the elements of a that are bigger than 2:"
      ]
    },
    {
      "cell_type": "code",
      "metadata": {
        "id": "OX7E0HI98hnx",
        "colab_type": "code",
        "colab": {
          "base_uri": "https://localhost:8080/",
          "height": 71
        },
        "outputId": "a17bd377-d10e-4a3c-f3ee-4c30051e215b"
      },
      "source": [
        "bool_idx = (a > 2)\n",
        "print(bool_idx)"
      ],
      "execution_count": 97,
      "outputs": [
        {
          "output_type": "stream",
          "text": [
            "[[False False]\n",
            " [ True  True]\n",
            " [ True  True]]\n"
          ],
          "name": "stdout"
        }
      ]
    },
    {
      "cell_type": "markdown",
      "metadata": {
        "id": "TYIlV_Lt8hn1",
        "colab_type": "text"
      },
      "source": [
        "This returns a numpy array of Booleans of the same shape as a, where each slot of bool_idx tells whether that element of a is > 2."
      ]
    },
    {
      "cell_type": "markdown",
      "metadata": {
        "id": "l3AsLhax8hn6",
        "colab_type": "text"
      },
      "source": [
        "We use boolean array indexing to construct a rank 1 array consisting of the elements of a corresponding to the `True` values of `bool_idx`."
      ]
    },
    {
      "cell_type": "code",
      "metadata": {
        "id": "P3s1d8fU8hn7",
        "colab_type": "code",
        "colab": {
          "base_uri": "https://localhost:8080/",
          "height": 35
        },
        "outputId": "039533f1-f356-4a7b-a1b7-397e53087dbb"
      },
      "source": [
        "print(a[bool_idx])"
      ],
      "execution_count": 98,
      "outputs": [
        {
          "output_type": "stream",
          "text": [
            "[3 4 5 6]\n"
          ],
          "name": "stdout"
        }
      ]
    },
    {
      "cell_type": "markdown",
      "metadata": {
        "id": "gQSR-bP28hn9",
        "colab_type": "text"
      },
      "source": [
        "We can do all of the above in a single concise statement:"
      ]
    },
    {
      "cell_type": "code",
      "metadata": {
        "id": "s7rG-6Ep8hn-",
        "colab_type": "code",
        "colab": {
          "base_uri": "https://localhost:8080/",
          "height": 35
        },
        "outputId": "4d26a955-3628-4bd3-afaf-cbd63237d2d5"
      },
      "source": [
        "print(a[a > 2])"
      ],
      "execution_count": 99,
      "outputs": [
        {
          "output_type": "stream",
          "text": [
            "[3 4 5 6]\n"
          ],
          "name": "stdout"
        }
      ]
    },
    {
      "cell_type": "markdown",
      "metadata": {
        "id": "JKBaf0iU8hoA",
        "colab_type": "text"
      },
      "source": [
        "For brevity we have left out a lot of details about numpy array indexing; if you want to know more you should read the documentation."
      ]
    },
    {
      "cell_type": "markdown",
      "metadata": {
        "id": "PwIIO45i8hoB",
        "colab_type": "text"
      },
      "source": [
        "## Datatypes"
      ]
    },
    {
      "cell_type": "markdown",
      "metadata": {
        "id": "w8Q1zRWP8hoF",
        "colab_type": "text"
      },
      "source": [
        "Every numpy array is a grid of elements of the same type. Numpy provides a large set of numeric datatypes that you can use to construct arrays. Numpy tries to guess a datatype when you create an array, but functions that construct arrays usually also include an optional argument to explicitly specify the datatype. Here is an example:"
      ]
    },
    {
      "cell_type": "code",
      "metadata": {
        "id": "Bv1yFIme8hoG",
        "colab_type": "code",
        "colab": {
          "base_uri": "https://localhost:8080/",
          "height": 35
        },
        "outputId": "d7fe40a4-e33e-4ad6-fd9a-2383019f0256"
      },
      "source": [
        "import numpy as np\n",
        "x = np.array([1, 2])                  # Let numpy choose the datatype\n",
        "y = np.array([1.0, 2.0])              # Let numpy choose the datatype\n",
        "z = np.array([1, 2], dtype=np.float32)  # Force a particular datatype\n",
        "\n",
        "print(x.dtype, y.dtype, z.dtype)"
      ],
      "execution_count": 100,
      "outputs": [
        {
          "output_type": "stream",
          "text": [
            "int64 float64 float32\n"
          ],
          "name": "stdout"
        }
      ]
    },
    {
      "cell_type": "markdown",
      "metadata": {
        "id": "fnFKnOk28hoJ",
        "colab_type": "text"
      },
      "source": [
        "You can read all about numpy datatypes in the [documentation](http://docs.scipy.org/doc/numpy/reference/arrays.dtypes.html)."
      ]
    },
    {
      "cell_type": "markdown",
      "metadata": {
        "id": "UuaZWirc8hoJ",
        "colab_type": "text"
      },
      "source": [
        "## Array math"
      ]
    },
    {
      "cell_type": "markdown",
      "metadata": {
        "id": "maXg0Hae8hoK",
        "colab_type": "text"
      },
      "source": [
        "Basic mathematical functions operate elementwise on arrays, and are available both as operator overloads and as functions in the numpy module:"
      ]
    },
    {
      "cell_type": "code",
      "metadata": {
        "id": "Ut11DbWH8hoS",
        "colab_type": "code",
        "colab": {}
      },
      "source": [
        "x = np.array([[1,2],[3,4]], dtype=np.float64)\n",
        "y = np.array([[5,6],[7,8]], dtype=np.float64)"
      ],
      "execution_count": 0,
      "outputs": []
    },
    {
      "cell_type": "code",
      "metadata": {
        "id": "pAluyD1g8hoh",
        "colab_type": "code",
        "colab": {
          "base_uri": "https://localhost:8080/",
          "height": 53
        },
        "outputId": "24193e8b-b1ec-42c4-9d67-2d9fd600e961"
      },
      "source": [
        "print(x + y)"
      ],
      "execution_count": 102,
      "outputs": [
        {
          "output_type": "stream",
          "text": [
            "[[ 6.  8.]\n",
            " [10. 12.]]\n"
          ],
          "name": "stdout"
        }
      ]
    },
    {
      "cell_type": "code",
      "metadata": {
        "id": "ReKEegrd8hoj",
        "colab_type": "code",
        "colab": {
          "base_uri": "https://localhost:8080/",
          "height": 53
        },
        "outputId": "fc0a4073-dfba-476b-e6b2-ccf5782eb485"
      },
      "source": [
        "print(np.add(x, y))"
      ],
      "execution_count": 103,
      "outputs": [
        {
          "output_type": "stream",
          "text": [
            "[[ 6.  8.]\n",
            " [10. 12.]]\n"
          ],
          "name": "stdout"
        }
      ]
    },
    {
      "cell_type": "markdown",
      "metadata": {
        "id": "LM67afGj8ho3",
        "colab_type": "text"
      },
      "source": [
        "Elementwise difference"
      ]
    },
    {
      "cell_type": "code",
      "metadata": {
        "id": "WzGkXJky8ho3",
        "colab_type": "code",
        "colab": {
          "base_uri": "https://localhost:8080/",
          "height": 89
        },
        "outputId": "10f65b86-7673-4d14-804c-681bc8b566fd"
      },
      "source": [
        "print(x - y)\n",
        "print(np.subtract(x, y))"
      ],
      "execution_count": 104,
      "outputs": [
        {
          "output_type": "stream",
          "text": [
            "[[-4. -4.]\n",
            " [-4. -4.]]\n",
            "[[-4. -4.]\n",
            " [-4. -4.]]\n"
          ],
          "name": "stdout"
        }
      ]
    },
    {
      "cell_type": "markdown",
      "metadata": {
        "id": "OZuAc23v8hpC",
        "colab_type": "text"
      },
      "source": [
        "Elementwise product"
      ]
    },
    {
      "cell_type": "code",
      "metadata": {
        "id": "YrVVD2xh8hpD",
        "colab_type": "code",
        "colab": {
          "base_uri": "https://localhost:8080/",
          "height": 89
        },
        "outputId": "ead1a1ab-ab80-4fee-ea2d-75d9ff2c0386"
      },
      "source": [
        "print(x * y)\n",
        "print(np.multiply(x, y))"
      ],
      "execution_count": 105,
      "outputs": [
        {
          "output_type": "stream",
          "text": [
            "[[ 5. 12.]\n",
            " [21. 32.]]\n",
            "[[ 5. 12.]\n",
            " [21. 32.]]\n"
          ],
          "name": "stdout"
        }
      ]
    },
    {
      "cell_type": "markdown",
      "metadata": {
        "id": "uC6NZK0Y8hpF",
        "colab_type": "text"
      },
      "source": [
        "Elementwise division - both produce the same result."
      ]
    },
    {
      "cell_type": "code",
      "metadata": {
        "id": "chUm_Iuj8hpS",
        "colab_type": "code",
        "colab": {
          "base_uri": "https://localhost:8080/",
          "height": 89
        },
        "outputId": "ab9724f5-b3fb-4518-a93b-38d25a70e083"
      },
      "source": [
        "print(x / y)\n",
        "print(np.divide(x, y))"
      ],
      "execution_count": 106,
      "outputs": [
        {
          "output_type": "stream",
          "text": [
            "[[0.2        0.33333333]\n",
            " [0.42857143 0.5       ]]\n",
            "[[0.2        0.33333333]\n",
            " [0.42857143 0.5       ]]\n"
          ],
          "name": "stdout"
        }
      ]
    },
    {
      "cell_type": "markdown",
      "metadata": {
        "id": "BkB2UVDD8hpU",
        "colab_type": "text"
      },
      "source": [
        "Elementwise square root; "
      ]
    },
    {
      "cell_type": "code",
      "metadata": {
        "id": "THRilFnO8hpU",
        "colab_type": "code",
        "colab": {
          "base_uri": "https://localhost:8080/",
          "height": 53
        },
        "outputId": "88e551f8-3488-4bd6-8982-18e038a7116d"
      },
      "source": [
        "print(np.sqrt(x))"
      ],
      "execution_count": 107,
      "outputs": [
        {
          "output_type": "stream",
          "text": [
            "[[1.         1.41421356]\n",
            " [1.73205081 2.        ]]\n"
          ],
          "name": "stdout"
        }
      ]
    },
    {
      "cell_type": "markdown",
      "metadata": {
        "id": "86E_xvVK8hpi",
        "colab_type": "text"
      },
      "source": [
        "## Important note:\n",
        "\n",
        "* Unlike MATLAB, `*` is elementwise multiplication, not matrix multiplication. \n",
        "* We instead use the `numpy.dot()` function to compute inner products of vectors, to multiply a vector by a matrix, and to multiply matrices. \n",
        "* `dot()` is available both as a function in the `numpy` module and as an instance method of array objects."
      ]
    },
    {
      "cell_type": "code",
      "metadata": {
        "id": "4BO-cuVp8hpj",
        "colab_type": "code",
        "colab": {
          "base_uri": "https://localhost:8080/",
          "height": 53
        },
        "outputId": "7542873b-ed8e-402e-bebf-39e323078a25"
      },
      "source": [
        "x = np.array([[1,2],[3,4]])\n",
        "y = np.array([[5,6],[7,8]])\n",
        "\n",
        "v = np.array([9,10])\n",
        "w = np.array([11, 12])\n",
        "\n",
        "# Inner product of vectors; both produce 219\n",
        "print(v.dot(w))\n",
        "print(np.dot(v, w))"
      ],
      "execution_count": 111,
      "outputs": [
        {
          "output_type": "stream",
          "text": [
            "219\n",
            "219\n"
          ],
          "name": "stdout"
        }
      ]
    },
    {
      "cell_type": "code",
      "metadata": {
        "id": "nlhclOR98hpl",
        "colab_type": "code",
        "colab": {
          "base_uri": "https://localhost:8080/",
          "height": 53
        },
        "outputId": "0d010bcf-bc00-40fb-bbb5-49dceaa4a9cd"
      },
      "source": [
        "# Matrix / vector product; both produce the rank 1 array [29 67]\n",
        "print(x.dot(v))\n",
        "print(np.dot(x, v))"
      ],
      "execution_count": 112,
      "outputs": [
        {
          "output_type": "stream",
          "text": [
            "[29 67]\n",
            "[29 67]\n"
          ],
          "name": "stdout"
        }
      ]
    },
    {
      "cell_type": "code",
      "metadata": {
        "id": "GgYaX7sz8hqC",
        "colab_type": "code",
        "colab": {
          "base_uri": "https://localhost:8080/",
          "height": 89
        },
        "outputId": "49f35796-cd81-4901-d0f0-597ab120b88b"
      },
      "source": [
        "# Matrix / matrix product; both produce the rank 2 array\n",
        "# [[19 22]\n",
        "#  [43 50]]\n",
        "print(x.dot(y))\n",
        "print(np.dot(x, y))"
      ],
      "execution_count": 113,
      "outputs": [
        {
          "output_type": "stream",
          "text": [
            "[[19 22]\n",
            " [43 50]]\n",
            "[[19 22]\n",
            " [43 50]]\n"
          ],
          "name": "stdout"
        }
      ]
    },
    {
      "cell_type": "markdown",
      "metadata": {
        "id": "GpFxfiv98hqE",
        "colab_type": "text"
      },
      "source": [
        "Numpy provides many useful functions for performing computations on arrays; one of the most useful is `sum`:"
      ]
    },
    {
      "cell_type": "code",
      "metadata": {
        "id": "ZqcH47Ad8hqP",
        "colab_type": "code",
        "colab": {
          "base_uri": "https://localhost:8080/",
          "height": 53
        },
        "outputId": "613458cd-7a97-44b6-8ec7-42c466fd9554"
      },
      "source": [
        "x = np.array([[1,2],[3,4]])\n",
        "print(x)"
      ],
      "execution_count": 114,
      "outputs": [
        {
          "output_type": "stream",
          "text": [
            "[[1 2]\n",
            " [3 4]]\n"
          ],
          "name": "stdout"
        }
      ]
    },
    {
      "cell_type": "code",
      "metadata": {
        "id": "t-qRqB-98hqY",
        "colab_type": "code",
        "colab": {
          "base_uri": "https://localhost:8080/",
          "height": 35
        },
        "outputId": "f928d4e7-0492-47df-c336-cfe583754270"
      },
      "source": [
        "np.sum(x)  # Compute sum of all elements; prints \"10\""
      ],
      "execution_count": 115,
      "outputs": [
        {
          "output_type": "execute_result",
          "data": {
            "text/plain": [
              "10"
            ]
          },
          "metadata": {
            "tags": []
          },
          "execution_count": 115
        }
      ]
    },
    {
      "cell_type": "code",
      "metadata": {
        "id": "XfAhARfT8hqb",
        "colab_type": "code",
        "colab": {
          "base_uri": "https://localhost:8080/",
          "height": 35
        },
        "outputId": "58a5f874-e13b-470b-ff8f-47008b77fd28"
      },
      "source": [
        "np.sum(x, axis=0)  # Compute sum of each column; prints \"[4 6]\""
      ],
      "execution_count": 116,
      "outputs": [
        {
          "output_type": "execute_result",
          "data": {
            "text/plain": [
              "array([4, 6])"
            ]
          },
          "metadata": {
            "tags": []
          },
          "execution_count": 116
        }
      ]
    },
    {
      "cell_type": "code",
      "metadata": {
        "id": "3IFqdp3E8hqv",
        "colab_type": "code",
        "colab": {
          "base_uri": "https://localhost:8080/",
          "height": 35
        },
        "outputId": "bc91f1af-5e09-4847-edaf-88225c82a17a"
      },
      "source": [
        "np.sum(x, axis=1)  # Compute sum of each row; prints \"[3 7]\""
      ],
      "execution_count": 117,
      "outputs": [
        {
          "output_type": "execute_result",
          "data": {
            "text/plain": [
              "array([3, 7])"
            ]
          },
          "metadata": {
            "tags": []
          },
          "execution_count": 117
        }
      ]
    },
    {
      "cell_type": "markdown",
      "metadata": {
        "id": "T7IgDDyU8hrB",
        "colab_type": "text"
      },
      "source": [
        "You can find the full list of mathematical functions provided by numpy in the [documentation](http://docs.scipy.org/doc/numpy/reference/routines.math.html).\n",
        "\n",
        "Apart from computing mathematical functions using arrays, we frequently need to reshape or otherwise manipulate data in arrays. The simplest example of this type of operation is transposing a matrix; to transpose a matrix, simply use the T attribute of an array object:"
      ]
    },
    {
      "cell_type": "code",
      "metadata": {
        "id": "ouGYmlM18hrC",
        "colab_type": "code",
        "colab": {
          "base_uri": "https://localhost:8080/",
          "height": 89
        },
        "outputId": "8f3b9ee1-d7b0-426b-f78c-2b641e8add83"
      },
      "source": [
        "print(x)\n",
        "print(x.T)"
      ],
      "execution_count": 118,
      "outputs": [
        {
          "output_type": "stream",
          "text": [
            "[[1 2]\n",
            " [3 4]]\n",
            "[[1 3]\n",
            " [2 4]]\n"
          ],
          "name": "stdout"
        }
      ]
    },
    {
      "cell_type": "code",
      "metadata": {
        "id": "7ao0oODj8hrF",
        "colab_type": "code",
        "colab": {
          "base_uri": "https://localhost:8080/",
          "height": 53
        },
        "outputId": "55507414-e0dd-477b-f9e6-9b72a350f9f1"
      },
      "source": [
        "v = np.array([1,2,3])\n",
        "print(v) \n",
        "print(v.T)"
      ],
      "execution_count": 119,
      "outputs": [
        {
          "output_type": "stream",
          "text": [
            "[1 2 3]\n",
            "[1 2 3]\n"
          ],
          "name": "stdout"
        }
      ]
    },
    {
      "cell_type": "markdown",
      "metadata": {
        "id": "zQ2ijfGI8hrT",
        "colab_type": "text"
      },
      "source": [
        "Is `numpy` actually faster than 'plain' Python?"
      ]
    },
    {
      "cell_type": "code",
      "metadata": {
        "id": "76NUNGQg8hrU",
        "colab_type": "code",
        "colab": {}
      },
      "source": [
        "import random\n",
        "import numpy as np"
      ],
      "execution_count": 0,
      "outputs": []
    },
    {
      "cell_type": "code",
      "metadata": {
        "id": "_vKVfYve8hrc",
        "colab_type": "code",
        "colab": {
          "base_uri": "https://localhost:8080/",
          "height": 35
        },
        "outputId": "a9099feb-4126-4b71-8ae2-bdf7822c0e07"
      },
      "source": [
        "%timeit sum([random.random() for _ in range(random.randint(10000,10100))])"
      ],
      "execution_count": 121,
      "outputs": [
        {
          "output_type": "stream",
          "text": [
            "1000 loops, best of 3: 1.17 ms per loop\n"
          ],
          "name": "stdout"
        }
      ]
    },
    {
      "cell_type": "code",
      "metadata": {
        "id": "-Yb6bmZi8hsL",
        "colab_type": "code",
        "colab": {
          "base_uri": "https://localhost:8080/",
          "height": 35
        },
        "outputId": "0e14b02d-f259-48a3-bb23-01768b8bca83"
      },
      "source": [
        "%timeit np.sum(np.random.random(random.randint(10000,10100)))"
      ],
      "execution_count": 122,
      "outputs": [
        {
          "output_type": "stream",
          "text": [
            "10000 loops, best of 3: 120 µs per loop\n"
          ],
          "name": "stdout"
        }
      ]
    },
    {
      "cell_type": "markdown",
      "metadata": {
        "id": "t4Iw7Ej78huG",
        "colab_type": "text"
      },
      "source": [
        "# [Matplotlib](http://matplotlib.org/)"
      ]
    },
    {
      "cell_type": "markdown",
      "metadata": {
        "id": "FIdZafW28huI",
        "colab_type": "text"
      },
      "source": [
        "* Matplotlib is a plotting library. \n",
        "* Provides a plotting system similar -and in my opinion better- to that of MATLAB."
      ]
    },
    {
      "cell_type": "code",
      "metadata": {
        "id": "qIQAeUMV8huJ",
        "colab_type": "code",
        "colab": {}
      },
      "source": [
        "import matplotlib.pyplot as plt"
      ],
      "execution_count": 0,
      "outputs": []
    },
    {
      "cell_type": "markdown",
      "metadata": {
        "id": "JRZw57V08huT",
        "colab_type": "text"
      },
      "source": [
        "By running this special IPython notebook *magic* command, we will be displaying plots inline and with appropiate resolutions for *retina* displays. Check the docs for more options."
      ]
    },
    {
      "cell_type": "code",
      "metadata": {
        "id": "FNa5FfzZ8huU",
        "colab_type": "code",
        "colab": {}
      },
      "source": [
        "%matplotlib inline\n",
        "%config InlineBackend.figure_format = 'retina'"
      ],
      "execution_count": 0,
      "outputs": []
    },
    {
      "cell_type": "markdown",
      "metadata": {
        "id": "ALFiNjra8huX",
        "colab_type": "text"
      },
      "source": [
        "## Plotting"
      ]
    },
    {
      "cell_type": "markdown",
      "metadata": {
        "id": "HonRtIMG8huX",
        "colab_type": "text"
      },
      "source": [
        "The most important function in `matplotlib` is `plot`, which allows you to plot 2D data. \n",
        "Here is a simple example:"
      ]
    },
    {
      "cell_type": "code",
      "metadata": {
        "id": "hNVHsMAv8huY",
        "colab_type": "code",
        "colab": {
          "base_uri": "https://localhost:8080/",
          "height": 267
        },
        "outputId": "9aa7fca7-d848-416b-fa74-326d343d58f9"
      },
      "source": [
        "# Compute the x and y coordinates for points on a sine curve\n",
        "x = np.arange(0, 3 * np.pi, 0.1)\n",
        "y_sin = np.sin(x)\n",
        "\n",
        "# Plot the points using matplotlib\n",
        "plt.plot(x, y_sin);"
      ],
      "execution_count": 125,
      "outputs": [
        {
          "output_type": "display_data",
          "data": {
            "image/png": "[encoded data removed]",
            "text/plain": [
              "<Figure size 432x288 with 1 Axes>"
            ]
          },
          "metadata": {
            "tags": [],
            "image/png": {
              "width": 388,
              "height": 250
            }
          }
        }
      ]
    },
    {
      "cell_type": "markdown",
      "metadata": {
        "id": "oVrMmRea8huj",
        "colab_type": "text"
      },
      "source": [
        "With just a little bit of extra work we can easily plot multiple lines at once, and add a title, legend, and axis labels:"
      ]
    },
    {
      "cell_type": "code",
      "metadata": {
        "id": "hY8eA9Th8huj",
        "colab_type": "code",
        "colab": {
          "base_uri": "https://localhost:8080/",
          "height": 294
        },
        "outputId": "87aaa907-fba5-45e0-b62f-848c2d09e1a1"
      },
      "source": [
        "y_cos = np.cos(x)\n",
        "plt.plot(x, y_sin)\n",
        "plt.plot(x, y_cos)\n",
        "plt.xlabel('x axis label')\n",
        "plt.ylabel('y axis label')\n",
        "plt.title('Sine and Cosine')\n",
        "plt.legend(['Sine', 'Cosine']);"
      ],
      "execution_count": 126,
      "outputs": [
        {
          "output_type": "display_data",
          "data": {
            "image/png": "[encoded data removed]",
            "text/plain": [
              "<Figure size 432x288 with 1 Axes>"
            ]
          },
          "metadata": {
            "tags": [],
            "image/png": {
              "width": 402,
              "height": 277
            }
          }
        }
      ]
    },
    {
      "cell_type": "markdown",
      "metadata": {
        "id": "j80Io-x98hum",
        "colab_type": "text"
      },
      "source": [
        "## Subplots "
      ]
    },
    {
      "cell_type": "markdown",
      "metadata": {
        "id": "ohCpI58g8hun",
        "colab_type": "text"
      },
      "source": [
        "You can plot different things in the same figure using the subplot function. Here is an example:"
      ]
    },
    {
      "cell_type": "code",
      "metadata": {
        "id": "zeb1uG2P8hut",
        "colab_type": "code",
        "colab": {
          "base_uri": "https://localhost:8080/",
          "height": 296
        },
        "outputId": "9f1a4094-d267-4ac1-ccb1-14c675dca599"
      },
      "source": [
        "plt.subplot(2, 1, 1)\n",
        "plt.plot(x, y_sin)\n",
        "plt.title('Sine')\n",
        "plt.subplot(2, 1, 2)\n",
        "plt.plot(x, y_cos)\n",
        "plt.title('Cosine')\n",
        "plt.tight_layout()"
      ],
      "execution_count": 127,
      "outputs": [
        {
          "output_type": "display_data",
          "data": {
            "image/png": "[encoded data removed]",
            "text/plain": [
              "<Figure size 432x288 with 2 Axes>"
            ]
          },
          "metadata": {
            "tags": [],
            "image/png": {
              "width": 423,
              "height": 279
            }
          }
        }
      ]
    },
    {
      "cell_type": "markdown",
      "metadata": {
        "id": "-udf12948huv",
        "colab_type": "text"
      },
      "source": [
        "Check out Nicolas P. Rougier's [Matplotlib tutorial](http://www.labri.fr/perso/nrougier/teaching/matplotlib/matplotlib.html)."
      ]
    },
    {
      "cell_type": "markdown",
      "metadata": {
        "id": "6Ub38p_78huw",
        "colab_type": "text"
      },
      "source": [
        "# Further reading\n",
        "\n",
        "* [Official Python 3 Docs are here](http://docs.python.org/3/).\n",
        "* [IPython tutorial](http://ipython.org/ipython-doc/dev/interactive/tutorial.html).\n",
        "* [Learn Python The Hard Way](http://learnpythonthehardway.org/book/)\n",
        "* [Dive Into Python](http://www.diveintopython.net/), in particular if you're interested in Python 3.\n",
        "* [Invent With Python](http://inventwithpython.com/), probably best for kids.\n",
        "* [Python Functional Programming HOWTO](http://docs.python.org/2/howto/functional.html)\n",
        "* [The Structure and Interpretation of Computer Programs](http://mitpress.mit.edu/sicp/full-text/book/book.html), written in Scheme, a Lisp dialect, but one of the best books on computer programming ever written.\n",
        "* [Generator Tricks for Systems Programmers](http://www.dabeaz.com/generators/) Beazley's slides on just what generators can do for you.\n",
        "* [Python Module of the Week](http://pymotw.com/2/contents.html) is a series going through in-depth analysis of the Python standard library in a very easy to understand way."
      ]
    },
    {
      "cell_type": "markdown",
      "metadata": {
        "id": "fBoO13-s8hux",
        "colab_type": "text"
      },
      "source": [
        "# (other) interesting IPython notebooks\n",
        "\n",
        "* Rob Johansson's [excellent notebooks](http://jrjohansson.github.io/), including [Scientific Computing with Python](https://github.com/jrjohansson/scientific-python-lectures) and [Computational Quantum Physics with QuTiP](https://github.com/jrjohansson/qutip-lectures) lectures;\n",
        "* [XKCD style graphs in matplotlib](http://nbviewer.ipython.org/url/jakevdp.github.com/downloads/notebooks/XKCD_plots.ipynb);\n",
        "* [A collection of Notebooks for using IPython effectively](https://github.com/ipython/ipython/tree/master/examples/notebooks#a-collection-of-notebooks-for-using-ipython-effectively)\n",
        "* [A gallery of interesting IPython Notebooks](https://github.com/ipython/ipython/wiki/A-gallery-of-interesting-IPython-Notebooks)\n",
        "* [Cross-disciplinary computational analysis IPython Notebooks From Hadoop World 2012](https://github.com/invisibleroads/crosscompute-tutorials)\n",
        "* [Quantites](http://nbviewer.ipython.org/urls/raw.github.com/tbekolay/pyconca2012/master/QuantitiesTutorial.ipynb) Units in Python.\n",
        "    - [Another units module is here](http://www.southampton.ac.uk/~fangohr/blog/)"
      ]
    },
    {
      "cell_type": "markdown",
      "metadata": {
        "id": "COB7klLL8hu2",
        "colab_type": "text"
      },
      "source": [
        "# Acknowledgments\n",
        "\n",
        "* Part of this material has been adapted from the `CS231n` Python tutorial by Justin Johnson (http://cs231n.github.io/python-numpy-tutorial/).\n",
        "\n",
        "<hr/>\n",
        "<div class=\"container-fluid\">\n",
        "  <div class='well'>\n",
        "      <div class=\"row\">\n",
        "          <div class=\"col-md-3\" align='center'>\n",
        "              <img align='center'alt=\"Creative Commons License\" style=\"border-width:0\" src=\"https://i.creativecommons.org/l/by-nc-sa/4.0/88x31.png\"/>\n",
        "          </div>\n",
        "          <div class=\"col-md-9\">\n",
        "              This work is licensed under a [Creative Commons Attribution-NonCommercial-ShareAlike 4.0 International License](http://creativecommons.org/licenses/by-nc-sa/4.0/).\n",
        "          </div>\n",
        "      </div>\n",
        "  </div>\n",
        "</div>"
      ]
    },
    {
      "cell_type": "markdown",
      "metadata": {
        "id": "Gg9qvr_h8hu-",
        "colab_type": "text"
      },
      "source": [
        "--- "
      ]
    }
  ]
}